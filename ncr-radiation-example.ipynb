{
 "cells": [
  {
   "cell_type": "markdown",
   "id": "b2902bc5",
   "metadata": {},
   "source": [
    "### Goals (tentative)\n",
    "\n",
    "* Characterize distribution of FUV (and EUV?) radiation field \n",
    "    - as a function of height from the midplane\n",
    "        - Comparison of time-averaged z-profile obtained using `zprof` output with the plane-parallel approximation given by Ostriker et al. (2010)\n",
    "            - See also https://nbviewer.jupyter.org/url/tigress-web.princeton.edu/~jk11/notebook/NCR-RADIATION/notes-on-JFUV-plane-parallel.ipynb?flush_cache=true\n",
    "        - Comparison using `vtk` output - mass/volume-weighted average vs. plane-parallel solution\n",
    "\n",
    "    - correlation with gas density and/or thermal pressure (focus on diffuse HI)\n",
    "        - Wolfire et al. (2003)\n",
    "    - temporal variation at a fixed point in space?\n",
    "    - near/far sources?\n",
    "    \n",
    "* What fraction of FUV radiation is absorbed by dust grains?\n",
    "    - What fraction is used to heating up the gas by photoelectric effect?\n",
    "        - Characterize heating efficiency and grain charging parameter [in different phases]\n",
    "\n",
    "* Compare radiation field to existing models (e.g., Elmegreen & Parravano 1994; Parravano et al. 2003; Ostriker et al. 2010; Bialy 2020)\n",
    "\n",
    "* Escape fraction of EUV/FUV photons\n",
    "\n",
    "* Strength of EUV (or LyC) radiation field in diffuse ionized gas?\n",
    "\n"
   ]
  },
  {
   "cell_type": "markdown",
   "id": "1429a869",
   "metadata": {},
   "source": [
    "### Install pyathena scripts on stellar\n",
    "\n",
    "https://github.com/PrincetonUniversity/Athena-TIGRESS/wiki/pyathena\n",
    "\n",
    "### pythena tutorial notebooks\n",
    "\n",
    "https://github.com/jeonggyukim/pyathena/blob/master/notebook/pyathena-example1.ipynb\n",
    "\n",
    "https://github.com/jeonggyukim/pyathena/blob/master/notebook/pyathena-example2.ipynb"
   ]
  },
  {
   "cell_type": "markdown",
   "id": "94c22ef2",
   "metadata": {},
   "source": [
    "### Setting up .pythonrc.py file (optional)\n",
    "\n",
    "* Add `export PYTHONSTARTUP=\"$HOME/.pythonrc.py\"` to `~/.bashrc`\n",
    "* Add `export PYTHONPATH=\"/tigress/MYID/pyathena:$PYTHONPATH` to `~/.bashrc`\n",
    "* Alternatively, add the path manually `sys.path.append('PATH_TO_PYATHENA')` "
   ]
  },
  {
   "cell_type": "code",
   "execution_count": 1,
   "id": "29d8f45d",
   "metadata": {},
   "outputs": [],
   "source": [
    "# %load /tigress/jk11/.pythonrc.py\n",
    "\n",
    "# import pyathena as pa"
   ]
  },
  {
   "cell_type": "markdown",
   "id": "67974091",
   "metadata": {},
   "source": [
    "### Wiki page for TIGRESS-NCR\n",
    "\n",
    "https://github.com/PrincetonUniversity/Athena-TIGRESS/wiki/TIGRESS-NCR\n",
    "\n",
    "\n",
    "#### Models to be analyzed\n",
    "\n",
    "https://github.com/PrincetonUniversity/Athena-TIGRESS/wiki/TIGRESS-NCR#default-models-to-be-analyzed"
   ]
  },
  {
   "cell_type": "markdown",
   "id": "1f25b3d7",
   "metadata": {},
   "source": [
    "### TIGRESS-NCR simulations"
   ]
  },
  {
   "cell_type": "code",
   "execution_count": 2,
   "id": "cce709b3",
   "metadata": {},
   "outputs": [
    {
     "name": "stdout",
     "output_type": "stream",
     "text": [
      "['move_files.py', 'LGR4_4pc_NCR.UV', 'storage.082721', 'R8_8pc_NCR.full.q0', 'R8_8pc_NCR.full.B1', 'move_from_pleiades', 'R8_8pc_NCR.full.B1.rovib', 'LGR4_4pc_NCR.SN', 'R8_4pc_NCR.full', 'LGR4_8pc_NCR.full.rovib', 'LGR4_4pc_NCR.classic', 'LGR4_combined_figures', 'R8_8pc_NCR.full', 'R8_combined_figures', 'LGR4_4pc_NCR.full.norun', 'restart_files', 'storage.052521', 'LGR4_4pc_NCR.full.Om30', 'LGR4_8pc_NCRSP.full.y2.norun', 'R8_8pc_NCR.full.norot', 'LGR4_8pc_NCR.full', 'R8_8pc_NCR.SN', 'R8_16pc_NCR.full', 'R8_8pc_NCR.full.hd', 'LGR4_4pc_NCR.full.Z1.xy1024.eps1.e-8', 'storage.091321', 'LGR4_4pc_NCR.full.B', 'LGR4_4pc_NCR.full', 'R8_8pc_NCR.UV', 'LGR4_8pc_NCR.full.B', 'LGR4_4pc_NCR_Z03', 'R8_8pc_NCR.classic', 'R8_8pc_NCR.UV.b10', 'LGR4_2pc_NCR.full']\n"
     ]
    }
   ],
   "source": [
    "# Model directories\n",
    "print(os.listdir('/tigress/changgoo/TIGRESS-NCR'))"
   ]
  },
  {
   "cell_type": "code",
   "execution_count": 3,
   "id": "15f8c366",
   "metadata": {},
   "outputs": [
    {
     "data": {
      "text/plain": [
       "['R8_4pc', 'R8_8pc', 'R8_16pc', 'LGR4_2pc', 'LGR4_4pc', 'LGR4_8pc']"
      ]
     },
     "execution_count": 3,
     "metadata": {},
     "output_type": "execute_result"
    }
   ],
   "source": [
    "models = dict(\n",
    "    R8_4pc='/tigress/changgoo/TIGRESS-NCR/R8_4pc_NCR.full/',\n",
    "    R8_8pc='/tigress/changgoo/TIGRESS-NCR/R8_8pc_NCR.full.B1/',\n",
    "    R8_16pc='/tigress/changgoo/TIGRESS-NCR/R8_16pc_NCR.full/',\n",
    "    LGR4_2pc='/tigress/changgoo/TIGRESS-NCR/LGR4_2pc_NCR.full/',\n",
    "    LGR4_4pc='/tigress/changgoo/TIGRESS-NCR/LGR4_4pc_NCR.full/',\n",
    "    LGR4_8pc='/tigress/changgoo/TIGRESS-NCR/LGR4_8pc_NCR.full/',\n",
    ")\n",
    "\n",
    "# Load all simulations\n",
    "sa = pa.LoadSimTIGRESSNCRAll(models)\n",
    "sa.models"
   ]
  },
  {
   "cell_type": "code",
   "execution_count": 4,
   "id": "222ff240",
   "metadata": {},
   "outputs": [
    {
     "data": {
      "text/plain": [
       "dict_keys(['athinput', 'timeit', 'hst', 'sn', 'vtk', 'vtk_id0', 'starpar_vtk', 'zprof', 'rst'])"
      ]
     },
     "execution_count": 4,
     "metadata": {},
     "output_type": "execute_result"
    }
   ],
   "source": [
    "savdir = '/tigress/jk11/NCR-RAD/'\n",
    "s = sa.set_model('R8_16pc', savdir=savdir)\n",
    "s.files.keys() # output file types"
   ]
  },
  {
   "cell_type": "code",
   "execution_count": 5,
   "id": "b16a0cf1",
   "metadata": {},
   "outputs": [
    {
     "name": "stdout",
     "output_type": "stream",
     "text": [
      "0 1000 1001\n"
     ]
    }
   ],
   "source": [
    "# print vtk snapshot numbers, number of snapshots\n",
    "print(s.nums[0], s.nums[-1], len(s.nums))"
   ]
  },
  {
   "cell_type": "code",
   "execution_count": 6,
   "id": "ffb52849",
   "metadata": {},
   "outputs": [
    {
     "data": {
      "text/plain": [
       "{'Nx': array([ 64,  64, 384]),\n",
       " 'ndim': 3,\n",
       " 'le': array([ -512,  -512, -3072]),\n",
       " 're': array([ 512,  512, 3072]),\n",
       " 'Lx': array([1024, 1024, 6144]),\n",
       " 'dx': array([16., 16., 16.]),\n",
       " 'center': array([0., 0., 0.]),\n",
       " 'time': None}"
      ]
     },
     "execution_count": 6,
     "metadata": {},
     "output_type": "execute_result"
    }
   ],
   "source": [
    "# print domain information in code units (pc)\n",
    "s.domain"
   ]
  },
  {
   "cell_type": "markdown",
   "id": "dc47d0a7",
   "metadata": {},
   "source": [
    "# Adopted simulation parameters and code configuration"
   ]
  },
  {
   "cell_type": "code",
   "execution_count": 7,
   "id": "cf15fd80",
   "metadata": {},
   "outputs": [
    {
     "name": "stdout",
     "output_type": "stream",
     "text": [
      "dict_keys(['job', 'log', 'output1', 'output2', 'output3', 'output4', 'output5', 'time', 'domain1', 'problem', 'feedback', 'cooling', 'opacity', 'radps', 'configure'])\n",
      "{'sigma_dust_PH0': 1e-21, 'sigma_dust_LW0': 2e-21, 'sigma_dust_PE0': 1e-21, 'sigma_HI_PH': 3e-18, 'sigma_H2_PH': 6e-18}\n"
     ]
    }
   ],
   "source": [
    "print(s.par.keys())\n",
    "print(s.par['opacity']) # Dust cross sections per H (for PH/LW/PE) and photoionization cross sections (for PH) in cgs units"
   ]
  },
  {
   "cell_type": "markdown",
   "id": "5b084605",
   "metadata": {},
   "source": [
    "### Units (see `pyathena/pyathena/utils/unit.py`)"
   ]
  },
  {
   "cell_type": "code",
   "execution_count": 8,
   "id": "dd78d333",
   "metadata": {},
   "outputs": [],
   "source": [
    "u = s.u # Equivalently, u = pa.Units()"
   ]
  },
  {
   "cell_type": "code",
   "execution_count": 9,
   "id": "cf1d57e9",
   "metadata": {},
   "outputs": [
    {
     "data": {
      "text/latex": [
       "$2.3433527 \\times 10^{-24} \\; \\mathrm{\\frac{g}{cm^{3}}}$"
      ],
      "text/plain": [
       "<Quantity 2.34335273e-24 g / cm3>"
      ]
     },
     "execution_count": 9,
     "metadata": {},
     "output_type": "execute_result"
    }
   ],
   "source": [
    "pa.Units(muH=1.4).density"
   ]
  },
  {
   "cell_type": "markdown",
   "id": "51a23eb3",
   "metadata": {},
   "source": [
    "* Length $[L] : 1\\,{\\rm pc}$  \n",
    "    - `1 code length` $\\leftrightarrow 1\\,{\\rm pc}$\n",
    "* Velocity $[L/T] : 1\\,{\\rm km}\\,{\\rm s}^{-1}$\n",
    "    - `1 code velocity` $\\leftrightarrow 1\\,{\\rm km}\\,{\\rm s}^{-1}$\n",
    "* Density $[M/L^3] : 1.4 m_{\\rm H}\\,{\\rm cm}^{-3}$ (the factor 1.4 accounts for ~9.5\\% Helium and other heavy elements)\n",
    "    - `1 code density` $\\leftrightarrow 1 {\\rm hydrogen}\\,{\\rm nucleus}\\,{\\rm cm}^{-3}$ or $1.4 m_{\\rm H}\\,{\\rm cm}^{-3} = 2.34 \\times 10^{-24}\\,{\\rm g}\\,{\\rm cm}^{-3}$\n",
    "\n",
    "**All other units can be derived from the above three.**\n",
    "\n",
    "For example,\n",
    "\n",
    "* `1 code mass` $= 1.4 m_{\\rm H}\\,{\\rm cm}^{-3} \\times (1\\,{\\rm pc})^3 \\approx 0.0353 M_{\\odot}$\n",
    "\n",
    "\n",
    "* `1 code time` $= 1\\,{\\rm pc} / (1\\,{\\rm km}\\,{\\rm s}^{-1}) \\approx 0.978\\,{\\rm Myr}$\n",
    "\n",
    "\n",
    "* `1 code energy density` $= 1.4 m_{\\rm H}\\,{\\rm cm}^{-3} \\times (1\\,{\\rm km}\\,{\\rm s}^{-1})^2 = 2.34 \\times 10^{-14}\\,{\\rm erg}\\,{\\rm cm}^{-3}$."
   ]
  },
  {
   "cell_type": "code",
   "execution_count": 10,
   "id": "0da4c2f5",
   "metadata": {},
   "outputs": [
    {
     "name": "stdout",
     "output_type": "stream",
     "text": [
      "<pyathena.util.units.Units object at 0x1534fd6c0460>\n"
     ]
    }
   ],
   "source": [
    "print(u)"
   ]
  },
  {
   "cell_type": "code",
   "execution_count": 11,
   "id": "7ecd2248",
   "metadata": {},
   "outputs": [
    {
     "name": "stdout",
     "output_type": "stream",
     "text": [
      "length:  1.0 pc\n",
      "velocity:  1.0 km / s\n",
      "density:  2.3433527307859195e-24 g / cm3\n",
      "time:  30856775814913.676 s\n",
      "mass:  0.0346244904274392 solMass\n",
      "energy density:  2.34335273078592e-14 erg / cm3\n",
      "energy_flux:  7.041135837168312e+41 erg / (kpc2 yr)\n",
      "momentum flux 0.03541088756865028 km solMass / (kpc2 s yr)\n"
     ]
    }
   ],
   "source": [
    "# these are astropy quantity objects\n",
    "print('length: ',u.length)\n",
    "print('velocity: ', u.velocity)\n",
    "print('density: ', u.density)\n",
    "print('time: ', u.time)\n",
    "print('mass: ', u.mass)\n",
    "print('energy density: ', u.energy_density)\n",
    "print('energy_flux: ', u.energy_flux)\n",
    "print('momentum flux', u.momentum_flux)"
   ]
  },
  {
   "cell_type": "code",
   "execution_count": 12,
   "id": "6c784ef6",
   "metadata": {},
   "outputs": [],
   "source": [
    "# %load /tigress/jk11/pyathena/pyathena/tigress_ncr/zprof.py"
   ]
  },
  {
   "cell_type": "code",
   "execution_count": 13,
   "id": "18cf8a98",
   "metadata": {},
   "outputs": [],
   "source": [
    "# %load /tigress/jk11/pyathena/pyathena/util/units.py"
   ]
  },
  {
   "cell_type": "code",
   "execution_count": 14,
   "id": "1ee6ea1e",
   "metadata": {},
   "outputs": [
    {
     "data": {
      "text/latex": [
       "$5.5904724 \\times 10^{-5} \\; \\mathrm{\\frac{erg}{s\\,sr\\,cm^{2}}}$"
      ],
      "text/plain": [
       "<Quantity 5.59047235e-05 erg / (cm2 s sr)>"
      ]
     },
     "execution_count": 14,
     "metadata": {},
     "output_type": "execute_result"
    }
   ],
   "source": [
    "(u.energy_density/(4*np.pi*au.sr)*ac.c).to('erg cm-2 sr-1 s-1') # intensity unit in cgs"
   ]
  },
  {
   "cell_type": "code",
   "execution_count": 15,
   "id": "b4ee6ced",
   "metadata": {},
   "outputs": [
    {
     "name": "stdout",
     "output_type": "stream",
     "text": [
      "3.085677581491367e+18 1.0 0.9777922216807893 1.0 0.0346244904274392 4.297134103243345e+53\n"
     ]
    }
   ],
   "source": [
    "# these are floats\n",
    "# You can convert from code units to physical units by **multiplying** these constants\n",
    "print(u.cm, u.pc, u.Myr, u.kms, u.Msun, u.eV)"
   ]
  },
  {
   "cell_type": "code",
   "execution_count": 16,
   "id": "5c0a895b",
   "metadata": {},
   "outputs": [
    {
     "data": {
      "text/plain": [
       "(0.9777922216807893, 0.9777922216807893)"
      ]
     },
     "execution_count": 16,
     "metadata": {},
     "output_type": "execute_result"
    }
   ],
   "source": [
    "u.time.to('Myr').value, u.Myr"
   ]
  },
  {
   "cell_type": "code",
   "execution_count": 17,
   "id": "ca538a03",
   "metadata": {},
   "outputs": [
    {
     "data": {
      "text/plain": [
       "(3.085677581491367e+18, 3.085677581491367e+18)"
      ]
     },
     "execution_count": 17,
     "metadata": {},
     "output_type": "execute_result"
    }
   ],
   "source": [
    "u.length.to('cm').value, u.cm"
   ]
  },
  {
   "cell_type": "markdown",
   "id": "d9ed7c6d",
   "metadata": {},
   "source": [
    "## Load vtk output"
   ]
  },
  {
   "cell_type": "code",
   "execution_count": 18,
   "id": "75dc0fb4",
   "metadata": {},
   "outputs": [
    {
     "name": "stdout",
     "output_type": "stream",
     "text": [
      "<pyathena.io.read_vtk.AthenaDataSet object at 0x153508133100> 200.0042\n"
     ]
    }
   ],
   "source": [
    "s = pa.LoadSimTIGRESSNCR('/tigress/changgoo/TIGRESS-NCR/R8_16pc_NCR.full/')\n",
    "num = s.nums[200]\n",
    "ds = s.load_vtk(num) #, load_method='pyathena') # Default load_method is pyathena\n",
    "print(ds, ds.domain['time'])"
   ]
  },
  {
   "cell_type": "markdown",
   "id": "b249bf3a",
   "metadata": {},
   "source": [
    "For analysis with [yt](https://yt-project.org/doc/quickstart/index.html), specifying load_method='yt' will set `units_override` parameter automatically:"
   ]
  },
  {
   "cell_type": "code",
   "execution_count": 19,
   "id": "49a7f2f7",
   "metadata": {},
   "outputs": [],
   "source": [
    "# dsyt = s.load_vtk(s.nums[200], load_method='yt')"
   ]
  },
  {
   "cell_type": "markdown",
   "id": "db51e234",
   "metadata": {},
   "source": [
    "## Fields \n",
    "\n",
    "* see `Athena-TIGRESS/src/vtk_dump.c` and `pyathena/pyathena/fields/fields.py` for source codes"
   ]
  },
  {
   "cell_type": "code",
   "execution_count": 20,
   "id": "625f0160",
   "metadata": {},
   "outputs": [
    {
     "name": "stdout",
     "output_type": "stream",
     "text": [
      "Field list: ['density', 'velocity', 'pressure', 'cell_centered_B', 'gravitational_potential', 'heat_rate', 'cool_rate', 'net_cool_rate', 'CR_ionization_rate', 'rad_energy_density_PH', 'rad_energy_density_LW', 'rad_energy_density_PE', 'rad_energy_density_LW_diss', 'specific_scalar[0]', 'specific_scalar[1]', 'xHI', 'xH2', 'xe']\n"
     ]
    }
   ],
   "source": [
    "print('Field list:', ds.field_list)"
   ]
  },
  {
   "cell_type": "markdown",
   "id": "e52a658e",
   "metadata": {},
   "source": [
    "* Variables in `field_list` are from raw vtk files and given in code units in general.\n",
    "\n",
    "\n",
    "* `TIGRESS-NCR` simulations have the following fields in vtk dumps:\n",
    "    - Basic hydro variables: gas `density`, `velocity`, and (thermal) `pressure`.\n",
    "    - With self-gravity: `gravitational_potential` (in units of `(velocity unit)^2`)\n",
    "    - With MHD: `cell_centered_B` (in units of square root of `(energy_density unit)/(4pi)`)\n",
    "    - With adaptive ray tracing: `rad_energy_density_[freq_bin]`, where the frequency bin is one of the following\n",
    "        - PH : ${\\rm H}$-, ${\\rm H}_2$-photoionizing; or Lyman continuum ($\\lambda <91.2\\,{\\rm nm}$)\n",
    "        - LW : Lyman-Werner ($91.2\\,{\\rm nm} < \\lambda < 110.8\\,{\\rm nm}$)\n",
    "        - PE : Photoelectric ($110.8\\,{\\rm nm} < \\lambda < 206.8\\,{\\rm nm}$)\n",
    "        - LW_diss : ${\\rm H}_2$-dissociating (($91.2\\,{\\rm nm} < \\lambda < 110.8\\,{\\rm nm}$ with self-sheilding)\n",
    "    - Gas temperature: $T = P/[(1.1 + x_e - x_{\\rm H_2}) n_{\\rm H} k_{\\rm B}]$ (in units of Kelvin)\n",
    "    - Electron fraction: `xe` defined as $0 \\le x_e \\equiv n_e/n_{\\rm H} \\le 1.2$\n",
    "    - H2 fraction: `xH2` defined as $0 \\le x_{\\rm H_2} \\equiv n_{\\rm H_2}/n_{\\rm H} \\le 0.5$\n",
    "    - Passive scalars for metals in the background medium and metals newly produced by SNe: `specific_scalar[0]` and `specific_scalar[1]`\n",
    "    - Cooling/heating related quantities (these are non-essential but dumped for convenience):\n",
    "        - Volumetric instantaneous heating and cooling rates: `heat_rate` and `cool_rate` (**given in cgs units** (erg/cm^3/s)).\n",
    "        - `CR_ionization_rate` : primary cosmic ray ionization rate in cgs units (`sec^-1`)\n",
    "\n",
    "\n",
    "* **What we need for the ncr-radiation project** are quantities derived from `density`, `pressure`, `rad_energy_density_XX`. For phase selection (and possibly quantifying grain charging parameter), we will also need `T`, `xH2`, and `xe`."
   ]
  },
  {
   "cell_type": "code",
   "execution_count": 21,
   "id": "e208376c",
   "metadata": {},
   "outputs": [
    {
     "name": "stdout",
     "output_type": "stream",
     "text": [
      "Derived field list: ['rho', 'nH', 'pok', 'r', 'vmag', 'vr', 'vx', 'vy', 'vz', 'cs', 'csound', 'Mr', 'Mr_abs', 'T', 'Td', 'cool_rate', 'heat_rate', 'net_cool_rate', 'Lambda_cool', 'nHLambda_cool', 'nHLambda_cool_net', 'Gamma_heat', 't_cool', 'vAmag', 'vAx', 'vAy', 'vAz', 'Bx', 'By', 'Bz', 'Bmag', 'nH2', '2nH2', 'xH2', '2xH2', 'nHI', 'xHI', 'nHII', 'xHII', 'nHn', 'xn', 'ne', 'nesq', 'xe', 'xCI', 'nCI', 'xCII', 'xi_CR', 'T_alt', 'chi_PE', 'chi_LW', 'chi_FUV', 'Erad_LyC', 'Erad_FUV', 'heat_ratio', 'NHeff', 'chi_H2', 'chi_CI', 'fshld_H2', 'j_X']\n"
     ]
    }
   ],
   "source": [
    "print('Derived field list:', ds.derived_field_list)"
   ]
  },
  {
   "cell_type": "code",
   "execution_count": 22,
   "id": "20d0f3e8",
   "metadata": {},
   "outputs": [],
   "source": [
    "# Load number density of hydrogen, EUV/FUV radiation fields (in code units), etc.\n",
    "d = ds.get_field(['nH','rad_energy_density_PE','rad_energy_density_LW','chi_FUV','T'])"
   ]
  },
  {
   "cell_type": "markdown",
   "id": "d16bdd19",
   "metadata": {},
   "source": [
    "* Resources for xarray tutorials can be found here:\n",
    "\n",
    "https://xarray.pydata.org/en/stable/tutorials-and-videos.html"
   ]
  },
  {
   "cell_type": "code",
   "execution_count": 23,
   "id": "5b623108",
   "metadata": {},
   "outputs": [
    {
     "data": {
      "text/html": [
       "<div><svg style=\"position: absolute; width: 0; height: 0; overflow: hidden\">\n",
       "<defs>\n",
       "<symbol id=\"icon-database\" viewBox=\"0 0 32 32\">\n",
       "<path d=\"M16 0c-8.837 0-16 2.239-16 5v4c0 2.761 7.163 5 16 5s16-2.239 16-5v-4c0-2.761-7.163-5-16-5z\"></path>\n",
       "<path d=\"M16 17c-8.837 0-16-2.239-16-5v6c0 2.761 7.163 5 16 5s16-2.239 16-5v-6c0 2.761-7.163 5-16 5z\"></path>\n",
       "<path d=\"M16 26c-8.837 0-16-2.239-16-5v6c0 2.761 7.163 5 16 5s16-2.239 16-5v-6c0 2.761-7.163 5-16 5z\"></path>\n",
       "</symbol>\n",
       "<symbol id=\"icon-file-text2\" viewBox=\"0 0 32 32\">\n",
       "<path d=\"M28.681 7.159c-0.694-0.947-1.662-2.053-2.724-3.116s-2.169-2.030-3.116-2.724c-1.612-1.182-2.393-1.319-2.841-1.319h-15.5c-1.378 0-2.5 1.121-2.5 2.5v27c0 1.378 1.122 2.5 2.5 2.5h23c1.378 0 2.5-1.122 2.5-2.5v-19.5c0-0.448-0.137-1.23-1.319-2.841zM24.543 5.457c0.959 0.959 1.712 1.825 2.268 2.543h-4.811v-4.811c0.718 0.556 1.584 1.309 2.543 2.268zM28 29.5c0 0.271-0.229 0.5-0.5 0.5h-23c-0.271 0-0.5-0.229-0.5-0.5v-27c0-0.271 0.229-0.5 0.5-0.5 0 0 15.499-0 15.5 0v7c0 0.552 0.448 1 1 1h7v19.5z\"></path>\n",
       "<path d=\"M23 26h-14c-0.552 0-1-0.448-1-1s0.448-1 1-1h14c0.552 0 1 0.448 1 1s-0.448 1-1 1z\"></path>\n",
       "<path d=\"M23 22h-14c-0.552 0-1-0.448-1-1s0.448-1 1-1h14c0.552 0 1 0.448 1 1s-0.448 1-1 1z\"></path>\n",
       "<path d=\"M23 18h-14c-0.552 0-1-0.448-1-1s0.448-1 1-1h14c0.552 0 1 0.448 1 1s-0.448 1-1 1z\"></path>\n",
       "</symbol>\n",
       "</defs>\n",
       "</svg>\n",
       "<style>/* CSS stylesheet for displaying xarray objects in jupyterlab.\n",
       " *\n",
       " */\n",
       "\n",
       ":root {\n",
       "  --xr-font-color0: var(--jp-content-font-color0, rgba(0, 0, 0, 1));\n",
       "  --xr-font-color2: var(--jp-content-font-color2, rgba(0, 0, 0, 0.54));\n",
       "  --xr-font-color3: var(--jp-content-font-color3, rgba(0, 0, 0, 0.38));\n",
       "  --xr-border-color: var(--jp-border-color2, #e0e0e0);\n",
       "  --xr-disabled-color: var(--jp-layout-color3, #bdbdbd);\n",
       "  --xr-background-color: var(--jp-layout-color0, white);\n",
       "  --xr-background-color-row-even: var(--jp-layout-color1, white);\n",
       "  --xr-background-color-row-odd: var(--jp-layout-color2, #eeeeee);\n",
       "}\n",
       "\n",
       "html[theme=dark],\n",
       "body.vscode-dark {\n",
       "  --xr-font-color0: rgba(255, 255, 255, 1);\n",
       "  --xr-font-color2: rgba(255, 255, 255, 0.54);\n",
       "  --xr-font-color3: rgba(255, 255, 255, 0.38);\n",
       "  --xr-border-color: #1F1F1F;\n",
       "  --xr-disabled-color: #515151;\n",
       "  --xr-background-color: #111111;\n",
       "  --xr-background-color-row-even: #111111;\n",
       "  --xr-background-color-row-odd: #313131;\n",
       "}\n",
       "\n",
       ".xr-wrap {\n",
       "  display: block;\n",
       "  min-width: 300px;\n",
       "  max-width: 700px;\n",
       "}\n",
       "\n",
       ".xr-text-repr-fallback {\n",
       "  /* fallback to plain text repr when CSS is not injected (untrusted notebook) */\n",
       "  display: none;\n",
       "}\n",
       "\n",
       ".xr-header {\n",
       "  padding-top: 6px;\n",
       "  padding-bottom: 6px;\n",
       "  margin-bottom: 4px;\n",
       "  border-bottom: solid 1px var(--xr-border-color);\n",
       "}\n",
       "\n",
       ".xr-header > div,\n",
       ".xr-header > ul {\n",
       "  display: inline;\n",
       "  margin-top: 0;\n",
       "  margin-bottom: 0;\n",
       "}\n",
       "\n",
       ".xr-obj-type,\n",
       ".xr-array-name {\n",
       "  margin-left: 2px;\n",
       "  margin-right: 10px;\n",
       "}\n",
       "\n",
       ".xr-obj-type {\n",
       "  color: var(--xr-font-color2);\n",
       "}\n",
       "\n",
       ".xr-sections {\n",
       "  padding-left: 0 !important;\n",
       "  display: grid;\n",
       "  grid-template-columns: 150px auto auto 1fr 20px 20px;\n",
       "}\n",
       "\n",
       ".xr-section-item {\n",
       "  display: contents;\n",
       "}\n",
       "\n",
       ".xr-section-item input {\n",
       "  display: none;\n",
       "}\n",
       "\n",
       ".xr-section-item input + label {\n",
       "  color: var(--xr-disabled-color);\n",
       "}\n",
       "\n",
       ".xr-section-item input:enabled + label {\n",
       "  cursor: pointer;\n",
       "  color: var(--xr-font-color2);\n",
       "}\n",
       "\n",
       ".xr-section-item input:enabled + label:hover {\n",
       "  color: var(--xr-font-color0);\n",
       "}\n",
       "\n",
       ".xr-section-summary {\n",
       "  grid-column: 1;\n",
       "  color: var(--xr-font-color2);\n",
       "  font-weight: 500;\n",
       "}\n",
       "\n",
       ".xr-section-summary > span {\n",
       "  display: inline-block;\n",
       "  padding-left: 0.5em;\n",
       "}\n",
       "\n",
       ".xr-section-summary-in:disabled + label {\n",
       "  color: var(--xr-font-color2);\n",
       "}\n",
       "\n",
       ".xr-section-summary-in + label:before {\n",
       "  display: inline-block;\n",
       "  content: '►';\n",
       "  font-size: 11px;\n",
       "  width: 15px;\n",
       "  text-align: center;\n",
       "}\n",
       "\n",
       ".xr-section-summary-in:disabled + label:before {\n",
       "  color: var(--xr-disabled-color);\n",
       "}\n",
       "\n",
       ".xr-section-summary-in:checked + label:before {\n",
       "  content: '▼';\n",
       "}\n",
       "\n",
       ".xr-section-summary-in:checked + label > span {\n",
       "  display: none;\n",
       "}\n",
       "\n",
       ".xr-section-summary,\n",
       ".xr-section-inline-details {\n",
       "  padding-top: 4px;\n",
       "  padding-bottom: 4px;\n",
       "}\n",
       "\n",
       ".xr-section-inline-details {\n",
       "  grid-column: 2 / -1;\n",
       "}\n",
       "\n",
       ".xr-section-details {\n",
       "  display: none;\n",
       "  grid-column: 1 / -1;\n",
       "  margin-bottom: 5px;\n",
       "}\n",
       "\n",
       ".xr-section-summary-in:checked ~ .xr-section-details {\n",
       "  display: contents;\n",
       "}\n",
       "\n",
       ".xr-array-wrap {\n",
       "  grid-column: 1 / -1;\n",
       "  display: grid;\n",
       "  grid-template-columns: 20px auto;\n",
       "}\n",
       "\n",
       ".xr-array-wrap > label {\n",
       "  grid-column: 1;\n",
       "  vertical-align: top;\n",
       "}\n",
       "\n",
       ".xr-preview {\n",
       "  color: var(--xr-font-color3);\n",
       "}\n",
       "\n",
       ".xr-array-preview,\n",
       ".xr-array-data {\n",
       "  padding: 0 5px !important;\n",
       "  grid-column: 2;\n",
       "}\n",
       "\n",
       ".xr-array-data,\n",
       ".xr-array-in:checked ~ .xr-array-preview {\n",
       "  display: none;\n",
       "}\n",
       "\n",
       ".xr-array-in:checked ~ .xr-array-data,\n",
       ".xr-array-preview {\n",
       "  display: inline-block;\n",
       "}\n",
       "\n",
       ".xr-dim-list {\n",
       "  display: inline-block !important;\n",
       "  list-style: none;\n",
       "  padding: 0 !important;\n",
       "  margin: 0;\n",
       "}\n",
       "\n",
       ".xr-dim-list li {\n",
       "  display: inline-block;\n",
       "  padding: 0;\n",
       "  margin: 0;\n",
       "}\n",
       "\n",
       ".xr-dim-list:before {\n",
       "  content: '(';\n",
       "}\n",
       "\n",
       ".xr-dim-list:after {\n",
       "  content: ')';\n",
       "}\n",
       "\n",
       ".xr-dim-list li:not(:last-child):after {\n",
       "  content: ',';\n",
       "  padding-right: 5px;\n",
       "}\n",
       "\n",
       ".xr-has-index {\n",
       "  font-weight: bold;\n",
       "}\n",
       "\n",
       ".xr-var-list,\n",
       ".xr-var-item {\n",
       "  display: contents;\n",
       "}\n",
       "\n",
       ".xr-var-item > div,\n",
       ".xr-var-item label,\n",
       ".xr-var-item > .xr-var-name span {\n",
       "  background-color: var(--xr-background-color-row-even);\n",
       "  margin-bottom: 0;\n",
       "}\n",
       "\n",
       ".xr-var-item > .xr-var-name:hover span {\n",
       "  padding-right: 5px;\n",
       "}\n",
       "\n",
       ".xr-var-list > li:nth-child(odd) > div,\n",
       ".xr-var-list > li:nth-child(odd) > label,\n",
       ".xr-var-list > li:nth-child(odd) > .xr-var-name span {\n",
       "  background-color: var(--xr-background-color-row-odd);\n",
       "}\n",
       "\n",
       ".xr-var-name {\n",
       "  grid-column: 1;\n",
       "}\n",
       "\n",
       ".xr-var-dims {\n",
       "  grid-column: 2;\n",
       "}\n",
       "\n",
       ".xr-var-dtype {\n",
       "  grid-column: 3;\n",
       "  text-align: right;\n",
       "  color: var(--xr-font-color2);\n",
       "}\n",
       "\n",
       ".xr-var-preview {\n",
       "  grid-column: 4;\n",
       "}\n",
       "\n",
       ".xr-var-name,\n",
       ".xr-var-dims,\n",
       ".xr-var-dtype,\n",
       ".xr-preview,\n",
       ".xr-attrs dt {\n",
       "  white-space: nowrap;\n",
       "  overflow: hidden;\n",
       "  text-overflow: ellipsis;\n",
       "  padding-right: 10px;\n",
       "}\n",
       "\n",
       ".xr-var-name:hover,\n",
       ".xr-var-dims:hover,\n",
       ".xr-var-dtype:hover,\n",
       ".xr-attrs dt:hover {\n",
       "  overflow: visible;\n",
       "  width: auto;\n",
       "  z-index: 1;\n",
       "}\n",
       "\n",
       ".xr-var-attrs,\n",
       ".xr-var-data {\n",
       "  display: none;\n",
       "  background-color: var(--xr-background-color) !important;\n",
       "  padding-bottom: 5px !important;\n",
       "}\n",
       "\n",
       ".xr-var-attrs-in:checked ~ .xr-var-attrs,\n",
       ".xr-var-data-in:checked ~ .xr-var-data {\n",
       "  display: block;\n",
       "}\n",
       "\n",
       ".xr-var-data > table {\n",
       "  float: right;\n",
       "}\n",
       "\n",
       ".xr-var-name span,\n",
       ".xr-var-data,\n",
       ".xr-attrs {\n",
       "  padding-left: 25px !important;\n",
       "}\n",
       "\n",
       ".xr-attrs,\n",
       ".xr-var-attrs,\n",
       ".xr-var-data {\n",
       "  grid-column: 1 / -1;\n",
       "}\n",
       "\n",
       "dl.xr-attrs {\n",
       "  padding: 0;\n",
       "  margin: 0;\n",
       "  display: grid;\n",
       "  grid-template-columns: 125px auto;\n",
       "}\n",
       "\n",
       ".xr-attrs dt,\n",
       ".xr-attrs dd {\n",
       "  padding: 0;\n",
       "  margin: 0;\n",
       "  float: left;\n",
       "  padding-right: 10px;\n",
       "  width: auto;\n",
       "}\n",
       "\n",
       ".xr-attrs dt {\n",
       "  font-weight: normal;\n",
       "  grid-column: 1;\n",
       "}\n",
       "\n",
       ".xr-attrs dt:hover span {\n",
       "  display: inline-block;\n",
       "  background: var(--xr-background-color);\n",
       "  padding-right: 10px;\n",
       "}\n",
       "\n",
       ".xr-attrs dd {\n",
       "  grid-column: 2;\n",
       "  white-space: pre-wrap;\n",
       "  word-break: break-all;\n",
       "}\n",
       "\n",
       ".xr-icon-database,\n",
       ".xr-icon-file-text2 {\n",
       "  display: inline-block;\n",
       "  vertical-align: middle;\n",
       "  width: 1em;\n",
       "  height: 1.5em !important;\n",
       "  stroke-width: 0;\n",
       "  stroke: currentColor;\n",
       "  fill: currentColor;\n",
       "}\n",
       "</style><pre class='xr-text-repr-fallback'>&lt;xarray.Dataset&gt;\n",
       "Dimensions:                (x: 64, y: 64, z: 384)\n",
       "Coordinates:\n",
       "  * x                      (x) float64 -504.0 -488.0 -472.0 ... 488.0 504.0\n",
       "  * y                      (y) float64 -504.0 -488.0 -472.0 ... 488.0 504.0\n",
       "  * z                      (z) float64 -3.064e+03 -3.048e+03 ... 3.064e+03\n",
       "Data variables:\n",
       "    rad_energy_density_PE  (z, y, x) float32 1.393 1.393 1.393 ... 1.276 1.276\n",
       "    rad_energy_density_LW  (z, y, x) float32 0.2307 0.2307 ... 0.2898 0.2898\n",
       "    chi_FUV                (z, y, x) float32 0.4251 0.4251 ... 0.4102 0.4102\n",
       "    T                      (z, y, x) float32 1.106e+06 1.006e+06 ... 1.444e+06\n",
       "    nH                     (z, y, x) float32 0.0003833 0.000415 ... 0.0003379\n",
       "Attributes:\n",
       "    all_grid_equal:  True\n",
       "    ngrid:           1\n",
       "    le:              [ -512.  -512. -3072.]\n",
       "    re:              [ 512.  512. 3072.]\n",
       "    dx:              [16. 16. 16.]\n",
       "    Lx:              [1024. 1024. 6144.]\n",
       "    center:          [0. 0. 0.]\n",
       "    Nx:              [ 64  64 384]\n",
       "    ndim:            3\n",
       "    time:            200.0042\n",
       "    dfi:             {&#x27;rho&#x27;: {&#x27;field_dep&#x27;: [&#x27;density&#x27;], &#x27;func&#x27;: &lt;function set...</pre><div class='xr-wrap' hidden><div class='xr-header'><div class='xr-obj-type'>xarray.Dataset</div></div><ul class='xr-sections'><li class='xr-section-item'><input id='section-730f04a6-9e1f-437f-aa40-b1e1fdccc57f' class='xr-section-summary-in' type='checkbox' disabled ><label for='section-730f04a6-9e1f-437f-aa40-b1e1fdccc57f' class='xr-section-summary'  title='Expand/collapse section'>Dimensions:</label><div class='xr-section-inline-details'><ul class='xr-dim-list'><li><span class='xr-has-index'>x</span>: 64</li><li><span class='xr-has-index'>y</span>: 64</li><li><span class='xr-has-index'>z</span>: 384</li></ul></div><div class='xr-section-details'></div></li><li class='xr-section-item'><input id='section-2a9541af-1836-45b3-a798-9b44cfdd3fc4' class='xr-section-summary-in' type='checkbox'  checked><label for='section-2a9541af-1836-45b3-a798-9b44cfdd3fc4' class='xr-section-summary' >Coordinates: <span>(3)</span></label><div class='xr-section-inline-details'></div><div class='xr-section-details'><ul class='xr-var-list'><li class='xr-var-item'><div class='xr-var-name'><span class='xr-has-index'>x</span></div><div class='xr-var-dims'>(x)</div><div class='xr-var-dtype'>float64</div><div class='xr-var-preview xr-preview'>-504.0 -488.0 ... 488.0 504.0</div><input id='attrs-f3f612e6-bef5-4fba-afe8-c683ba1febb5' class='xr-var-attrs-in' type='checkbox' disabled><label for='attrs-f3f612e6-bef5-4fba-afe8-c683ba1febb5' title='Show/Hide attributes'><svg class='icon xr-icon-file-text2'><use xlink:href='#icon-file-text2'></use></svg></label><input id='data-4c3c8b06-1ce6-4478-95ce-3eadc11b38f6' class='xr-var-data-in' type='checkbox'><label for='data-4c3c8b06-1ce6-4478-95ce-3eadc11b38f6' title='Show/Hide data repr'><svg class='icon xr-icon-database'><use xlink:href='#icon-database'></use></svg></label><div class='xr-var-attrs'><dl class='xr-attrs'></dl></div><div class='xr-var-data'><pre>array([-504., -488., -472., -456., -440., -424., -408., -392., -376., -360.,\n",
       "       -344., -328., -312., -296., -280., -264., -248., -232., -216., -200.,\n",
       "       -184., -168., -152., -136., -120., -104.,  -88.,  -72.,  -56.,  -40.,\n",
       "        -24.,   -8.,    8.,   24.,   40.,   56.,   72.,   88.,  104.,  120.,\n",
       "        136.,  152.,  168.,  184.,  200.,  216.,  232.,  248.,  264.,  280.,\n",
       "        296.,  312.,  328.,  344.,  360.,  376.,  392.,  408.,  424.,  440.,\n",
       "        456.,  472.,  488.,  504.])</pre></div></li><li class='xr-var-item'><div class='xr-var-name'><span class='xr-has-index'>y</span></div><div class='xr-var-dims'>(y)</div><div class='xr-var-dtype'>float64</div><div class='xr-var-preview xr-preview'>-504.0 -488.0 ... 488.0 504.0</div><input id='attrs-b0391b50-4343-4f6c-9578-cf81e5c285c3' class='xr-var-attrs-in' type='checkbox' disabled><label for='attrs-b0391b50-4343-4f6c-9578-cf81e5c285c3' title='Show/Hide attributes'><svg class='icon xr-icon-file-text2'><use xlink:href='#icon-file-text2'></use></svg></label><input id='data-7c265072-8ada-4883-8448-87f657e571fd' class='xr-var-data-in' type='checkbox'><label for='data-7c265072-8ada-4883-8448-87f657e571fd' title='Show/Hide data repr'><svg class='icon xr-icon-database'><use xlink:href='#icon-database'></use></svg></label><div class='xr-var-attrs'><dl class='xr-attrs'></dl></div><div class='xr-var-data'><pre>array([-504., -488., -472., -456., -440., -424., -408., -392., -376., -360.,\n",
       "       -344., -328., -312., -296., -280., -264., -248., -232., -216., -200.,\n",
       "       -184., -168., -152., -136., -120., -104.,  -88.,  -72.,  -56.,  -40.,\n",
       "        -24.,   -8.,    8.,   24.,   40.,   56.,   72.,   88.,  104.,  120.,\n",
       "        136.,  152.,  168.,  184.,  200.,  216.,  232.,  248.,  264.,  280.,\n",
       "        296.,  312.,  328.,  344.,  360.,  376.,  392.,  408.,  424.,  440.,\n",
       "        456.,  472.,  488.,  504.])</pre></div></li><li class='xr-var-item'><div class='xr-var-name'><span class='xr-has-index'>z</span></div><div class='xr-var-dims'>(z)</div><div class='xr-var-dtype'>float64</div><div class='xr-var-preview xr-preview'>-3.064e+03 -3.048e+03 ... 3.064e+03</div><input id='attrs-05071f86-1617-494a-9aa0-00359ffa81b2' class='xr-var-attrs-in' type='checkbox' disabled><label for='attrs-05071f86-1617-494a-9aa0-00359ffa81b2' title='Show/Hide attributes'><svg class='icon xr-icon-file-text2'><use xlink:href='#icon-file-text2'></use></svg></label><input id='data-a498cb55-8418-4361-8847-c2e17a78449c' class='xr-var-data-in' type='checkbox'><label for='data-a498cb55-8418-4361-8847-c2e17a78449c' title='Show/Hide data repr'><svg class='icon xr-icon-database'><use xlink:href='#icon-database'></use></svg></label><div class='xr-var-attrs'><dl class='xr-attrs'></dl></div><div class='xr-var-data'><pre>array([-3064., -3048., -3032., ...,  3032.,  3048.,  3064.])</pre></div></li></ul></div></li><li class='xr-section-item'><input id='section-d783be5e-2d0f-4912-990b-a7d8a1f0e739' class='xr-section-summary-in' type='checkbox'  checked><label for='section-d783be5e-2d0f-4912-990b-a7d8a1f0e739' class='xr-section-summary' >Data variables: <span>(5)</span></label><div class='xr-section-inline-details'></div><div class='xr-section-details'><ul class='xr-var-list'><li class='xr-var-item'><div class='xr-var-name'><span>rad_energy_density_PE</span></div><div class='xr-var-dims'>(z, y, x)</div><div class='xr-var-dtype'>float32</div><div class='xr-var-preview xr-preview'>1.393 1.393 1.393 ... 1.276 1.276</div><input id='attrs-2361435a-f1ab-4d3e-81f3-1851f6c44f76' class='xr-var-attrs-in' type='checkbox' disabled><label for='attrs-2361435a-f1ab-4d3e-81f3-1851f6c44f76' title='Show/Hide attributes'><svg class='icon xr-icon-file-text2'><use xlink:href='#icon-file-text2'></use></svg></label><input id='data-0954022b-9d14-45c0-b78c-db356801b7ff' class='xr-var-data-in' type='checkbox'><label for='data-0954022b-9d14-45c0-b78c-db356801b7ff' title='Show/Hide data repr'><svg class='icon xr-icon-database'><use xlink:href='#icon-database'></use></svg></label><div class='xr-var-attrs'><dl class='xr-attrs'></dl></div><div class='xr-var-data'><pre>array([[[1.3926681, 1.3926681, 1.3926681, ..., 1.3926681, 1.3926681,\n",
       "         1.3926681],\n",
       "        [1.3926681, 1.3926681, 1.3926681, ..., 1.3926681, 1.3926681,\n",
       "         1.3926681],\n",
       "        [1.3926681, 1.3926681, 1.3926681, ..., 1.3926681, 1.3926681,\n",
       "         1.3926681],\n",
       "        ...,\n",
       "        [1.3926681, 1.3926681, 1.3926681, ..., 1.3926681, 1.3926681,\n",
       "         1.3926681],\n",
       "        [1.3926681, 1.3926681, 1.3926681, ..., 1.3926681, 1.3926681,\n",
       "         1.3926681],\n",
       "        [1.3926681, 1.3926681, 1.3926681, ..., 1.3926681, 1.3926681,\n",
       "         1.3926681]],\n",
       "\n",
       "       [[1.3927372, 1.3927372, 1.3927372, ..., 1.3927372, 1.3927372,\n",
       "         1.3927372],\n",
       "        [1.3927372, 1.3927372, 1.3927372, ..., 1.3927372, 1.3927372,\n",
       "         1.3927372],\n",
       "        [1.3927372, 1.3927372, 1.3927372, ..., 1.3927372, 1.3927372,\n",
       "         1.3927372],\n",
       "...\n",
       "        [1.2764679, 1.2764679, 1.2764679, ..., 1.2764679, 1.2764679,\n",
       "         1.2764679],\n",
       "        [1.2764679, 1.2764679, 1.2764679, ..., 1.2764679, 1.2764679,\n",
       "         1.2764679],\n",
       "        [1.2764679, 1.2764679, 1.2764679, ..., 1.2764679, 1.2764679,\n",
       "         1.2764679]],\n",
       "\n",
       "       [[1.2764382, 1.2764382, 1.2764382, ..., 1.2764382, 1.2764382,\n",
       "         1.2764382],\n",
       "        [1.2764382, 1.2764382, 1.2764382, ..., 1.2764382, 1.2764382,\n",
       "         1.2764382],\n",
       "        [1.2764382, 1.2764382, 1.2764382, ..., 1.2764382, 1.2764382,\n",
       "         1.2764382],\n",
       "        ...,\n",
       "        [1.2764382, 1.2764382, 1.2764382, ..., 1.2764382, 1.2764382,\n",
       "         1.2764382],\n",
       "        [1.2764382, 1.2764382, 1.2764382, ..., 1.2764382, 1.2764382,\n",
       "         1.2764382],\n",
       "        [1.2764382, 1.2764382, 1.2764382, ..., 1.2764382, 1.2764382,\n",
       "         1.2764382]]], dtype=float32)</pre></div></li><li class='xr-var-item'><div class='xr-var-name'><span>rad_energy_density_LW</span></div><div class='xr-var-dims'>(z, y, x)</div><div class='xr-var-dtype'>float32</div><div class='xr-var-preview xr-preview'>0.2307 0.2307 ... 0.2898 0.2898</div><input id='attrs-bcd7d139-e5d7-4898-9bbf-b7043984e8aa' class='xr-var-attrs-in' type='checkbox' disabled><label for='attrs-bcd7d139-e5d7-4898-9bbf-b7043984e8aa' title='Show/Hide attributes'><svg class='icon xr-icon-file-text2'><use xlink:href='#icon-file-text2'></use></svg></label><input id='data-59a9039c-2aa9-48dd-b632-c5b67b81dcf4' class='xr-var-data-in' type='checkbox'><label for='data-59a9039c-2aa9-48dd-b632-c5b67b81dcf4' title='Show/Hide data repr'><svg class='icon xr-icon-database'><use xlink:href='#icon-database'></use></svg></label><div class='xr-var-attrs'><dl class='xr-attrs'></dl></div><div class='xr-var-data'><pre>array([[[0.23073515, 0.23073515, 0.23073515, ..., 0.23073515,\n",
       "         0.23073515, 0.23073515],\n",
       "        [0.23073515, 0.23073515, 0.23073515, ..., 0.23073515,\n",
       "         0.23073515, 0.23073515],\n",
       "        [0.23073515, 0.23073515, 0.23073515, ..., 0.23073515,\n",
       "         0.23073515, 0.23073515],\n",
       "        ...,\n",
       "        [0.23073515, 0.23073515, 0.23073515, ..., 0.23073515,\n",
       "         0.23073515, 0.23073515],\n",
       "        [0.23073515, 0.23073515, 0.23073515, ..., 0.23073515,\n",
       "         0.23073515, 0.23073515],\n",
       "        [0.23073515, 0.23073515, 0.23073515, ..., 0.23073515,\n",
       "         0.23073515, 0.23073515]],\n",
       "\n",
       "       [[0.23075499, 0.23075499, 0.23075499, ..., 0.23075499,\n",
       "         0.23075499, 0.23075499],\n",
       "        [0.23075499, 0.23075499, 0.23075499, ..., 0.23075499,\n",
       "         0.23075499, 0.23075499],\n",
       "        [0.23075499, 0.23075499, 0.23075499, ..., 0.23075499,\n",
       "         0.23075499, 0.23075499],\n",
       "...\n",
       "        [0.2898367 , 0.2898367 , 0.2898367 , ..., 0.2898367 ,\n",
       "         0.2898367 , 0.2898367 ],\n",
       "        [0.2898367 , 0.2898367 , 0.2898367 , ..., 0.2898367 ,\n",
       "         0.2898367 , 0.2898367 ],\n",
       "        [0.2898367 , 0.2898367 , 0.2898367 , ..., 0.2898367 ,\n",
       "         0.2898367 , 0.2898367 ]],\n",
       "\n",
       "       [[0.28982413, 0.28982413, 0.28982413, ..., 0.28982413,\n",
       "         0.28982413, 0.28982413],\n",
       "        [0.28982413, 0.28982413, 0.28982413, ..., 0.28982413,\n",
       "         0.28982413, 0.28982413],\n",
       "        [0.28982413, 0.28982413, 0.28982413, ..., 0.28982413,\n",
       "         0.28982413, 0.28982413],\n",
       "        ...,\n",
       "        [0.28982413, 0.28982413, 0.28982413, ..., 0.28982413,\n",
       "         0.28982413, 0.28982413],\n",
       "        [0.28982413, 0.28982413, 0.28982413, ..., 0.28982413,\n",
       "         0.28982413, 0.28982413],\n",
       "        [0.28982413, 0.28982413, 0.28982413, ..., 0.28982413,\n",
       "         0.28982413, 0.28982413]]], dtype=float32)</pre></div></li><li class='xr-var-item'><div class='xr-var-name'><span>chi_FUV</span></div><div class='xr-var-dims'>(z, y, x)</div><div class='xr-var-dtype'>float32</div><div class='xr-var-preview xr-preview'>0.4251 0.4251 ... 0.4102 0.4102</div><input id='attrs-f532385e-4c58-4905-bd62-79e6660702c5' class='xr-var-attrs-in' type='checkbox' disabled><label for='attrs-f532385e-4c58-4905-bd62-79e6660702c5' title='Show/Hide attributes'><svg class='icon xr-icon-file-text2'><use xlink:href='#icon-file-text2'></use></svg></label><input id='data-8cf0290f-ccee-4567-929f-78b136e1f446' class='xr-var-data-in' type='checkbox'><label for='data-8cf0290f-ccee-4567-929f-78b136e1f446' title='Show/Hide data repr'><svg class='icon xr-icon-database'><use xlink:href='#icon-database'></use></svg></label><div class='xr-var-attrs'><dl class='xr-attrs'></dl></div><div class='xr-var-data'><pre>array([[[0.425146 , 0.425146 , 0.425146 , ..., 0.425146 , 0.425146 ,\n",
       "         0.425146 ],\n",
       "        [0.425146 , 0.425146 , 0.425146 , ..., 0.425146 , 0.425146 ,\n",
       "         0.425146 ],\n",
       "        [0.425146 , 0.425146 , 0.425146 , ..., 0.425146 , 0.425146 ,\n",
       "         0.425146 ],\n",
       "        ...,\n",
       "        [0.425146 , 0.425146 , 0.425146 , ..., 0.425146 , 0.425146 ,\n",
       "         0.425146 ],\n",
       "        [0.425146 , 0.425146 , 0.425146 , ..., 0.425146 , 0.425146 ,\n",
       "         0.425146 ],\n",
       "        [0.425146 , 0.425146 , 0.425146 , ..., 0.425146 , 0.425146 ,\n",
       "         0.425146 ]],\n",
       "\n",
       "       [[0.4251693, 0.4251693, 0.4251693, ..., 0.4251693, 0.4251693,\n",
       "         0.4251693],\n",
       "        [0.4251693, 0.4251693, 0.4251693, ..., 0.4251693, 0.4251693,\n",
       "         0.4251693],\n",
       "        [0.4251693, 0.4251693, 0.4251693, ..., 0.4251693, 0.4251693,\n",
       "         0.4251693],\n",
       "...\n",
       "        [0.4101927, 0.4101927, 0.4101927, ..., 0.4101927, 0.4101927,\n",
       "         0.4101927],\n",
       "        [0.4101927, 0.4101927, 0.4101927, ..., 0.4101927, 0.4101927,\n",
       "         0.4101927],\n",
       "        [0.4101927, 0.4101927, 0.4101927, ..., 0.4101927, 0.4101927,\n",
       "         0.4101927]],\n",
       "\n",
       "       [[0.4101816, 0.4101816, 0.4101816, ..., 0.4101816, 0.4101816,\n",
       "         0.4101816],\n",
       "        [0.4101816, 0.4101816, 0.4101816, ..., 0.4101816, 0.4101816,\n",
       "         0.4101816],\n",
       "        [0.4101816, 0.4101816, 0.4101816, ..., 0.4101816, 0.4101816,\n",
       "         0.4101816],\n",
       "        ...,\n",
       "        [0.4101816, 0.4101816, 0.4101816, ..., 0.4101816, 0.4101816,\n",
       "         0.4101816],\n",
       "        [0.4101816, 0.4101816, 0.4101816, ..., 0.4101816, 0.4101816,\n",
       "         0.4101816],\n",
       "        [0.4101816, 0.4101816, 0.4101816, ..., 0.4101816, 0.4101816,\n",
       "         0.4101816]]], dtype=float32)</pre></div></li><li class='xr-var-item'><div class='xr-var-name'><span>T</span></div><div class='xr-var-dims'>(z, y, x)</div><div class='xr-var-dtype'>float32</div><div class='xr-var-preview xr-preview'>1.106e+06 1.006e+06 ... 1.444e+06</div><input id='attrs-79aeb69b-d51f-4825-a71f-76ef9ec24aa9' class='xr-var-attrs-in' type='checkbox' disabled><label for='attrs-79aeb69b-d51f-4825-a71f-76ef9ec24aa9' title='Show/Hide attributes'><svg class='icon xr-icon-file-text2'><use xlink:href='#icon-file-text2'></use></svg></label><input id='data-eb131ca5-6ed8-4ebc-95ac-248d892697c0' class='xr-var-data-in' type='checkbox'><label for='data-eb131ca5-6ed8-4ebc-95ac-248d892697c0' title='Show/Hide data repr'><svg class='icon xr-icon-database'><use xlink:href='#icon-database'></use></svg></label><div class='xr-var-attrs'><dl class='xr-attrs'></dl></div><div class='xr-var-data'><pre>array([[[1106431.8 , 1006052.25,  917142.4 , ..., 5442956.  ,\n",
       "         3605783.2 , 2015782.  ],\n",
       "        [1080474.6 ,  970965.9 ,  878082.94, ..., 5482586.  ,\n",
       "         3770102.5 , 2183352.5 ],\n",
       "        [1036452.2 ,  929149.5 ,  853479.4 , ..., 5372952.5 ,\n",
       "         3713691.2 , 2179794.8 ],\n",
       "        ...,\n",
       "        [ 999418.5 ,  988336.94,  958911.56, ..., 2664235.  ,\n",
       "         1576806.6 , 1054929.5 ],\n",
       "        [1066848.  , 1020381.1 ,  966649.56, ..., 4005442.5 ,\n",
       "         2272993.  , 1309744.2 ],\n",
       "        [1104844.8 , 1025577.5 ,  950276.7 , ..., 5032458.5 ,\n",
       "         3064451.2 , 1675429.2 ]],\n",
       "\n",
       "       [[1112478.2 , 1003684.56,  910652.8 , ..., 5734340.  ,\n",
       "         3903621.  , 2177312.2 ],\n",
       "        [1077822.6 ,  957674.6 ,  860531.94, ..., 5814903.  ,\n",
       "         4166522.  , 2426662.8 ],\n",
       "        [1020522.2 ,  905044.3 ,  824539.1 , ..., 5710950.  ,\n",
       "         4143573.2 , 2470327.2 ],\n",
       "...\n",
       "        [2062402.2 , 2335351.8 , 2371459.8 , ..., 1458423.5 ,\n",
       "         1424033.1 , 1390995.2 ],\n",
       "        [2061399.9 , 2260725.2 , 2258443.8 , ..., 1373742.2 ,\n",
       "         1345958.2 , 1314606.2 ],\n",
       "        [2059255.  , 2188318.  , 2142857.2 , ..., 1295145.8 ,\n",
       "         1279176.2 , 1238914.1 ]],\n",
       "\n",
       "       [[2234014.2 , 2234596.  , 2109451.8 , ..., 1466646.  ,\n",
       "         1451166.9 , 1370979.  ],\n",
       "        [2213517.5 , 2162266.2 , 2017370.1 , ..., 1413678.1 ,\n",
       "         1393548.2 , 1280319.1 ],\n",
       "        [2204396.  , 2099817.5 , 1938609.9 , ..., 1368489.  ,\n",
       "         1325828.6 , 1171792.2 ],\n",
       "        ...,\n",
       "        [2391185.  , 2513947.2 , 2462549.5 , ..., 1638512.2 ,\n",
       "         1614116.4 , 1558226.9 ],\n",
       "        [2326524.  , 2408367.  , 2328767.5 , ..., 1574354.8 ,\n",
       "         1561422.2 , 1503066.6 ],\n",
       "        [2272281.2 , 2319874.2 , 2214017.5 , ..., 1516553.6 ,\n",
       "         1506837.  , 1443929.1 ]]], dtype=float32)</pre></div></li><li class='xr-var-item'><div class='xr-var-name'><span>nH</span></div><div class='xr-var-dims'>(z, y, x)</div><div class='xr-var-dtype'>float32</div><div class='xr-var-preview xr-preview'>0.0003833 0.000415 ... 0.0003379</div><input id='attrs-aab3c59c-3398-449f-b96b-973b6672f368' class='xr-var-attrs-in' type='checkbox' disabled><label for='attrs-aab3c59c-3398-449f-b96b-973b6672f368' title='Show/Hide attributes'><svg class='icon xr-icon-file-text2'><use xlink:href='#icon-file-text2'></use></svg></label><input id='data-2685d9c9-9376-49a3-806a-d7a9fb95511e' class='xr-var-data-in' type='checkbox'><label for='data-2685d9c9-9376-49a3-806a-d7a9fb95511e' title='Show/Hide data repr'><svg class='icon xr-icon-database'><use xlink:href='#icon-database'></use></svg></label><div class='xr-var-attrs'><dl class='xr-attrs'></dl></div><div class='xr-var-data'><pre>array([[[3.83268489e-04, 4.15032962e-04, 4.59284231e-04, ...,\n",
       "         9.99228214e-05, 1.56982424e-04, 2.94956699e-04],\n",
       "        [3.90196248e-04, 4.32073226e-04, 4.83492826e-04, ...,\n",
       "         9.69769899e-05, 1.46766630e-04, 2.65904237e-04],\n",
       "        [4.07821004e-04, 4.54945519e-04, 5.00256370e-04, ...,\n",
       "         9.64701903e-05, 1.45116428e-04, 2.58640241e-04],\n",
       "        ...,\n",
       "        [4.60690382e-04, 4.46649385e-04, 4.50919208e-04, ...,\n",
       "         2.33409635e-04, 4.11266141e-04, 6.31859584e-04],\n",
       "        [4.13933420e-04, 4.19450196e-04, 4.38317627e-04, ...,\n",
       "         1.46001403e-04, 2.66706338e-04, 4.79337730e-04],\n",
       "        [3.89867986e-04, 4.09800006e-04, 4.42228629e-04, ...,\n",
       "         1.11413545e-04, 1.89848171e-04, 3.62585357e-04]],\n",
       "\n",
       "       [[3.65216576e-04, 3.97016498e-04, 4.38242860e-04, ...,\n",
       "         9.11140378e-05, 1.37806230e-04, 2.54991231e-04],\n",
       "        [3.74515046e-04, 4.16580355e-04, 4.66282072e-04, ...,\n",
       "         8.75477126e-05, 1.25777849e-04, 2.22857707e-04],\n",
       "        [3.95989977e-04, 4.43345140e-04, 4.89702972e-04, ...,\n",
       "         8.66051123e-05, 1.22899699e-04, 2.12715750e-04],\n",
       "...\n",
       "        [2.80912151e-04, 2.57812091e-04, 2.64152652e-04, ...,\n",
       "         3.03867389e-04, 3.02190951e-04, 3.10256233e-04],\n",
       "        [2.78845866e-04, 2.64697679e-04, 2.73028942e-04, ...,\n",
       "         3.15035781e-04, 3.15037789e-04, 3.30744660e-04],\n",
       "        [2.78236927e-04, 2.71838071e-04, 2.79613480e-04, ...,\n",
       "         3.24497843e-04, 3.31212592e-04, 3.61675658e-04]],\n",
       "\n",
       "       [[2.63422349e-04, 2.67136522e-04, 2.76969775e-04, ...,\n",
       "         2.96096783e-04, 3.15384212e-04, 3.67581175e-04],\n",
       "        [2.60981993e-04, 2.65296636e-04, 2.71635246e-04, ...,\n",
       "         3.04911955e-04, 3.34375916e-04, 4.04908060e-04],\n",
       "        [2.53957493e-04, 2.57498352e-04, 2.60772533e-04, ...,\n",
       "         3.17247177e-04, 3.57365789e-04, 4.48479637e-04],\n",
       "        ...,\n",
       "        [2.49717239e-04, 2.47028685e-04, 2.61219160e-04, ...,\n",
       "         2.83833971e-04, 2.86763126e-04, 3.01405409e-04],\n",
       "        [2.55202322e-04, 2.56836880e-04, 2.71652447e-04, ...,\n",
       "         2.88666633e-04, 2.92646204e-04, 3.15587997e-04],\n",
       "        [2.60808476e-04, 2.64321279e-04, 2.77432147e-04, ...,\n",
       "         2.91294244e-04, 3.01456021e-04, 3.37893231e-04]]], dtype=float32)</pre></div></li></ul></div></li><li class='xr-section-item'><input id='section-ead73c60-047d-4c1b-8488-f7d1acb8fd9b' class='xr-section-summary-in' type='checkbox'  ><label for='section-ead73c60-047d-4c1b-8488-f7d1acb8fd9b' class='xr-section-summary' >Attributes: <span>(11)</span></label><div class='xr-section-inline-details'></div><div class='xr-section-details'><dl class='xr-attrs'><dt><span>all_grid_equal :</span></dt><dd>True</dd><dt><span>ngrid :</span></dt><dd>1</dd><dt><span>le :</span></dt><dd>[ -512.  -512. -3072.]</dd><dt><span>re :</span></dt><dd>[ 512.  512. 3072.]</dd><dt><span>dx :</span></dt><dd>[16. 16. 16.]</dd><dt><span>Lx :</span></dt><dd>[1024. 1024. 6144.]</dd><dt><span>center :</span></dt><dd>[0. 0. 0.]</dd><dt><span>Nx :</span></dt><dd>[ 64  64 384]</dd><dt><span>ndim :</span></dt><dd>3</dd><dt><span>time :</span></dt><dd>200.0042</dd><dt><span>dfi :</span></dt><dd>{&#x27;rho&#x27;: {&#x27;field_dep&#x27;: [&#x27;density&#x27;], &#x27;func&#x27;: &lt;function set_derived_fields_def.&lt;locals&gt;._rho at 0x1534fd05f430&gt;, &#x27;label&#x27;: &#x27;$\\\\rho\\\\;[{\\\\rm g\\\\,cm^{-3}}]$&#x27;, &#x27;norm&#x27;: &lt;matplotlib.colors.LogNorm object at 0x1534fcf35a30&gt;, &#x27;vminmax&#x27;: (1e-27, 1e-20), &#x27;cmap&#x27;: &#x27;Spectral_r&#x27;, &#x27;scale&#x27;: &#x27;log&#x27;, &#x27;take_log&#x27;: True, &#x27;imshow_args&#x27;: {&#x27;norm&#x27;: &lt;matplotlib.colors.LogNorm object at 0x1534fcf35a30&gt;, &#x27;cmap&#x27;: &#x27;Spectral_r&#x27;, &#x27;cbar_kwargs&#x27;: {&#x27;label&#x27;: &#x27;$\\\\rho\\\\;[{\\\\rm g\\\\,cm^{-3}}]$&#x27;}}}, &#x27;nH&#x27;: {&#x27;field_dep&#x27;: [&#x27;density&#x27;], &#x27;func&#x27;: &lt;function set_derived_fields_def.&lt;locals&gt;._nH at 0x1534fcf0eca0&gt;, &#x27;label&#x27;: &#x27;$n_{\\\\rm H}\\\\;[{\\\\rm cm^{-3}}]$&#x27;, &#x27;norm&#x27;: &lt;matplotlib.colors.LogNorm object at 0x1534fcf35e50&gt;, &#x27;vminmax&#x27;: (0.001, 10000.0), &#x27;cmap&#x27;: &#x27;Spectral_r&#x27;, &#x27;scale&#x27;: &#x27;log&#x27;, &#x27;take_log&#x27;: True, &#x27;imshow_args&#x27;: {&#x27;norm&#x27;: &lt;matplotlib.colors.LogNorm object at 0x1534fcf35e50&gt;, &#x27;cmap&#x27;: &#x27;Spectral_r&#x27;, &#x27;cbar_kwargs&#x27;: {&#x27;label&#x27;: &#x27;$n_{\\\\rm H}\\\\;[{\\\\rm cm^{-3}}]$&#x27;}}}, &#x27;pok&#x27;: {&#x27;field_dep&#x27;: {&#x27;pressure&#x27;}, &#x27;func&#x27;: &lt;function set_derived_fields_def.&lt;locals&gt;._pok at 0x1534fcf0ed30&gt;, &#x27;label&#x27;: &#x27;$P/k_{\\\\rm B}\\\\;[{\\\\rm cm^{-3}\\\\,K}]$&#x27;, &#x27;norm&#x27;: &lt;matplotlib.colors.LogNorm object at 0x1534fcf35bb0&gt;, &#x27;vminmax&#x27;: (100.0, 10000000.0), &#x27;cmap&#x27;: &#x27;inferno&#x27;, &#x27;scale&#x27;: &#x27;log&#x27;, &#x27;take_log&#x27;: True, &#x27;imshow_args&#x27;: {&#x27;norm&#x27;: &lt;matplotlib.colors.LogNorm object at 0x1534fcf35bb0&gt;, &#x27;cmap&#x27;: &#x27;inferno&#x27;, &#x27;cbar_kwargs&#x27;: {&#x27;label&#x27;: &#x27;$P/k_{\\\\rm B}\\\\;[{\\\\rm cm^{-3}\\\\,K}]$&#x27;}}}, &#x27;r&#x27;: {&#x27;field_dep&#x27;: {&#x27;density&#x27;}, &#x27;func&#x27;: &lt;function set_derived_fields_def.&lt;locals&gt;._r at 0x1534fcf0eee0&gt;, &#x27;label&#x27;: &#x27;$r\\\\;[{\\\\rm pc}]$&#x27;, &#x27;norm&#x27;: &lt;matplotlib.colors.Normalize object at 0x1534fcf35c10&gt;, &#x27;vminmax&#x27;: (0, 6144), &#x27;cmap&#x27;: &#x27;viridis&#x27;, &#x27;scale&#x27;: &#x27;linear&#x27;, &#x27;take_log&#x27;: False, &#x27;imshow_args&#x27;: {&#x27;norm&#x27;: &lt;matplotlib.colors.Normalize object at 0x1534fcf35c10&gt;, &#x27;cmap&#x27;: &#x27;viridis&#x27;, &#x27;cbar_kwargs&#x27;: {&#x27;label&#x27;: &#x27;$r\\\\;[{\\\\rm pc}]$&#x27;}}}, &#x27;vmag&#x27;: {&#x27;field_dep&#x27;: {&#x27;velocity&#x27;}, &#x27;func&#x27;: &lt;function set_derived_fields_def.&lt;locals&gt;._vmag at 0x1534fcf0edc0&gt;, &#x27;label&#x27;: &#x27;$|\\\\mathbf{v}|\\\\;[{\\\\rm km\\\\,s^{-1}}]$&#x27;, &#x27;norm&#x27;: &lt;matplotlib.colors.LogNorm object at 0x1534fcf35b80&gt;, &#x27;vminmax&#x27;: (0.1, 1000.0), &#x27;cmap&#x27;: &#x27;cividis&#x27;, &#x27;scale&#x27;: &#x27;log&#x27;, &#x27;take_log&#x27;: True, &#x27;imshow_args&#x27;: {&#x27;norm&#x27;: &lt;matplotlib.colors.LogNorm object at 0x1534fcf35b80&gt;, &#x27;cmap&#x27;: &#x27;cividis&#x27;, &#x27;cbar_kwargs&#x27;: {&#x27;label&#x27;: &#x27;$|\\\\mathbf{v}|\\\\;[{\\\\rm km\\\\,s^{-1}}]$&#x27;}}}, &#x27;vr&#x27;: {&#x27;field_dep&#x27;: {&#x27;velocity&#x27;}, &#x27;func&#x27;: &lt;function set_derived_fields_def.&lt;locals&gt;._vr at 0x1534fcf0ee50&gt;, &#x27;label&#x27;: &#x27;$v_r\\\\;[{\\\\rm km\\\\,s^{-1}}]$&#x27;, &#x27;norm&#x27;: &lt;matplotlib.colors.Normalize object at 0x1534fcf35970&gt;, &#x27;vminmax&#x27;: (-20, 100), &#x27;cmap&#x27;: &lt;matplotlib.colors.LinearSegmentedColormap object at 0x1534fcf311f0&gt;, &#x27;scale&#x27;: &#x27;linear&#x27;, &#x27;take_log&#x27;: False, &#x27;imshow_args&#x27;: {&#x27;norm&#x27;: &lt;matplotlib.colors.Normalize object at 0x1534fcf35970&gt;, &#x27;cmap&#x27;: &lt;matplotlib.colors.LinearSegmentedColormap object at 0x1534fcf311f0&gt;, &#x27;cbar_kwargs&#x27;: {&#x27;label&#x27;: &#x27;$v_r\\\\;[{\\\\rm km\\\\,s^{-1}}]$&#x27;}}}, &#x27;vx&#x27;: {&#x27;field_dep&#x27;: {&#x27;velocity&#x27;}, &#x27;func&#x27;: &lt;function set_derived_fields_def.&lt;locals&gt;._vx at 0x1534fcf0ef70&gt;, &#x27;label&#x27;: &#x27;$v_x\\\\;[{\\\\rm km\\\\,s^{-1}}]$&#x27;, &#x27;norm&#x27;: &lt;matplotlib.colors.Normalize object at 0x1534fcf35940&gt;, &#x27;vminmax&#x27;: (-100.0, 100.0), &#x27;cmap&#x27;: &#x27;RdBu&#x27;, &#x27;scale&#x27;: &#x27;linear&#x27;, &#x27;take_log&#x27;: False, &#x27;imshow_args&#x27;: {&#x27;norm&#x27;: &lt;matplotlib.colors.Normalize object at 0x1534fcf35940&gt;, &#x27;cmap&#x27;: &#x27;RdBu&#x27;, &#x27;cbar_kwargs&#x27;: {&#x27;label&#x27;: &#x27;$v_x\\\\;[{\\\\rm km\\\\,s^{-1}}]$&#x27;}}}, &#x27;vy&#x27;: {&#x27;field_dep&#x27;: {&#x27;velocity&#x27;}, &#x27;func&#x27;: &lt;function set_derived_fields_def.&lt;locals&gt;._vy at 0x1534fcf0eb80&gt;, &#x27;label&#x27;: &#x27;$v_y\\\\;[{\\\\rm km\\\\,s^{-1}}]$&#x27;, &#x27;norm&#x27;: &lt;matplotlib.colors.Normalize object at 0x1534fcf352b0&gt;, &#x27;vminmax&#x27;: (-100.0, 100.0), &#x27;cmap&#x27;: &#x27;RdBu&#x27;, &#x27;scale&#x27;: &#x27;linear&#x27;, &#x27;take_log&#x27;: False, &#x27;imshow_args&#x27;: {&#x27;norm&#x27;: &lt;matplotlib.colors.Normalize object at 0x1534fcf352b0&gt;, &#x27;cmap&#x27;: &#x27;RdBu&#x27;, &#x27;cbar_kwargs&#x27;: {&#x27;label&#x27;: &#x27;$v_y\\\\;[{\\\\rm km\\\\,s^{-1}}]$&#x27;}}}, &#x27;vz&#x27;: {&#x27;field_dep&#x27;: {&#x27;velocity&#x27;}, &#x27;func&#x27;: &lt;function set_derived_fields_def.&lt;locals&gt;._vz at 0x1534fcf0ec10&gt;, &#x27;label&#x27;: &#x27;$v_z\\\\;[{\\\\rm km\\\\,s^{-1}}]$&#x27;, &#x27;norm&#x27;: &lt;matplotlib.colors.Normalize object at 0x1534fcf354f0&gt;, &#x27;vminmax&#x27;: (-100.0, 100.0), &#x27;cmap&#x27;: &#x27;RdBu&#x27;, &#x27;scale&#x27;: &#x27;linear&#x27;, &#x27;take_log&#x27;: False, &#x27;imshow_args&#x27;: {&#x27;norm&#x27;: &lt;matplotlib.colors.Normalize object at 0x1534fcf354f0&gt;, &#x27;cmap&#x27;: &#x27;RdBu&#x27;, &#x27;cbar_kwargs&#x27;: {&#x27;label&#x27;: &#x27;$v_z\\\\;[{\\\\rm km\\\\,s^{-1}}]$&#x27;}}}, &#x27;cs&#x27;: {&#x27;field_dep&#x27;: {&#x27;density&#x27;, &#x27;pressure&#x27;}, &#x27;func&#x27;: &lt;function set_derived_fields_def.&lt;locals&gt;._cs at 0x1534fd2d7280&gt;, &#x27;label&#x27;: &#x27;$c_s\\\\;[{\\\\rm km}\\\\,{\\\\rm s}^{-1}]$&#x27;, &#x27;norm&#x27;: &lt;matplotlib.colors.LogNorm object at 0x1534fcf35250&gt;, &#x27;vminmax&#x27;: (0.1, 1000.0), &#x27;cmap&#x27;: &#x27;magma&#x27;, &#x27;scale&#x27;: &#x27;log&#x27;, &#x27;take_log&#x27;: True, &#x27;imshow_args&#x27;: {&#x27;norm&#x27;: &lt;matplotlib.colors.LogNorm object at 0x1534fcf35250&gt;, &#x27;cmap&#x27;: &#x27;magma&#x27;, &#x27;cbar_kwargs&#x27;: {&#x27;label&#x27;: &#x27;$c_s\\\\;[{\\\\rm km}\\\\,{\\\\rm s}^{-1}]$&#x27;}}}, &#x27;csound&#x27;: {&#x27;field_dep&#x27;: {&#x27;density&#x27;, &#x27;pressure&#x27;}, &#x27;func&#x27;: &lt;function set_derived_fields_def.&lt;locals&gt;._csound at 0x1534fd2d7430&gt;, &#x27;label&#x27;: &#x27;$c_s\\\\;[{\\\\rm km}\\\\,{\\\\rm s}^{-1}]$&#x27;, &#x27;norm&#x27;: &lt;matplotlib.colors.LogNorm object at 0x1534fcf354c0&gt;, &#x27;vminmax&#x27;: (0.1, 1000.0), &#x27;cmap&#x27;: &#x27;magma&#x27;, &#x27;scale&#x27;: &#x27;log&#x27;, &#x27;take_log&#x27;: True, &#x27;imshow_args&#x27;: {&#x27;norm&#x27;: &lt;matplotlib.colors.LogNorm object at 0x1534fcf354c0&gt;, &#x27;cmap&#x27;: &#x27;magma&#x27;, &#x27;cbar_kwargs&#x27;: {&#x27;label&#x27;: &#x27;$c_s\\\\;[{\\\\rm km}\\\\,{\\\\rm s}^{-1}]$&#x27;}}}, &#x27;Mr&#x27;: {&#x27;field_dep&#x27;: {&#x27;density&#x27;, &#x27;velocity&#x27;}, &#x27;func&#x27;: &lt;function set_derived_fields_def.&lt;locals&gt;._Mr at 0x1534fd2d7550&gt;, &#x27;label&#x27;: &#x27;$p_r\\\\;[{\\\\rm cm^{-3}\\\\,km\\\\,s^{-1}}]$&#x27;, &#x27;norm&#x27;: &lt;matplotlib.colors.Normalize object at 0x1534fcf35820&gt;, &#x27;vminmax&#x27;: (-100000.0, 100000.0), &#x27;cmap&#x27;: &lt;matplotlib.colors.LinearSegmentedColormap object at 0x1534fcf31430&gt;, &#x27;scale&#x27;: &#x27;linear&#x27;, &#x27;take_log&#x27;: False, &#x27;imshow_args&#x27;: {&#x27;norm&#x27;: &lt;matplotlib.colors.Normalize object at 0x1534fcf35820&gt;, &#x27;cmap&#x27;: &lt;matplotlib.colors.LinearSegmentedColormap object at 0x1534fcf31430&gt;, &#x27;cbar_kwargs&#x27;: {&#x27;label&#x27;: &#x27;$p_r\\\\;[{\\\\rm cm^{-3}\\\\,km\\\\,s^{-1}}]$&#x27;}}}, &#x27;Mr_abs&#x27;: {&#x27;field_dep&#x27;: {&#x27;density&#x27;, &#x27;velocity&#x27;}, &#x27;func&#x27;: &lt;function set_derived_fields_def.&lt;locals&gt;._Mr_abs at 0x1534fd2d7e50&gt;, &#x27;label&#x27;: &#x27;$|p_r|\\\\;[{\\\\rm cm^{-3}\\\\,km\\\\,s^{-1}}]$&#x27;, &#x27;norm&#x27;: &lt;matplotlib.colors.LogNorm object at 0x1534fcf358b0&gt;, &#x27;vminmax&#x27;: (0.01, 10000.0), &#x27;cmap&#x27;: &lt;matplotlib.colors.LinearSegmentedColormap object at 0x1534fcf31f40&gt;, &#x27;scale&#x27;: &#x27;log&#x27;, &#x27;take_log&#x27;: True, &#x27;imshow_args&#x27;: {&#x27;norm&#x27;: &lt;matplotlib.colors.LogNorm object at 0x1534fcf358b0&gt;, &#x27;cmap&#x27;: &lt;matplotlib.colors.LinearSegmentedColormap object at 0x1534fcf31f40&gt;, &#x27;cbar_kwargs&#x27;: {&#x27;label&#x27;: &#x27;$|p_r|\\\\;[{\\\\rm cm^{-3}\\\\,km\\\\,s^{-1}}]$&#x27;}}}, &#x27;T&#x27;: {&#x27;field_dep&#x27;: {&#x27;density&#x27;, &#x27;xe&#x27;, &#x27;pressure&#x27;, &#x27;xH2&#x27;}, &#x27;func&#x27;: &lt;function set_derived_fields_def.&lt;locals&gt;._T at 0x1534fd2d74c0&gt;, &#x27;label&#x27;: &#x27;$T\\\\;[{\\\\rm K}]$&#x27;, &#x27;norm&#x27;: &lt;matplotlib.colors.LogNorm object at 0x1534fcf35310&gt;, &#x27;vminmax&#x27;: (10.0, 10000000.0), &#x27;cmap&#x27;: &lt;matplotlib.colors.LinearSegmentedColormap object at 0x1534fcf310a0&gt;, &#x27;scale&#x27;: &#x27;log&#x27;, &#x27;take_log&#x27;: True, &#x27;imshow_args&#x27;: {&#x27;norm&#x27;: &lt;matplotlib.colors.LogNorm object at 0x1534fcf35310&gt;, &#x27;cmap&#x27;: &lt;matplotlib.colors.LinearSegmentedColormap object at 0x1534fcf310a0&gt;, &#x27;cbar_kwargs&#x27;: {&#x27;label&#x27;: &#x27;$T\\\\;[{\\\\rm K}]$&#x27;}}}, &#x27;Td&#x27;: {&#x27;field_dep&#x27;: {&#x27;temperature_dust&#x27;}, &#x27;func&#x27;: &lt;function set_derived_fields_def.&lt;locals&gt;._Td at 0x1534fd2d7670&gt;, &#x27;label&#x27;: &#x27;$T_{\\\\rm d}\\\\;[{\\\\rm K}]$&#x27;, &#x27;norm&#x27;: &lt;matplotlib.colors.LogNorm object at 0x1534fcf35280&gt;, &#x27;vminmax&#x27;: (1.0, 100.0), &#x27;cmap&#x27;: &lt;matplotlib.colors.LinearSegmentedColormap object at 0x1534fcf31610&gt;, &#x27;scale&#x27;: &#x27;log&#x27;, &#x27;take_log&#x27;: True, &#x27;imshow_args&#x27;: {&#x27;norm&#x27;: &lt;matplotlib.colors.LogNorm object at 0x1534fcf35280&gt;, &#x27;cmap&#x27;: &lt;matplotlib.colors.LinearSegmentedColormap object at 0x1534fcf31610&gt;, &#x27;cbar_kwargs&#x27;: {&#x27;label&#x27;: &#x27;$T_{\\\\rm d}\\\\;[{\\\\rm K}]$&#x27;}}}, &#x27;cool_rate&#x27;: {&#x27;field_dep&#x27;: {&#x27;cool_rate&#x27;}, &#x27;func&#x27;: &lt;function set_derived_fields_def.&lt;locals&gt;._cool_rate at 0x1534fd2d7d30&gt;, &#x27;label&#x27;: &#x27;$\\\\mathcal{L}\\\\;[{\\\\rm erg}\\\\,{\\\\rm cm^{-3}}\\\\,{\\\\rm s}^{-1}]$&#x27;, &#x27;norm&#x27;: &lt;matplotlib.colors.LogNorm object at 0x1534fcf35550&gt;, &#x27;vminmax&#x27;: (1e-26, 1e-18), &#x27;cmap&#x27;: &#x27;cubehelix_r&#x27;, &#x27;scale&#x27;: &#x27;log&#x27;, &#x27;take_log&#x27;: True, &#x27;imshow_args&#x27;: {&#x27;norm&#x27;: &lt;matplotlib.colors.LogNorm object at 0x1534fcf35550&gt;, &#x27;cmap&#x27;: &#x27;cubehelix_r&#x27;, &#x27;cbar_kwargs&#x27;: {&#x27;label&#x27;: &#x27;$\\\\mathcal{L}\\\\;[{\\\\rm erg}\\\\,{\\\\rm cm^{-3}}\\\\,{\\\\rm s}^{-1}]$&#x27;}}}, &#x27;heat_rate&#x27;: {&#x27;field_dep&#x27;: {&#x27;heat_rate&#x27;}, &#x27;func&#x27;: &lt;function set_derived_fields_def.&lt;locals&gt;._heat_rate at 0x1534fd2d7c10&gt;, &#x27;label&#x27;: &#x27;$\\\\mathcal{G}\\\\;[{\\\\rm erg}\\\\,{\\\\rm cm^{-3}}\\\\,{\\\\rm s}^{-1}]$&#x27;, &#x27;norm&#x27;: &lt;matplotlib.colors.LogNorm object at 0x1534fcf350a0&gt;, &#x27;vminmax&#x27;: (1e-28, 1e-20), &#x27;cmap&#x27;: &#x27;cubehelix_r&#x27;, &#x27;scale&#x27;: &#x27;log&#x27;, &#x27;take_log&#x27;: True, &#x27;imshow_args&#x27;: {&#x27;norm&#x27;: &lt;matplotlib.colors.LogNorm object at 0x1534fcf350a0&gt;, &#x27;cmap&#x27;: &#x27;cubehelix_r&#x27;, &#x27;cbar_kwargs&#x27;: {&#x27;label&#x27;: &#x27;$\\\\mathcal{G}\\\\;[{\\\\rm erg}\\\\,{\\\\rm cm^{-3}}\\\\,{\\\\rm s}^{-1}]$&#x27;}}}, &#x27;net_cool_rate&#x27;: {&#x27;field_dep&#x27;: {&#x27;cool_rate&#x27;, &#x27;heat_rate&#x27;}, &#x27;func&#x27;: &lt;function set_derived_fields_def.&lt;locals&gt;._net_cool_rate at 0x1534fd2d7ca0&gt;, &#x27;label&#x27;: &#x27;$\\\\mathcal{L}\\\\;[{\\\\rm erg}\\\\,{\\\\rm cm^{-3}}\\\\,{\\\\rm s}^{-1}]$&#x27;, &#x27;norm&#x27;: &lt;matplotlib.colors.Normalize object at 0x1534fcf357c0&gt;, &#x27;vminmax&#x27;: (-1e-20, 1e-20), &#x27;cmap&#x27;: &#x27;bwr_r&#x27;, &#x27;scale&#x27;: &#x27;linear&#x27;, &#x27;take_log&#x27;: False, &#x27;imshow_args&#x27;: {&#x27;norm&#x27;: &lt;matplotlib.colors.Normalize object at 0x1534fcf357c0&gt;, &#x27;cmap&#x27;: &#x27;bwr_r&#x27;, &#x27;cbar_kwargs&#x27;: {&#x27;label&#x27;: &#x27;$\\\\mathcal{L}\\\\;[{\\\\rm erg}\\\\,{\\\\rm cm^{-3}}\\\\,{\\\\rm s}^{-1}]$&#x27;}}}, &#x27;Lambda_cool&#x27;: {&#x27;field_dep&#x27;: {&#x27;density&#x27;, &#x27;cool_rate&#x27;}, &#x27;func&#x27;: &lt;function set_derived_fields_def.&lt;locals&gt;._Lambda_cool at 0x1534fd2d7b80&gt;, &#x27;label&#x27;: &#x27;$\\\\Lambda\\\\;[{\\\\rm erg}\\\\,{\\\\rm cm^{3}}\\\\,{\\\\rm s}^{-1}]$&#x27;, &#x27;norm&#x27;: &lt;matplotlib.colors.LogNorm object at 0x1534fcf35760&gt;, &#x27;vminmax&#x27;: (1e-30, 1e-20), &#x27;cmap&#x27;: &#x27;cubehelix_r&#x27;, &#x27;scale&#x27;: &#x27;log&#x27;, &#x27;take_log&#x27;: True, &#x27;imshow_args&#x27;: {&#x27;norm&#x27;: &lt;matplotlib.colors.LogNorm object at 0x1534fcf35760&gt;, &#x27;cmap&#x27;: &#x27;cubehelix_r&#x27;, &#x27;cbar_kwargs&#x27;: {&#x27;label&#x27;: &#x27;$\\\\Lambda\\\\;[{\\\\rm erg}\\\\,{\\\\rm cm^{3}}\\\\,{\\\\rm s}^{-1}]$&#x27;}}}, &#x27;nHLambda_cool&#x27;: {&#x27;field_dep&#x27;: {&#x27;density&#x27;, &#x27;cool_rate&#x27;}, &#x27;func&#x27;: &lt;function set_derived_fields_def.&lt;locals&gt;._nHLambda_cool at 0x1534fd2d7af0&gt;, &#x27;label&#x27;: &#x27;$n_{\\\\rm H}\\\\Lambda\\\\;[{\\\\rm erg}\\\\,{\\\\rm cm^{3}}\\\\,{\\\\rm s}^{-1}]$&#x27;, &#x27;norm&#x27;: &lt;matplotlib.colors.LogNorm object at 0x1534fcf356a0&gt;, &#x27;vminmax&#x27;: (1e-30, 1e-20), &#x27;cmap&#x27;: &#x27;cubehelix_r&#x27;, &#x27;scale&#x27;: &#x27;log&#x27;, &#x27;take_log&#x27;: True, &#x27;imshow_args&#x27;: {&#x27;norm&#x27;: &lt;matplotlib.colors.LogNorm object at 0x1534fcf356a0&gt;, &#x27;cmap&#x27;: &#x27;cubehelix_r&#x27;, &#x27;cbar_kwargs&#x27;: {&#x27;label&#x27;: &#x27;$n_{\\\\rm H}\\\\Lambda\\\\;[{\\\\rm erg}\\\\,{\\\\rm cm^{3}}\\\\,{\\\\rm s}^{-1}]$&#x27;}}}, &#x27;nHLambda_cool_net&#x27;: {&#x27;field_dep&#x27;: {&#x27;density&#x27;, &#x27;cool_rate&#x27;, &#x27;heat_rate&#x27;}, &#x27;func&#x27;: &lt;function set_derived_fields_def.&lt;locals&gt;._nHLambda_cool_net at 0x1534fd2d7a60&gt;, &#x27;label&#x27;: &#x27;$n_{\\\\rm H}\\\\Lambda_{\\\\rm net}\\\\;[{\\\\rm erg}\\\\,{\\\\rm cm^{3}}\\\\,{\\\\rm s}^{-1}]$&#x27;, &#x27;norm&#x27;: &lt;matplotlib.colors.LogNorm object at 0x1534fcf357f0&gt;, &#x27;vminmax&#x27;: (1e-30, 1e-20), &#x27;cmap&#x27;: &#x27;cubehelix_r&#x27;, &#x27;scale&#x27;: &#x27;log&#x27;, &#x27;take_log&#x27;: True, &#x27;imshow_args&#x27;: {&#x27;norm&#x27;: &lt;matplotlib.colors.LogNorm object at 0x1534fcf357f0&gt;, &#x27;cmap&#x27;: &#x27;cubehelix_r&#x27;, &#x27;cbar_kwargs&#x27;: {&#x27;label&#x27;: &#x27;$n_{\\\\rm H}\\\\Lambda_{\\\\rm net}\\\\;[{\\\\rm erg}\\\\,{\\\\rm cm^{3}}\\\\,{\\\\rm s}^{-1}]$&#x27;}}}, &#x27;Gamma_heat&#x27;: {&#x27;field_dep&#x27;: {&#x27;density&#x27;, &#x27;heat_rate&#x27;}, &#x27;func&#x27;: &lt;function set_derived_fields_def.&lt;locals&gt;._Gamma_heat at 0x1534fd2d79d0&gt;, &#x27;label&#x27;: &#x27;$\\\\Gamma_{\\\\rm heat}\\\\;[{\\\\rm erg}\\\\,{\\\\rm s}^{-1}]$&#x27;, &#x27;norm&#x27;: &lt;matplotlib.colors.LogNorm object at 0x1534fcf35700&gt;, &#x27;vminmax&#x27;: (1e-30, 1e-20), &#x27;cmap&#x27;: &#x27;cubehelix_r&#x27;, &#x27;scale&#x27;: &#x27;log&#x27;, &#x27;take_log&#x27;: True, &#x27;imshow_args&#x27;: {&#x27;norm&#x27;: &lt;matplotlib.colors.LogNorm object at 0x1534fcf35700&gt;, &#x27;cmap&#x27;: &#x27;cubehelix_r&#x27;, &#x27;cbar_kwargs&#x27;: {&#x27;label&#x27;: &#x27;$\\\\Gamma_{\\\\rm heat}\\\\;[{\\\\rm erg}\\\\,{\\\\rm s}^{-1}]$&#x27;}}}, &#x27;t_cool&#x27;: {&#x27;field_dep&#x27;: {&#x27;cool_rate&#x27;, &#x27;pressure&#x27;}, &#x27;func&#x27;: &lt;function set_derived_fields_def.&lt;locals&gt;._t_cool at 0x1534fd2d7940&gt;, &#x27;label&#x27;: &#x27;$t_{\\\\rm cool}\\\\;[{\\\\rm yr}]$&#x27;, &#x27;norm&#x27;: &lt;matplotlib.colors.LogNorm object at 0x1534fcf2ef40&gt;, &#x27;vminmax&#x27;: (0.0001, 100.0), &#x27;cmap&#x27;: &#x27;cubehelix_r&#x27;, &#x27;scale&#x27;: &#x27;log&#x27;, &#x27;take_log&#x27;: True, &#x27;imshow_args&#x27;: {&#x27;norm&#x27;: &lt;matplotlib.colors.LogNorm object at 0x1534fcf2ef40&gt;, &#x27;cmap&#x27;: &#x27;cubehelix_r&#x27;, &#x27;cbar_kwargs&#x27;: {&#x27;label&#x27;: &#x27;$t_{\\\\rm cool}\\\\;[{\\\\rm yr}]$&#x27;}}}, &#x27;vAmag&#x27;: {&#x27;field_dep&#x27;: {&#x27;density&#x27;, &#x27;cell_centered_B&#x27;}, &#x27;func&#x27;: &lt;function set_derived_fields_mag.&lt;locals&gt;._vAmag at 0x1534fd2d78b0&gt;, &#x27;label&#x27;: &#x27;$v_A\\\\;[{\\\\rm km}\\\\,{\\\\rm s}^{-1}]$&#x27;, &#x27;norm&#x27;: &lt;matplotlib.colors.LogNorm object at 0x1534fcf2e400&gt;, &#x27;vminmax&#x27;: (0.1, 1000.0), &#x27;cmap&#x27;: &#x27;cividis&#x27;, &#x27;scale&#x27;: &#x27;log&#x27;, &#x27;take_log&#x27;: True, &#x27;imshow_args&#x27;: {&#x27;norm&#x27;: &lt;matplotlib.colors.LogNorm object at 0x1534fcf2e400&gt;, &#x27;cmap&#x27;: &#x27;cividis&#x27;, &#x27;cbar_kwargs&#x27;: {&#x27;label&#x27;: &#x27;$v_A\\\\;[{\\\\rm km}\\\\,{\\\\rm s}^{-1}]$&#x27;}}}, &#x27;vAx&#x27;: {&#x27;field_dep&#x27;: {&#x27;density&#x27;, &#x27;cell_centered_B&#x27;}, &#x27;func&#x27;: &lt;function set_derived_fields_mag.&lt;locals&gt;._vAx at 0x1534fd2d7820&gt;, &#x27;label&#x27;: &#x27;$v_{A,x}\\\\;[{\\\\rm km/s}]$&#x27;, &#x27;norm&#x27;: &lt;matplotlib.colors.Normalize object at 0x1534fcf2ef10&gt;, &#x27;vminmax&#x27;: (-100.0, 100.0), &#x27;cmap&#x27;: &#x27;RdBu&#x27;, &#x27;scale&#x27;: &#x27;linear&#x27;, &#x27;take_log&#x27;: False, &#x27;imshow_args&#x27;: {&#x27;norm&#x27;: &lt;matplotlib.colors.Normalize object at 0x1534fcf2ef10&gt;, &#x27;cmap&#x27;: &#x27;RdBu&#x27;, &#x27;cbar_kwargs&#x27;: {&#x27;label&#x27;: &#x27;$v_{A,x}\\\\;[{\\\\rm km/s}]$&#x27;}}}, &#x27;vAy&#x27;: {&#x27;field_dep&#x27;: {&#x27;density&#x27;, &#x27;cell_centered_B&#x27;}, &#x27;func&#x27;: &lt;function set_derived_fields_mag.&lt;locals&gt;._vAy at 0x1534fd2d7790&gt;, &#x27;label&#x27;: &#x27;$v_{A,y}\\\\;[{\\\\rm km/s}]$&#x27;, &#x27;norm&#x27;: &lt;matplotlib.colors.Normalize object at 0x1534fcf2ec10&gt;, &#x27;vminmax&#x27;: (-100.0, 100.0), &#x27;cmap&#x27;: &#x27;RdBu&#x27;, &#x27;scale&#x27;: &#x27;linear&#x27;, &#x27;take_log&#x27;: False, &#x27;imshow_args&#x27;: {&#x27;norm&#x27;: &lt;matplotlib.colors.Normalize object at 0x1534fcf2ec10&gt;, &#x27;cmap&#x27;: &#x27;RdBu&#x27;, &#x27;cbar_kwargs&#x27;: {&#x27;label&#x27;: &#x27;$v_{A,y}\\\\;[{\\\\rm km/s}]$&#x27;}}}, &#x27;vAz&#x27;: {&#x27;field_dep&#x27;: {&#x27;density&#x27;, &#x27;cell_centered_B&#x27;}, &#x27;func&#x27;: &lt;function set_derived_fields_mag.&lt;locals&gt;._vAz at 0x1534fd2d7700&gt;, &#x27;label&#x27;: &#x27;$v_{A,z}\\\\;[{\\\\rm km/s}]$&#x27;, &#x27;norm&#x27;: &lt;matplotlib.colors.Normalize object at 0x1534fcf2ec40&gt;, &#x27;vminmax&#x27;: (-100.0, 100.0), &#x27;cmap&#x27;: &#x27;RdBu&#x27;, &#x27;scale&#x27;: &#x27;linear&#x27;, &#x27;take_log&#x27;: False, &#x27;imshow_args&#x27;: {&#x27;norm&#x27;: &lt;matplotlib.colors.Normalize object at 0x1534fcf2ec40&gt;, &#x27;cmap&#x27;: &#x27;RdBu&#x27;, &#x27;cbar_kwargs&#x27;: {&#x27;label&#x27;: &#x27;$v_{A,z}\\\\;[{\\\\rm km/s}]$&#x27;}}}, &#x27;Bx&#x27;: {&#x27;field_dep&#x27;: {&#x27;cell_centered_B&#x27;}, &#x27;func&#x27;: &lt;function set_derived_fields_mag.&lt;locals&gt;._Bx at 0x1534fd2d75e0&gt;, &#x27;label&#x27;: &#x27;$B_{x}\\\\;[\\\\mu{\\\\rm G}]$&#x27;, &#x27;norm&#x27;: &lt;matplotlib.colors.Normalize object at 0x1534fcf2ecd0&gt;, &#x27;vminmax&#x27;: (-100.0, 100.0), &#x27;cmap&#x27;: &#x27;RdBu&#x27;, &#x27;scale&#x27;: &#x27;linear&#x27;, &#x27;take_log&#x27;: False, &#x27;imshow_args&#x27;: {&#x27;norm&#x27;: &lt;matplotlib.colors.Normalize object at 0x1534fcf2ecd0&gt;, &#x27;cmap&#x27;: &#x27;RdBu&#x27;, &#x27;cbar_kwargs&#x27;: {&#x27;label&#x27;: &#x27;$B_{x}\\\\;[\\\\mu{\\\\rm G}]$&#x27;}}}, &#x27;By&#x27;: {&#x27;field_dep&#x27;: {&#x27;cell_centered_B&#x27;}, &#x27;func&#x27;: &lt;function set_derived_fields_mag.&lt;locals&gt;._By at 0x1534fd2d7310&gt;, &#x27;label&#x27;: &#x27;$B_{y}\\\\;[\\\\mu{\\\\rm G}]$&#x27;, &#x27;norm&#x27;: &lt;matplotlib.colors.Normalize object at 0x1534fcf2ed00&gt;, &#x27;vminmax&#x27;: (-100.0, 100.0), &#x27;cmap&#x27;: &#x27;RdBu&#x27;, &#x27;scale&#x27;: &#x27;linear&#x27;, &#x27;take_log&#x27;: False, &#x27;imshow_args&#x27;: {&#x27;norm&#x27;: &lt;matplotlib.colors.Normalize object at 0x1534fcf2ed00&gt;, &#x27;cmap&#x27;: &#x27;RdBu&#x27;, &#x27;cbar_kwargs&#x27;: {&#x27;label&#x27;: &#x27;$B_{y}\\\\;[\\\\mu{\\\\rm G}]$&#x27;}}}, &#x27;Bz&#x27;: {&#x27;field_dep&#x27;: {&#x27;cell_centered_B&#x27;}, &#x27;func&#x27;: &lt;function set_derived_fields_mag.&lt;locals&gt;._Bz at 0x1534fd2d73a0&gt;, &#x27;label&#x27;: &#x27;$B_{z}\\\\;[\\\\mu{\\\\rm G}]$&#x27;, &#x27;norm&#x27;: &lt;matplotlib.colors.Normalize object at 0x1534fcf2ed30&gt;, &#x27;vminmax&#x27;: (-100.0, 100.0), &#x27;cmap&#x27;: &#x27;RdBu&#x27;, &#x27;scale&#x27;: &#x27;linear&#x27;, &#x27;take_log&#x27;: False, &#x27;imshow_args&#x27;: {&#x27;norm&#x27;: &lt;matplotlib.colors.Normalize object at 0x1534fcf2ed30&gt;, &#x27;cmap&#x27;: &#x27;RdBu&#x27;, &#x27;cbar_kwargs&#x27;: {&#x27;label&#x27;: &#x27;$B_{z}\\\\;[\\\\mu{\\\\rm G}]$&#x27;}}}, &#x27;Bmag&#x27;: {&#x27;field_dep&#x27;: {&#x27;cell_centered_B&#x27;}, &#x27;func&#x27;: &lt;function set_derived_fields_mag.&lt;locals&gt;._Bmag at 0x1534fd3331f0&gt;, &#x27;label&#x27;: &#x27;$|\\\\mathbf{B}|\\\\;[\\\\mu{\\\\rm G}]$&#x27;, &#x27;norm&#x27;: &lt;matplotlib.colors.LogNorm object at 0x1534fcf2ed60&gt;, &#x27;vminmax&#x27;: (0.1, 100.0), &#x27;cmap&#x27;: &#x27;cividis&#x27;, &#x27;scale&#x27;: &#x27;log&#x27;, &#x27;take_log&#x27;: True, &#x27;imshow_args&#x27;: {&#x27;norm&#x27;: &lt;matplotlib.colors.LogNorm object at 0x1534fcf2ed60&gt;, &#x27;cmap&#x27;: &#x27;cividis&#x27;, &#x27;cbar_kwargs&#x27;: {&#x27;label&#x27;: &#x27;$|\\\\mathbf{B}|\\\\;[\\\\mu{\\\\rm G}]$&#x27;}}}, &#x27;nH2&#x27;: {&#x27;field_dep&#x27;: {&#x27;density&#x27;, &#x27;xH2&#x27;}, &#x27;func&#x27;: &lt;function set_derived_fields_newcool.&lt;locals&gt;._nH2 at 0x1534fd333040&gt;, &#x27;label&#x27;: &#x27;$n_{\\\\rm H_2}\\\\;[{\\\\rm cm^{-3}}]$&#x27;, &#x27;norm&#x27;: &lt;matplotlib.colors.LogNorm object at 0x1534fcf2ed90&gt;, &#x27;vminmax&#x27;: (1.0, 10000.0), &#x27;cmap&#x27;: &lt;matplotlib.colors.LinearSegmentedColormap object at 0x1534fcf31280&gt;, &#x27;scale&#x27;: &#x27;log&#x27;, &#x27;take_log&#x27;: True, &#x27;imshow_args&#x27;: {&#x27;norm&#x27;: &lt;matplotlib.colors.LogNorm object at 0x1534fcf2ed90&gt;, &#x27;cmap&#x27;: &lt;matplotlib.colors.LinearSegmentedColormap object at 0x1534fcf31280&gt;, &#x27;cbar_kwargs&#x27;: {&#x27;label&#x27;: &#x27;$n_{\\\\rm H_2}\\\\;[{\\\\rm cm^{-3}}]$&#x27;}}}, &#x27;2nH2&#x27;: {&#x27;field_dep&#x27;: {&#x27;density&#x27;, &#x27;xH2&#x27;}, &#x27;func&#x27;: &lt;function set_derived_fields_newcool.&lt;locals&gt;._2nH2 at 0x1534fd333e50&gt;, &#x27;label&#x27;: &#x27;$2n_{\\\\rm H_2}\\\\;[{\\\\rm cm^{-3}}]$&#x27;, &#x27;norm&#x27;: &lt;matplotlib.colors.LogNorm object at 0x1534fcf2ee20&gt;, &#x27;vminmax&#x27;: (1.0, 10000.0), &#x27;cmap&#x27;: &lt;matplotlib.colors.LinearSegmentedColormap object at 0x1534fcf31af0&gt;, &#x27;scale&#x27;: &#x27;log&#x27;, &#x27;take_log&#x27;: True, &#x27;imshow_args&#x27;: {&#x27;norm&#x27;: &lt;matplotlib.colors.LogNorm object at 0x1534fcf2ee20&gt;, &#x27;cmap&#x27;: &lt;matplotlib.colors.LinearSegmentedColormap object at 0x1534fcf31af0&gt;, &#x27;cbar_kwargs&#x27;: {&#x27;label&#x27;: &#x27;$2n_{\\\\rm H_2}\\\\;[{\\\\rm cm^{-3}}]$&#x27;}}}, &#x27;xH2&#x27;: {&#x27;field_dep&#x27;: {&#x27;xH2&#x27;}, &#x27;func&#x27;: &lt;function set_derived_fields_newcool.&lt;locals&gt;._xH2 at 0x1534fd3a25e0&gt;, &#x27;label&#x27;: &#x27;$x_{\\\\rm H_2}$&#x27;, &#x27;norm&#x27;: &lt;matplotlib.colors.Normalize object at 0x1534fcf2e0a0&gt;, &#x27;vminmax&#x27;: (0, 0.5), &#x27;cmap&#x27;: &#x27;viridis&#x27;, &#x27;scale&#x27;: &#x27;linear&#x27;, &#x27;take_log&#x27;: False, &#x27;imshow_args&#x27;: {&#x27;norm&#x27;: &lt;matplotlib.colors.Normalize object at 0x1534fcf2e0a0&gt;, &#x27;cmap&#x27;: &#x27;viridis&#x27;, &#x27;cbar_kwargs&#x27;: {&#x27;label&#x27;: &#x27;$x_{\\\\rm H_2}$&#x27;}}}, &#x27;2xH2&#x27;: {&#x27;field_dep&#x27;: {&#x27;xH2&#x27;}, &#x27;func&#x27;: &lt;function set_derived_fields_newcool.&lt;locals&gt;._2xH2 at 0x1534fd3a2670&gt;, &#x27;label&#x27;: &#x27;$2x_{\\\\rm H_2}$&#x27;, &#x27;norm&#x27;: &lt;matplotlib.colors.Normalize object at 0x1534fcf2e1f0&gt;, &#x27;vminmax&#x27;: (0, 1.0), &#x27;cmap&#x27;: &#x27;viridis&#x27;, &#x27;scale&#x27;: &#x27;linear&#x27;, &#x27;take_log&#x27;: False, &#x27;imshow_args&#x27;: {&#x27;norm&#x27;: &lt;matplotlib.colors.Normalize object at 0x1534fcf2e1f0&gt;, &#x27;cmap&#x27;: &#x27;viridis&#x27;, &#x27;cbar_kwargs&#x27;: {&#x27;label&#x27;: &#x27;$2x_{\\\\rm H_2}$&#x27;}}}, &#x27;nHI&#x27;: {&#x27;field_dep&#x27;: {&#x27;density&#x27;, &#x27;xHI&#x27;}, &#x27;func&#x27;: &lt;function set_derived_fields_newcool.&lt;locals&gt;._nHI at 0x1534fd3a2700&gt;, &#x27;label&#x27;: &#x27;$n_{\\\\rm H^0}\\\\;[{\\\\rm cm^{-3}}]$&#x27;, &#x27;norm&#x27;: &lt;matplotlib.colors.LogNorm object at 0x1534fcf2e250&gt;, &#x27;vminmax&#x27;: (0.001, 10000.0), &#x27;cmap&#x27;: &lt;matplotlib.colors.LinearSegmentedColormap object at 0x1534fcf31b50&gt;, &#x27;scale&#x27;: &#x27;log&#x27;, &#x27;take_log&#x27;: True, &#x27;imshow_args&#x27;: {&#x27;norm&#x27;: &lt;matplotlib.colors.LogNorm object at 0x1534fcf2e250&gt;, &#x27;cmap&#x27;: &lt;matplotlib.colors.LinearSegmentedColormap object at 0x1534fcf31b50&gt;, &#x27;cbar_kwargs&#x27;: {&#x27;label&#x27;: &#x27;$n_{\\\\rm H^0}\\\\;[{\\\\rm cm^{-3}}]$&#x27;}}}, &#x27;xHI&#x27;: {&#x27;field_dep&#x27;: {&#x27;xHI&#x27;}, &#x27;func&#x27;: &lt;function set_derived_fields_newcool.&lt;locals&gt;._xHI at 0x1534fd3a2790&gt;, &#x27;label&#x27;: &#x27;$x_{\\\\rm H^0}$&#x27;, &#x27;norm&#x27;: &lt;matplotlib.colors.Normalize object at 0x1534fcf2efa0&gt;, &#x27;vminmax&#x27;: (0.0, 1.0), &#x27;cmap&#x27;: &#x27;viridis&#x27;, &#x27;scale&#x27;: &#x27;linear&#x27;, &#x27;take_log&#x27;: False, &#x27;imshow_args&#x27;: {&#x27;norm&#x27;: &lt;matplotlib.colors.Normalize object at 0x1534fcf2efa0&gt;, &#x27;cmap&#x27;: &#x27;viridis&#x27;, &#x27;cbar_kwargs&#x27;: {&#x27;label&#x27;: &#x27;$x_{\\\\rm H^0}$&#x27;}}}, &#x27;nHII&#x27;: {&#x27;field_dep&#x27;: {&#x27;density&#x27;, &#x27;xH2&#x27;, &#x27;xHI&#x27;}, &#x27;func&#x27;: &lt;function set_derived_fields_newcool.&lt;locals&gt;._nHII at 0x1534fd3a2820&gt;, &#x27;label&#x27;: &#x27;$n_{\\\\rm H^+}\\\\;[{\\\\rm cm^{-3}}]$&#x27;, &#x27;norm&#x27;: &lt;matplotlib.colors.LogNorm object at 0x1534fcf2ef70&gt;, &#x27;vminmax&#x27;: (0.001, 10000.0), &#x27;cmap&#x27;: &lt;matplotlib.colors.LinearSegmentedColormap object at 0x1534fcf31ee0&gt;, &#x27;scale&#x27;: &#x27;log&#x27;, &#x27;take_log&#x27;: True, &#x27;imshow_args&#x27;: {&#x27;norm&#x27;: &lt;matplotlib.colors.LogNorm object at 0x1534fcf2ef70&gt;, &#x27;cmap&#x27;: &lt;matplotlib.colors.LinearSegmentedColormap object at 0x1534fcf31ee0&gt;, &#x27;cbar_kwargs&#x27;: {&#x27;label&#x27;: &#x27;$n_{\\\\rm H^+}\\\\;[{\\\\rm cm^{-3}}]$&#x27;}}}, &#x27;xHII&#x27;: {&#x27;field_dep&#x27;: {&#x27;xH2&#x27;, &#x27;xHI&#x27;}, &#x27;func&#x27;: &lt;function set_derived_fields_newcool.&lt;locals&gt;._xHII at 0x1534fd3a28b0&gt;, &#x27;label&#x27;: &#x27;$x_{\\\\rm H^+}$&#x27;, &#x27;norm&#x27;: &lt;matplotlib.colors.Normalize object at 0x1534fcf2e730&gt;, &#x27;vminmax&#x27;: (0.0, 1.0), &#x27;cmap&#x27;: &#x27;viridis&#x27;, &#x27;scale&#x27;: &#x27;linear&#x27;, &#x27;take_log&#x27;: False, &#x27;imshow_args&#x27;: {&#x27;norm&#x27;: &lt;matplotlib.colors.Normalize object at 0x1534fcf2e730&gt;, &#x27;cmap&#x27;: &#x27;viridis&#x27;, &#x27;cbar_kwargs&#x27;: {&#x27;label&#x27;: &#x27;$x_{\\\\rm H^+}$&#x27;}}}, &#x27;nHn&#x27;: {&#x27;field_dep&#x27;: {&#x27;density&#x27;, &#x27;xH2&#x27;, &#x27;xHI&#x27;}, &#x27;func&#x27;: &lt;function set_derived_fields_newcool.&lt;locals&gt;._nHn at 0x1534fd3a2f70&gt;, &#x27;label&#x27;: &#x27;$n_{\\\\rm H^0} + 2n_{\\\\rm H_2}\\\\;[{\\\\rm cm^{-3}}]$&#x27;, &#x27;norm&#x27;: &lt;matplotlib.colors.LogNorm object at 0x1534fcf2e6a0&gt;, &#x27;vminmax&#x27;: (0.001, 10000.0), &#x27;cmap&#x27;: &lt;matplotlib.colors.LinearSegmentedColormap object at 0x1534fcf31c40&gt;, &#x27;scale&#x27;: &#x27;log&#x27;, &#x27;take_log&#x27;: True, &#x27;imshow_args&#x27;: {&#x27;norm&#x27;: &lt;matplotlib.colors.LogNorm object at 0x1534fcf2e6a0&gt;, &#x27;cmap&#x27;: &lt;matplotlib.colors.LinearSegmentedColormap object at 0x1534fcf31c40&gt;, &#x27;cbar_kwargs&#x27;: {&#x27;label&#x27;: &#x27;$n_{\\\\rm H^0} + 2n_{\\\\rm H_2}\\\\;[{\\\\rm cm^{-3}}]$&#x27;}}}, &#x27;xn&#x27;: {&#x27;field_dep&#x27;: {&#x27;xH2&#x27;, &#x27;xHI&#x27;}, &#x27;func&#x27;: &lt;function set_derived_fields_newcool.&lt;locals&gt;._xn at 0x1534fd3a29d0&gt;, &#x27;label&#x27;: &#x27;$x_{\\\\rm n}$&#x27;, &#x27;norm&#x27;: &lt;matplotlib.colors.Normalize object at 0x1534fcf2ec70&gt;, &#x27;vminmax&#x27;: (0, 1), &#x27;cmap&#x27;: &lt;matplotlib.colors.LinearSegmentedColormap object at 0x1534fcf31cd0&gt;, &#x27;scale&#x27;: &#x27;linear&#x27;, &#x27;take_log&#x27;: False, &#x27;imshow_args&#x27;: {&#x27;norm&#x27;: &lt;matplotlib.colors.Normalize object at 0x1534fcf2ec70&gt;, &#x27;cmap&#x27;: &lt;matplotlib.colors.LinearSegmentedColormap object at 0x1534fcf31cd0&gt;, &#x27;cbar_kwargs&#x27;: {&#x27;label&#x27;: &#x27;$x_{\\\\rm n}$&#x27;}}}, &#x27;ne&#x27;: {&#x27;field_dep&#x27;: {&#x27;density&#x27;, &#x27;xe&#x27;}, &#x27;func&#x27;: &lt;function set_derived_fields_newcool.&lt;locals&gt;._ne at 0x1534fd3a2ee0&gt;, &#x27;label&#x27;: &#x27;$n_{\\\\rm e}$&#x27;, &#x27;norm&#x27;: &lt;matplotlib.colors.LogNorm object at 0x1534fcf2ebb0&gt;, &#x27;vminmax&#x27;: (0.0001, 1000.0), &#x27;cmap&#x27;: &#x27;viridis&#x27;, &#x27;scale&#x27;: &#x27;log&#x27;, &#x27;take_log&#x27;: True, &#x27;imshow_args&#x27;: {&#x27;norm&#x27;: &lt;matplotlib.colors.LogNorm object at 0x1534fcf2ebb0&gt;, &#x27;cmap&#x27;: &#x27;viridis&#x27;, &#x27;cbar_kwargs&#x27;: {&#x27;label&#x27;: &#x27;$n_{\\\\rm e}$&#x27;}}}, &#x27;nesq&#x27;: {&#x27;field_dep&#x27;: {&#x27;density&#x27;, &#x27;xe&#x27;}, &#x27;func&#x27;: &lt;function set_derived_fields_newcool.&lt;locals&gt;._nesq at 0x1534fd3a2e50&gt;, &#x27;label&#x27;: &#x27;$n_{\\\\rm e}^2$&#x27;, &#x27;norm&#x27;: &lt;matplotlib.colors.LogNorm object at 0x1534fcf2e370&gt;, &#x27;vminmax&#x27;: (1e-08, 1000000.0), &#x27;cmap&#x27;: &#x27;viridis&#x27;, &#x27;scale&#x27;: &#x27;log&#x27;, &#x27;take_log&#x27;: True, &#x27;imshow_args&#x27;: {&#x27;norm&#x27;: &lt;matplotlib.colors.LogNorm object at 0x1534fcf2e370&gt;, &#x27;cmap&#x27;: &#x27;viridis&#x27;, &#x27;cbar_kwargs&#x27;: {&#x27;label&#x27;: &#x27;$n_{\\\\rm e}^2$&#x27;}}}, &#x27;xe&#x27;: {&#x27;field_dep&#x27;: {&#x27;xe&#x27;}, &#x27;func&#x27;: &lt;function set_derived_fields_newcool.&lt;locals&gt;._xe at 0x1534fd3a2dc0&gt;, &#x27;label&#x27;: &#x27;$x_{\\\\rm e}$&#x27;, &#x27;norm&#x27;: &lt;matplotlib.colors.LogNorm object at 0x1534fcf2e280&gt;, &#x27;vminmax&#x27;: (1e-06, 1.208), &#x27;cmap&#x27;: &#x27;viridis&#x27;, &#x27;scale&#x27;: &#x27;log&#x27;, &#x27;take_log&#x27;: True, &#x27;imshow_args&#x27;: {&#x27;norm&#x27;: &lt;matplotlib.colors.LogNorm object at 0x1534fcf2e280&gt;, &#x27;cmap&#x27;: &#x27;viridis&#x27;, &#x27;cbar_kwargs&#x27;: {&#x27;label&#x27;: &#x27;$x_{\\\\rm e}$&#x27;}}}, &#x27;xCI&#x27;: {&#x27;field_dep&#x27;: {&#x27;xCI_over_xCtot&#x27;}, &#x27;func&#x27;: &lt;function set_derived_fields_newcool.&lt;locals&gt;._xCI at 0x1534fd3a2d30&gt;, &#x27;label&#x27;: &#x27;$x_{\\\\rm CI}$&#x27;, &#x27;norm&#x27;: &lt;matplotlib.colors.Normalize object at 0x1534fcf2e130&gt;, &#x27;vminmax&#x27;: (0, 0.00016), &#x27;cmap&#x27;: &#x27;viridis&#x27;, &#x27;scale&#x27;: &#x27;linear&#x27;, &#x27;take_log&#x27;: False, &#x27;imshow_args&#x27;: {&#x27;norm&#x27;: &lt;matplotlib.colors.Normalize object at 0x1534fcf2e130&gt;, &#x27;cmap&#x27;: &#x27;viridis&#x27;, &#x27;cbar_kwargs&#x27;: {&#x27;label&#x27;: &#x27;$x_{\\\\rm CI}$&#x27;}}}, &#x27;nCI&#x27;: {&#x27;field_dep&#x27;: {&#x27;density&#x27;, &#x27;xCI_over_xCtot&#x27;}, &#x27;func&#x27;: &lt;function set_derived_fields_newcool.&lt;locals&gt;._nCI at 0x1534fd3a2ca0&gt;, &#x27;label&#x27;: &#x27;$x_{\\\\rm CI}$&#x27;, &#x27;norm&#x27;: &lt;matplotlib.colors.LogNorm object at 0x1534fcf2e070&gt;, &#x27;vminmax&#x27;: (0.016, 1.6), &#x27;cmap&#x27;: &#x27;viridis&#x27;, &#x27;scale&#x27;: &#x27;log&#x27;, &#x27;take_log&#x27;: True, &#x27;imshow_args&#x27;: {&#x27;norm&#x27;: &lt;matplotlib.colors.LogNorm object at 0x1534fcf2e070&gt;, &#x27;cmap&#x27;: &#x27;viridis&#x27;, &#x27;cbar_kwargs&#x27;: {&#x27;label&#x27;: &#x27;$x_{\\\\rm CI}$&#x27;}}}, &#x27;xCII&#x27;: {&#x27;field_dep&#x27;: {&#x27;xe&#x27;, &#x27;xH2&#x27;, &#x27;pressure&#x27;, &#x27;CR_ionization_rate&#x27;, &#x27;xHI&#x27;, &#x27;density&#x27;}, &#x27;func&#x27;: &lt;function set_derived_fields_newcool.&lt;locals&gt;._xCII at 0x1534fd3a2c10&gt;, &#x27;label&#x27;: &#x27;$x_{\\\\rm CII}$&#x27;, &#x27;norm&#x27;: &lt;matplotlib.colors.Normalize object at 0x1534fcf2e910&gt;, &#x27;vminmax&#x27;: (0, 0.00016), &#x27;cmap&#x27;: &#x27;viridis&#x27;, &#x27;scale&#x27;: &#x27;linear&#x27;, &#x27;take_log&#x27;: False, &#x27;imshow_args&#x27;: {&#x27;norm&#x27;: &lt;matplotlib.colors.Normalize object at 0x1534fcf2e910&gt;, &#x27;cmap&#x27;: &#x27;viridis&#x27;, &#x27;cbar_kwargs&#x27;: {&#x27;label&#x27;: &#x27;$x_{\\\\rm CII}$&#x27;}}}, &#x27;xi_CR&#x27;: {&#x27;field_dep&#x27;: {&#x27;CR_ionization_rate&#x27;}, &#x27;func&#x27;: &lt;function set_derived_fields_newcool.&lt;locals&gt;._xi_CR at 0x1534fd3a2b80&gt;, &#x27;label&#x27;: &#x27;$\\\\xi_{\\\\rm CR}\\\\;[{\\\\rm s}^{-1}]$&#x27;, &#x27;norm&#x27;: &lt;matplotlib.colors.LogNorm object at 0x1534fcf2e3d0&gt;, &#x27;vminmax&#x27;: (1e-15, 1e-17), &#x27;cmap&#x27;: &#x27;viridis&#x27;, &#x27;scale&#x27;: &#x27;log&#x27;, &#x27;take_log&#x27;: True, &#x27;imshow_args&#x27;: {&#x27;norm&#x27;: &lt;matplotlib.colors.LogNorm object at 0x1534fcf2e3d0&gt;, &#x27;cmap&#x27;: &#x27;viridis&#x27;, &#x27;cbar_kwargs&#x27;: {&#x27;label&#x27;: &#x27;$\\\\xi_{\\\\rm CR}\\\\;[{\\\\rm s}^{-1}]$&#x27;}}}, &#x27;T_alt&#x27;: {&#x27;field_dep&#x27;: {&#x27;density&#x27;, &#x27;xe&#x27;, &#x27;pressure&#x27;, &#x27;xH2&#x27;}, &#x27;func&#x27;: &lt;function set_derived_fields_newcool.&lt;locals&gt;._T_alt at 0x1534fd3a2af0&gt;, &#x27;label&#x27;: &#x27;$T_{\\\\rm alt}\\\\;[{\\\\rm K}]$&#x27;, &#x27;norm&#x27;: &lt;matplotlib.colors.LogNorm object at 0x1534fcf2eb50&gt;, &#x27;vminmax&#x27;: (10.0, 10000000.0), &#x27;cmap&#x27;: &lt;matplotlib.colors.LinearSegmentedColormap object at 0x1534fcf31c70&gt;, &#x27;scale&#x27;: &#x27;log&#x27;, &#x27;take_log&#x27;: True, &#x27;imshow_args&#x27;: {&#x27;norm&#x27;: &lt;matplotlib.colors.LogNorm object at 0x1534fcf2eb50&gt;, &#x27;cmap&#x27;: &lt;matplotlib.colors.LinearSegmentedColormap object at 0x1534fcf31c70&gt;, &#x27;cbar_kwargs&#x27;: {&#x27;label&#x27;: &#x27;$T_{\\\\rm alt}\\\\;[{\\\\rm K}]$&#x27;}}}, &#x27;chi_PE&#x27;: {&#x27;field_dep&#x27;: {&#x27;rad_energy_density_PE&#x27;}, &#x27;func&#x27;: &lt;function set_derived_fields_rad.&lt;locals&gt;._chi_PE at 0x1534fd3a2a60&gt;, &#x27;label&#x27;: &#x27;$\\\\chi_{\\\\rm PE}$&#x27;, &#x27;norm&#x27;: &lt;matplotlib.colors.LogNorm object at 0x1534fcf2ee80&gt;, &#x27;vminmax&#x27;: (0.0001, 10000.0), &#x27;cmap&#x27;: &#x27;viridis&#x27;, &#x27;scale&#x27;: &#x27;log&#x27;, &#x27;take_log&#x27;: True, &#x27;imshow_args&#x27;: {&#x27;norm&#x27;: &lt;matplotlib.colors.LogNorm object at 0x1534fcf2ee80&gt;, &#x27;cmap&#x27;: &#x27;viridis&#x27;, &#x27;cbar_kwargs&#x27;: {&#x27;label&#x27;: &#x27;$\\\\chi_{\\\\rm PE}$&#x27;}}}, &#x27;chi_LW&#x27;: {&#x27;field_dep&#x27;: {&#x27;rad_energy_density_LW&#x27;}, &#x27;func&#x27;: &lt;function set_derived_fields_rad.&lt;locals&gt;._chi_LW at 0x1534fcec4310&gt;, &#x27;label&#x27;: &#x27;$\\\\chi_{\\\\rm LW}$&#x27;, &#x27;norm&#x27;: &lt;matplotlib.colors.LogNorm object at 0x1534fcf2eca0&gt;, &#x27;vminmax&#x27;: (0.0001, 10000.0), &#x27;cmap&#x27;: &#x27;viridis&#x27;, &#x27;scale&#x27;: &#x27;log&#x27;, &#x27;take_log&#x27;: True, &#x27;imshow_args&#x27;: {&#x27;norm&#x27;: &lt;matplotlib.colors.LogNorm object at 0x1534fcf2eca0&gt;, &#x27;cmap&#x27;: &#x27;viridis&#x27;, &#x27;cbar_kwargs&#x27;: {&#x27;label&#x27;: &#x27;$\\\\chi_{\\\\rm LW}$&#x27;}}}, &#x27;chi_FUV&#x27;: {&#x27;field_dep&#x27;: {&#x27;rad_energy_density_PE&#x27;, &#x27;rad_energy_density_LW&#x27;}, &#x27;func&#x27;: &lt;function set_derived_fields_rad.&lt;locals&gt;._chi_FUV at 0x1534fcec4040&gt;, &#x27;label&#x27;: &#x27;$\\\\chi_{\\\\rm FUV}$&#x27;, &#x27;norm&#x27;: &lt;matplotlib.colors.LogNorm object at 0x1534fcf2eb20&gt;, &#x27;vminmax&#x27;: (0.0001, 10000.0), &#x27;cmap&#x27;: &#x27;viridis&#x27;, &#x27;scale&#x27;: &#x27;log&#x27;, &#x27;take_log&#x27;: True, &#x27;imshow_args&#x27;: {&#x27;norm&#x27;: &lt;matplotlib.colors.LogNorm object at 0x1534fcf2eb20&gt;, &#x27;cmap&#x27;: &#x27;viridis&#x27;, &#x27;cbar_kwargs&#x27;: {&#x27;label&#x27;: &#x27;$\\\\chi_{\\\\rm FUV}$&#x27;}}}, &#x27;Erad_LyC&#x27;: {&#x27;field_dep&#x27;: {&#x27;rad_energy_density_PH&#x27;}, &#x27;func&#x27;: &lt;function set_derived_fields_rad.&lt;locals&gt;._Erad_LyC at 0x1534fcec40d0&gt;, &#x27;label&#x27;: &#x27;$\\\\mathcal{E}_{\\\\rm LyC}\\\\;[{\\\\rm erg\\\\,{\\\\rm cm}^{-3}}]$&#x27;, &#x27;norm&#x27;: &lt;matplotlib.colors.LogNorm object at 0x1534fcf2e340&gt;, &#x27;vminmax&#x27;: (5e-16, 5e-11), &#x27;cmap&#x27;: &#x27;viridis&#x27;, &#x27;scale&#x27;: &#x27;log&#x27;, &#x27;take_log&#x27;: True, &#x27;imshow_args&#x27;: {&#x27;norm&#x27;: &lt;matplotlib.colors.LogNorm object at 0x1534fcf2e340&gt;, &#x27;cmap&#x27;: &#x27;viridis&#x27;, &#x27;cbar_kwargs&#x27;: {&#x27;label&#x27;: &#x27;$\\\\mathcal{E}_{\\\\rm LyC}\\\\;[{\\\\rm erg\\\\,{\\\\rm cm}^{-3}}]$&#x27;}}}, &#x27;Erad_FUV&#x27;: {&#x27;field_dep&#x27;: {&#x27;rad_energy_density_PE&#x27;, &#x27;rad_energy_density_LW&#x27;}, &#x27;func&#x27;: &lt;function set_derived_fields_rad.&lt;locals&gt;._Erad_FUV at 0x1534fcec4160&gt;, &#x27;label&#x27;: &#x27;$\\\\mathcal{E}_{\\\\rm FUV}$&#x27;, &#x27;norm&#x27;: &lt;matplotlib.colors.LogNorm object at 0x1534fcf2e160&gt;, &#x27;vminmax&#x27;: (5e-16, 5e-11), &#x27;cmap&#x27;: &#x27;viridis&#x27;, &#x27;scale&#x27;: &#x27;log&#x27;, &#x27;take_log&#x27;: True, &#x27;imshow_args&#x27;: {&#x27;norm&#x27;: &lt;matplotlib.colors.LogNorm object at 0x1534fcf2e160&gt;, &#x27;cmap&#x27;: &#x27;viridis&#x27;, &#x27;cbar_kwargs&#x27;: {&#x27;label&#x27;: &#x27;$\\\\mathcal{E}_{\\\\rm FUV}$&#x27;}}}, &#x27;heat_ratio&#x27;: {&#x27;field_dep&#x27;: {&#x27;heat_ratio&#x27;}, &#x27;func&#x27;: &lt;function set_derived_fields_rad.&lt;locals&gt;._heat_ratio at 0x1534fcec41f0&gt;, &#x27;label&#x27;: &#x27;heat_ratio&#x27;, &#x27;norm&#x27;: &lt;matplotlib.colors.LogNorm object at 0x1534fcf2e040&gt;, &#x27;vminmax&#x27;: (0.1, 10000.0), &#x27;cmap&#x27;: &#x27;viridis&#x27;, &#x27;scale&#x27;: &#x27;log&#x27;, &#x27;take_log&#x27;: True, &#x27;imshow_args&#x27;: {&#x27;norm&#x27;: &lt;matplotlib.colors.LogNorm object at 0x1534fcf2e040&gt;, &#x27;cmap&#x27;: &#x27;viridis&#x27;, &#x27;cbar_kwargs&#x27;: {&#x27;label&#x27;: &#x27;heat_ratio&#x27;}}}, &#x27;NHeff&#x27;: {&#x27;field_dep&#x27;: {&#x27;rad_energy_density_PE_unatt&#x27;, &#x27;rad_energy_density_PE&#x27;}, &#x27;func&#x27;: &lt;function set_derived_fields_rad.&lt;locals&gt;._NHeff at 0x1534fcec4280&gt;, &#x27;label&#x27;: &#x27;$N_{\\\\rm H,eff}\\\\;[{\\\\rm cm^{-2}}]$&#x27;, &#x27;norm&#x27;: &lt;matplotlib.colors.Normalize object at 0x1534fcf23c70&gt;, &#x27;vminmax&#x27;: (0, 1e+22), &#x27;cmap&#x27;: &#x27;gist_earth&#x27;, &#x27;scale&#x27;: &#x27;linear&#x27;, &#x27;take_log&#x27;: False, &#x27;imshow_args&#x27;: {&#x27;norm&#x27;: &lt;matplotlib.colors.Normalize object at 0x1534fcf23c70&gt;, &#x27;cmap&#x27;: &#x27;gist_earth&#x27;, &#x27;cbar_kwargs&#x27;: {&#x27;label&#x27;: &#x27;$N_{\\\\rm H,eff}\\\\;[{\\\\rm cm^{-2}}]$&#x27;}}}, &#x27;chi_H2&#x27;: {&#x27;field_dep&#x27;: {&#x27;rad_energy_density_LW_diss&#x27;}, &#x27;func&#x27;: &lt;function set_derived_fields_rad.&lt;locals&gt;._chi_H2 at 0x1534fd3a2940&gt;, &#x27;label&#x27;: &#x27;$\\\\chi_{\\\\rm H_2}$&#x27;, &#x27;norm&#x27;: &lt;matplotlib.colors.LogNorm object at 0x1534fcf23df0&gt;, &#x27;vminmax&#x27;: (1e-08, 10000.0), &#x27;cmap&#x27;: &#x27;viridis&#x27;, &#x27;scale&#x27;: &#x27;log&#x27;, &#x27;take_log&#x27;: True, &#x27;imshow_args&#x27;: {&#x27;norm&#x27;: &lt;matplotlib.colors.LogNorm object at 0x1534fcf23df0&gt;, &#x27;cmap&#x27;: &#x27;viridis&#x27;, &#x27;cbar_kwargs&#x27;: {&#x27;label&#x27;: &#x27;$\\\\chi_{\\\\rm H_2}$&#x27;}}}, &#x27;chi_CI&#x27;: {&#x27;field_dep&#x27;: {&#x27;rad_energy_density_CI&#x27;}, &#x27;func&#x27;: &lt;function set_derived_fields_rad.&lt;locals&gt;._chi_CI at 0x1534fcec43a0&gt;, &#x27;label&#x27;: &#x27;$\\\\chi_{\\\\rm C^0}$&#x27;, &#x27;norm&#x27;: &lt;matplotlib.colors.LogNorm object at 0x1534fcf23d30&gt;, &#x27;vminmax&#x27;: (1e-08, 10000.0), &#x27;cmap&#x27;: &#x27;viridis&#x27;, &#x27;scale&#x27;: &#x27;log&#x27;, &#x27;take_log&#x27;: True, &#x27;imshow_args&#x27;: {&#x27;norm&#x27;: &lt;matplotlib.colors.LogNorm object at 0x1534fcf23d30&gt;, &#x27;cmap&#x27;: &#x27;viridis&#x27;, &#x27;cbar_kwargs&#x27;: {&#x27;label&#x27;: &#x27;$\\\\chi_{\\\\rm C^0}$&#x27;}}}, &#x27;fshld_H2&#x27;: {&#x27;field_dep&#x27;: {&#x27;rad_energy_density_LW_diss&#x27;, &#x27;rad_energy_density_LW&#x27;}, &#x27;func&#x27;: &lt;function set_derived_fields_rad.&lt;locals&gt;._fshld_H2 at 0x1534fcec4430&gt;, &#x27;label&#x27;: &#x27;$f_{\\\\rm shld,H2}$&#x27;, &#x27;norm&#x27;: &lt;matplotlib.colors.LogNorm object at 0x1534fcf23880&gt;, &#x27;vminmax&#x27;: (1e-06, 1.0), &#x27;cmap&#x27;: &#x27;tab20c&#x27;, &#x27;scale&#x27;: &#x27;log&#x27;, &#x27;take_log&#x27;: True, &#x27;imshow_args&#x27;: {&#x27;norm&#x27;: &lt;matplotlib.colors.LogNorm object at 0x1534fcf23880&gt;, &#x27;cmap&#x27;: &#x27;tab20c&#x27;, &#x27;cbar_kwargs&#x27;: {&#x27;label&#x27;: &#x27;$f_{\\\\rm shld,H2}$&#x27;}}}, &#x27;j_X&#x27;: {&#x27;field_dep&#x27;: {&#x27;density&#x27;, &#x27;xe&#x27;, &#x27;pressure&#x27;, &#x27;xH2&#x27;}, &#x27;func&#x27;: &lt;function set_derived_fields_xray.&lt;locals&gt;._j_Xray at 0x1534fcec44c0&gt;, &#x27;label&#x27;: &#x27;$j_{\\\\rm X}$ (0.5-7.0 keV) $[{\\\\rm erg}\\\\,{\\\\rm s}^{-1}\\\\,{\\\\rm cm}^{-3}]$&#x27;, &#x27;norm&#x27;: &lt;matplotlib.colors.LogNorm object at 0x1534fcf23a90&gt;, &#x27;vminmax&#x27;: (1e-34, 1e-25), &#x27;cmap&#x27;: &#x27;plasma&#x27;, &#x27;scale&#x27;: &#x27;log&#x27;, &#x27;take_log&#x27;: True, &#x27;imshow_args&#x27;: {&#x27;norm&#x27;: &lt;matplotlib.colors.LogNorm object at 0x1534fcf23a90&gt;, &#x27;cmap&#x27;: &#x27;plasma&#x27;, &#x27;cbar_kwargs&#x27;: {&#x27;label&#x27;: &#x27;$j_{\\\\rm X}$ (0.5-7.0 keV) $[{\\\\rm erg}\\\\,{\\\\rm s}^{-1}\\\\,{\\\\rm cm}^{-3}]$&#x27;}}}}</dd></dl></div></li></ul></div></div>"
      ],
      "text/plain": [
       "<xarray.Dataset>\n",
       "Dimensions:                (x: 64, y: 64, z: 384)\n",
       "Coordinates:\n",
       "  * x                      (x) float64 -504.0 -488.0 -472.0 ... 488.0 504.0\n",
       "  * y                      (y) float64 -504.0 -488.0 -472.0 ... 488.0 504.0\n",
       "  * z                      (z) float64 -3.064e+03 -3.048e+03 ... 3.064e+03\n",
       "Data variables:\n",
       "    rad_energy_density_PE  (z, y, x) float32 1.393 1.393 1.393 ... 1.276 1.276\n",
       "    rad_energy_density_LW  (z, y, x) float32 0.2307 0.2307 ... 0.2898 0.2898\n",
       "    chi_FUV                (z, y, x) float32 0.4251 0.4251 ... 0.4102 0.4102\n",
       "    T                      (z, y, x) float32 1.106e+06 1.006e+06 ... 1.444e+06\n",
       "    nH                     (z, y, x) float32 0.0003833 0.000415 ... 0.0003379\n",
       "Attributes:\n",
       "    all_grid_equal:  True\n",
       "    ngrid:           1\n",
       "    le:              [ -512.  -512. -3072.]\n",
       "    re:              [ 512.  512. 3072.]\n",
       "    dx:              [16. 16. 16.]\n",
       "    Lx:              [1024. 1024. 6144.]\n",
       "    center:          [0. 0. 0.]\n",
       "    Nx:              [ 64  64 384]\n",
       "    ndim:            3\n",
       "    time:            200.0042\n",
       "    dfi:             {'rho': {'field_dep': ['density'], 'func': <function set..."
      ]
     },
     "execution_count": 23,
     "metadata": {},
     "output_type": "execute_result"
    }
   ],
   "source": [
    "d"
   ]
  },
  {
   "cell_type": "code",
   "execution_count": 24,
   "id": "03c2fcf6",
   "metadata": {},
   "outputs": [
    {
     "data": {
      "text/plain": [
       "Coordinates:\n",
       "  * x        (x) float64 -504.0 -488.0 -472.0 -456.0 ... 456.0 472.0 488.0 504.0\n",
       "  * y        (y) float64 -504.0 -488.0 -472.0 -456.0 ... 456.0 472.0 488.0 504.0\n",
       "  * z        (z) float64 -3.064e+03 -3.048e+03 ... 3.048e+03 3.064e+03"
      ]
     },
     "execution_count": 24,
     "metadata": {},
     "output_type": "execute_result"
    }
   ],
   "source": [
    "d.coords"
   ]
  },
  {
   "cell_type": "code",
   "execution_count": 25,
   "id": "356524a3",
   "metadata": {},
   "outputs": [
    {
     "data": {
      "text/html": [
       "<div><svg style=\"position: absolute; width: 0; height: 0; overflow: hidden\">\n",
       "<defs>\n",
       "<symbol id=\"icon-database\" viewBox=\"0 0 32 32\">\n",
       "<path d=\"M16 0c-8.837 0-16 2.239-16 5v4c0 2.761 7.163 5 16 5s16-2.239 16-5v-4c0-2.761-7.163-5-16-5z\"></path>\n",
       "<path d=\"M16 17c-8.837 0-16-2.239-16-5v6c0 2.761 7.163 5 16 5s16-2.239 16-5v-6c0 2.761-7.163 5-16 5z\"></path>\n",
       "<path d=\"M16 26c-8.837 0-16-2.239-16-5v6c0 2.761 7.163 5 16 5s16-2.239 16-5v-6c0 2.761-7.163 5-16 5z\"></path>\n",
       "</symbol>\n",
       "<symbol id=\"icon-file-text2\" viewBox=\"0 0 32 32\">\n",
       "<path d=\"M28.681 7.159c-0.694-0.947-1.662-2.053-2.724-3.116s-2.169-2.030-3.116-2.724c-1.612-1.182-2.393-1.319-2.841-1.319h-15.5c-1.378 0-2.5 1.121-2.5 2.5v27c0 1.378 1.122 2.5 2.5 2.5h23c1.378 0 2.5-1.122 2.5-2.5v-19.5c0-0.448-0.137-1.23-1.319-2.841zM24.543 5.457c0.959 0.959 1.712 1.825 2.268 2.543h-4.811v-4.811c0.718 0.556 1.584 1.309 2.543 2.268zM28 29.5c0 0.271-0.229 0.5-0.5 0.5h-23c-0.271 0-0.5-0.229-0.5-0.5v-27c0-0.271 0.229-0.5 0.5-0.5 0 0 15.499-0 15.5 0v7c0 0.552 0.448 1 1 1h7v19.5z\"></path>\n",
       "<path d=\"M23 26h-14c-0.552 0-1-0.448-1-1s0.448-1 1-1h14c0.552 0 1 0.448 1 1s-0.448 1-1 1z\"></path>\n",
       "<path d=\"M23 22h-14c-0.552 0-1-0.448-1-1s0.448-1 1-1h14c0.552 0 1 0.448 1 1s-0.448 1-1 1z\"></path>\n",
       "<path d=\"M23 18h-14c-0.552 0-1-0.448-1-1s0.448-1 1-1h14c0.552 0 1 0.448 1 1s-0.448 1-1 1z\"></path>\n",
       "</symbol>\n",
       "</defs>\n",
       "</svg>\n",
       "<style>/* CSS stylesheet for displaying xarray objects in jupyterlab.\n",
       " *\n",
       " */\n",
       "\n",
       ":root {\n",
       "  --xr-font-color0: var(--jp-content-font-color0, rgba(0, 0, 0, 1));\n",
       "  --xr-font-color2: var(--jp-content-font-color2, rgba(0, 0, 0, 0.54));\n",
       "  --xr-font-color3: var(--jp-content-font-color3, rgba(0, 0, 0, 0.38));\n",
       "  --xr-border-color: var(--jp-border-color2, #e0e0e0);\n",
       "  --xr-disabled-color: var(--jp-layout-color3, #bdbdbd);\n",
       "  --xr-background-color: var(--jp-layout-color0, white);\n",
       "  --xr-background-color-row-even: var(--jp-layout-color1, white);\n",
       "  --xr-background-color-row-odd: var(--jp-layout-color2, #eeeeee);\n",
       "}\n",
       "\n",
       "html[theme=dark],\n",
       "body.vscode-dark {\n",
       "  --xr-font-color0: rgba(255, 255, 255, 1);\n",
       "  --xr-font-color2: rgba(255, 255, 255, 0.54);\n",
       "  --xr-font-color3: rgba(255, 255, 255, 0.38);\n",
       "  --xr-border-color: #1F1F1F;\n",
       "  --xr-disabled-color: #515151;\n",
       "  --xr-background-color: #111111;\n",
       "  --xr-background-color-row-even: #111111;\n",
       "  --xr-background-color-row-odd: #313131;\n",
       "}\n",
       "\n",
       ".xr-wrap {\n",
       "  display: block;\n",
       "  min-width: 300px;\n",
       "  max-width: 700px;\n",
       "}\n",
       "\n",
       ".xr-text-repr-fallback {\n",
       "  /* fallback to plain text repr when CSS is not injected (untrusted notebook) */\n",
       "  display: none;\n",
       "}\n",
       "\n",
       ".xr-header {\n",
       "  padding-top: 6px;\n",
       "  padding-bottom: 6px;\n",
       "  margin-bottom: 4px;\n",
       "  border-bottom: solid 1px var(--xr-border-color);\n",
       "}\n",
       "\n",
       ".xr-header > div,\n",
       ".xr-header > ul {\n",
       "  display: inline;\n",
       "  margin-top: 0;\n",
       "  margin-bottom: 0;\n",
       "}\n",
       "\n",
       ".xr-obj-type,\n",
       ".xr-array-name {\n",
       "  margin-left: 2px;\n",
       "  margin-right: 10px;\n",
       "}\n",
       "\n",
       ".xr-obj-type {\n",
       "  color: var(--xr-font-color2);\n",
       "}\n",
       "\n",
       ".xr-sections {\n",
       "  padding-left: 0 !important;\n",
       "  display: grid;\n",
       "  grid-template-columns: 150px auto auto 1fr 20px 20px;\n",
       "}\n",
       "\n",
       ".xr-section-item {\n",
       "  display: contents;\n",
       "}\n",
       "\n",
       ".xr-section-item input {\n",
       "  display: none;\n",
       "}\n",
       "\n",
       ".xr-section-item input + label {\n",
       "  color: var(--xr-disabled-color);\n",
       "}\n",
       "\n",
       ".xr-section-item input:enabled + label {\n",
       "  cursor: pointer;\n",
       "  color: var(--xr-font-color2);\n",
       "}\n",
       "\n",
       ".xr-section-item input:enabled + label:hover {\n",
       "  color: var(--xr-font-color0);\n",
       "}\n",
       "\n",
       ".xr-section-summary {\n",
       "  grid-column: 1;\n",
       "  color: var(--xr-font-color2);\n",
       "  font-weight: 500;\n",
       "}\n",
       "\n",
       ".xr-section-summary > span {\n",
       "  display: inline-block;\n",
       "  padding-left: 0.5em;\n",
       "}\n",
       "\n",
       ".xr-section-summary-in:disabled + label {\n",
       "  color: var(--xr-font-color2);\n",
       "}\n",
       "\n",
       ".xr-section-summary-in + label:before {\n",
       "  display: inline-block;\n",
       "  content: '►';\n",
       "  font-size: 11px;\n",
       "  width: 15px;\n",
       "  text-align: center;\n",
       "}\n",
       "\n",
       ".xr-section-summary-in:disabled + label:before {\n",
       "  color: var(--xr-disabled-color);\n",
       "}\n",
       "\n",
       ".xr-section-summary-in:checked + label:before {\n",
       "  content: '▼';\n",
       "}\n",
       "\n",
       ".xr-section-summary-in:checked + label > span {\n",
       "  display: none;\n",
       "}\n",
       "\n",
       ".xr-section-summary,\n",
       ".xr-section-inline-details {\n",
       "  padding-top: 4px;\n",
       "  padding-bottom: 4px;\n",
       "}\n",
       "\n",
       ".xr-section-inline-details {\n",
       "  grid-column: 2 / -1;\n",
       "}\n",
       "\n",
       ".xr-section-details {\n",
       "  display: none;\n",
       "  grid-column: 1 / -1;\n",
       "  margin-bottom: 5px;\n",
       "}\n",
       "\n",
       ".xr-section-summary-in:checked ~ .xr-section-details {\n",
       "  display: contents;\n",
       "}\n",
       "\n",
       ".xr-array-wrap {\n",
       "  grid-column: 1 / -1;\n",
       "  display: grid;\n",
       "  grid-template-columns: 20px auto;\n",
       "}\n",
       "\n",
       ".xr-array-wrap > label {\n",
       "  grid-column: 1;\n",
       "  vertical-align: top;\n",
       "}\n",
       "\n",
       ".xr-preview {\n",
       "  color: var(--xr-font-color3);\n",
       "}\n",
       "\n",
       ".xr-array-preview,\n",
       ".xr-array-data {\n",
       "  padding: 0 5px !important;\n",
       "  grid-column: 2;\n",
       "}\n",
       "\n",
       ".xr-array-data,\n",
       ".xr-array-in:checked ~ .xr-array-preview {\n",
       "  display: none;\n",
       "}\n",
       "\n",
       ".xr-array-in:checked ~ .xr-array-data,\n",
       ".xr-array-preview {\n",
       "  display: inline-block;\n",
       "}\n",
       "\n",
       ".xr-dim-list {\n",
       "  display: inline-block !important;\n",
       "  list-style: none;\n",
       "  padding: 0 !important;\n",
       "  margin: 0;\n",
       "}\n",
       "\n",
       ".xr-dim-list li {\n",
       "  display: inline-block;\n",
       "  padding: 0;\n",
       "  margin: 0;\n",
       "}\n",
       "\n",
       ".xr-dim-list:before {\n",
       "  content: '(';\n",
       "}\n",
       "\n",
       ".xr-dim-list:after {\n",
       "  content: ')';\n",
       "}\n",
       "\n",
       ".xr-dim-list li:not(:last-child):after {\n",
       "  content: ',';\n",
       "  padding-right: 5px;\n",
       "}\n",
       "\n",
       ".xr-has-index {\n",
       "  font-weight: bold;\n",
       "}\n",
       "\n",
       ".xr-var-list,\n",
       ".xr-var-item {\n",
       "  display: contents;\n",
       "}\n",
       "\n",
       ".xr-var-item > div,\n",
       ".xr-var-item label,\n",
       ".xr-var-item > .xr-var-name span {\n",
       "  background-color: var(--xr-background-color-row-even);\n",
       "  margin-bottom: 0;\n",
       "}\n",
       "\n",
       ".xr-var-item > .xr-var-name:hover span {\n",
       "  padding-right: 5px;\n",
       "}\n",
       "\n",
       ".xr-var-list > li:nth-child(odd) > div,\n",
       ".xr-var-list > li:nth-child(odd) > label,\n",
       ".xr-var-list > li:nth-child(odd) > .xr-var-name span {\n",
       "  background-color: var(--xr-background-color-row-odd);\n",
       "}\n",
       "\n",
       ".xr-var-name {\n",
       "  grid-column: 1;\n",
       "}\n",
       "\n",
       ".xr-var-dims {\n",
       "  grid-column: 2;\n",
       "}\n",
       "\n",
       ".xr-var-dtype {\n",
       "  grid-column: 3;\n",
       "  text-align: right;\n",
       "  color: var(--xr-font-color2);\n",
       "}\n",
       "\n",
       ".xr-var-preview {\n",
       "  grid-column: 4;\n",
       "}\n",
       "\n",
       ".xr-var-name,\n",
       ".xr-var-dims,\n",
       ".xr-var-dtype,\n",
       ".xr-preview,\n",
       ".xr-attrs dt {\n",
       "  white-space: nowrap;\n",
       "  overflow: hidden;\n",
       "  text-overflow: ellipsis;\n",
       "  padding-right: 10px;\n",
       "}\n",
       "\n",
       ".xr-var-name:hover,\n",
       ".xr-var-dims:hover,\n",
       ".xr-var-dtype:hover,\n",
       ".xr-attrs dt:hover {\n",
       "  overflow: visible;\n",
       "  width: auto;\n",
       "  z-index: 1;\n",
       "}\n",
       "\n",
       ".xr-var-attrs,\n",
       ".xr-var-data {\n",
       "  display: none;\n",
       "  background-color: var(--xr-background-color) !important;\n",
       "  padding-bottom: 5px !important;\n",
       "}\n",
       "\n",
       ".xr-var-attrs-in:checked ~ .xr-var-attrs,\n",
       ".xr-var-data-in:checked ~ .xr-var-data {\n",
       "  display: block;\n",
       "}\n",
       "\n",
       ".xr-var-data > table {\n",
       "  float: right;\n",
       "}\n",
       "\n",
       ".xr-var-name span,\n",
       ".xr-var-data,\n",
       ".xr-attrs {\n",
       "  padding-left: 25px !important;\n",
       "}\n",
       "\n",
       ".xr-attrs,\n",
       ".xr-var-attrs,\n",
       ".xr-var-data {\n",
       "  grid-column: 1 / -1;\n",
       "}\n",
       "\n",
       "dl.xr-attrs {\n",
       "  padding: 0;\n",
       "  margin: 0;\n",
       "  display: grid;\n",
       "  grid-template-columns: 125px auto;\n",
       "}\n",
       "\n",
       ".xr-attrs dt,\n",
       ".xr-attrs dd {\n",
       "  padding: 0;\n",
       "  margin: 0;\n",
       "  float: left;\n",
       "  padding-right: 10px;\n",
       "  width: auto;\n",
       "}\n",
       "\n",
       ".xr-attrs dt {\n",
       "  font-weight: normal;\n",
       "  grid-column: 1;\n",
       "}\n",
       "\n",
       ".xr-attrs dt:hover span {\n",
       "  display: inline-block;\n",
       "  background: var(--xr-background-color);\n",
       "  padding-right: 10px;\n",
       "}\n",
       "\n",
       ".xr-attrs dd {\n",
       "  grid-column: 2;\n",
       "  white-space: pre-wrap;\n",
       "  word-break: break-all;\n",
       "}\n",
       "\n",
       ".xr-icon-database,\n",
       ".xr-icon-file-text2 {\n",
       "  display: inline-block;\n",
       "  vertical-align: middle;\n",
       "  width: 1em;\n",
       "  height: 1.5em !important;\n",
       "  stroke-width: 0;\n",
       "  stroke: currentColor;\n",
       "  fill: currentColor;\n",
       "}\n",
       "</style><pre class='xr-text-repr-fallback'>&lt;xarray.DataArray &#x27;x&#x27; (x: 64)&gt;\n",
       "array([-504., -488., -472., -456., -440., -424., -408., -392., -376., -360.,\n",
       "       -344., -328., -312., -296., -280., -264., -248., -232., -216., -200.,\n",
       "       -184., -168., -152., -136., -120., -104.,  -88.,  -72.,  -56.,  -40.,\n",
       "        -24.,   -8.,    8.,   24.,   40.,   56.,   72.,   88.,  104.,  120.,\n",
       "        136.,  152.,  168.,  184.,  200.,  216.,  232.,  248.,  264.,  280.,\n",
       "        296.,  312.,  328.,  344.,  360.,  376.,  392.,  408.,  424.,  440.,\n",
       "        456.,  472.,  488.,  504.])\n",
       "Coordinates:\n",
       "  * x        (x) float64 -504.0 -488.0 -472.0 -456.0 ... 456.0 472.0 488.0 504.0</pre><div class='xr-wrap' hidden><div class='xr-header'><div class='xr-obj-type'>xarray.DataArray</div><div class='xr-array-name'>'x'</div><ul class='xr-dim-list'><li><span class='xr-has-index'>x</span>: 64</li></ul></div><ul class='xr-sections'><li class='xr-section-item'><div class='xr-array-wrap'><input id='section-0d740df1-0313-4c35-88e8-b50b441c04f5' class='xr-array-in' type='checkbox' checked><label for='section-0d740df1-0313-4c35-88e8-b50b441c04f5' title='Show/hide data repr'><svg class='icon xr-icon-database'><use xlink:href='#icon-database'></use></svg></label><div class='xr-array-preview xr-preview'><span>-504.0 -488.0 -472.0 -456.0 -440.0 ... 440.0 456.0 472.0 488.0 504.0</span></div><div class='xr-array-data'><pre>array([-504., -488., -472., -456., -440., -424., -408., -392., -376., -360.,\n",
       "       -344., -328., -312., -296., -280., -264., -248., -232., -216., -200.,\n",
       "       -184., -168., -152., -136., -120., -104.,  -88.,  -72.,  -56.,  -40.,\n",
       "        -24.,   -8.,    8.,   24.,   40.,   56.,   72.,   88.,  104.,  120.,\n",
       "        136.,  152.,  168.,  184.,  200.,  216.,  232.,  248.,  264.,  280.,\n",
       "        296.,  312.,  328.,  344.,  360.,  376.,  392.,  408.,  424.,  440.,\n",
       "        456.,  472.,  488.,  504.])</pre></div></div></li><li class='xr-section-item'><input id='section-c97abe19-be89-4df5-8e8c-07b61c5baf67' class='xr-section-summary-in' type='checkbox'  checked><label for='section-c97abe19-be89-4df5-8e8c-07b61c5baf67' class='xr-section-summary' >Coordinates: <span>(1)</span></label><div class='xr-section-inline-details'></div><div class='xr-section-details'><ul class='xr-var-list'><li class='xr-var-item'><div class='xr-var-name'><span class='xr-has-index'>x</span></div><div class='xr-var-dims'>(x)</div><div class='xr-var-dtype'>float64</div><div class='xr-var-preview xr-preview'>-504.0 -488.0 ... 488.0 504.0</div><input id='attrs-8e01d934-bfae-476a-b377-b952d38c0d25' class='xr-var-attrs-in' type='checkbox' disabled><label for='attrs-8e01d934-bfae-476a-b377-b952d38c0d25' title='Show/Hide attributes'><svg class='icon xr-icon-file-text2'><use xlink:href='#icon-file-text2'></use></svg></label><input id='data-2bd26358-df81-42f0-a1ca-7aeaff4b2346' class='xr-var-data-in' type='checkbox'><label for='data-2bd26358-df81-42f0-a1ca-7aeaff4b2346' title='Show/Hide data repr'><svg class='icon xr-icon-database'><use xlink:href='#icon-database'></use></svg></label><div class='xr-var-attrs'><dl class='xr-attrs'></dl></div><div class='xr-var-data'><pre>array([-504., -488., -472., -456., -440., -424., -408., -392., -376., -360.,\n",
       "       -344., -328., -312., -296., -280., -264., -248., -232., -216., -200.,\n",
       "       -184., -168., -152., -136., -120., -104.,  -88.,  -72.,  -56.,  -40.,\n",
       "        -24.,   -8.,    8.,   24.,   40.,   56.,   72.,   88.,  104.,  120.,\n",
       "        136.,  152.,  168.,  184.,  200.,  216.,  232.,  248.,  264.,  280.,\n",
       "        296.,  312.,  328.,  344.,  360.,  376.,  392.,  408.,  424.,  440.,\n",
       "        456.,  472.,  488.,  504.])</pre></div></li></ul></div></li><li class='xr-section-item'><input id='section-65f39f14-cca4-4e9c-921a-8fe53db19eb5' class='xr-section-summary-in' type='checkbox' disabled ><label for='section-65f39f14-cca4-4e9c-921a-8fe53db19eb5' class='xr-section-summary'  title='Expand/collapse section'>Attributes: <span>(0)</span></label><div class='xr-section-inline-details'></div><div class='xr-section-details'><dl class='xr-attrs'></dl></div></li></ul></div></div>"
      ],
      "text/plain": [
       "<xarray.DataArray 'x' (x: 64)>\n",
       "array([-504., -488., -472., -456., -440., -424., -408., -392., -376., -360.,\n",
       "       -344., -328., -312., -296., -280., -264., -248., -232., -216., -200.,\n",
       "       -184., -168., -152., -136., -120., -104.,  -88.,  -72.,  -56.,  -40.,\n",
       "        -24.,   -8.,    8.,   24.,   40.,   56.,   72.,   88.,  104.,  120.,\n",
       "        136.,  152.,  168.,  184.,  200.,  216.,  232.,  248.,  264.,  280.,\n",
       "        296.,  312.,  328.,  344.,  360.,  376.,  392.,  408.,  424.,  440.,\n",
       "        456.,  472.,  488.,  504.])\n",
       "Coordinates:\n",
       "  * x        (x) float64 -504.0 -488.0 -472.0 -456.0 ... 456.0 472.0 488.0 504.0"
      ]
     },
     "execution_count": 25,
     "metadata": {},
     "output_type": "execute_result"
    }
   ],
   "source": [
    "d.x # or d['x']"
   ]
  },
  {
   "cell_type": "code",
   "execution_count": 26,
   "id": "6365a6ff",
   "metadata": {},
   "outputs": [
    {
     "name": "stdout",
     "output_type": "stream",
     "text": [
      "<class 'numpy.ndarray'>\n"
     ]
    },
    {
     "data": {
      "text/plain": [
       "array([-504., -488., -472., -456., -440., -424., -408., -392., -376.,\n",
       "       -360., -344., -328., -312., -296., -280., -264., -248., -232.,\n",
       "       -216., -200., -184., -168., -152., -136., -120., -104.,  -88.,\n",
       "        -72.,  -56.,  -40.,  -24.,   -8.,    8.,   24.,   40.,   56.,\n",
       "         72.,   88.,  104.,  120.,  136.,  152.,  168.,  184.,  200.,\n",
       "        216.,  232.,  248.,  264.,  280.,  296.,  312.,  328.,  344.,\n",
       "        360.,  376.,  392.,  408.,  424.,  440.,  456.,  472.,  488.,\n",
       "        504.])"
      ]
     },
     "execution_count": 26,
     "metadata": {},
     "output_type": "execute_result"
    }
   ],
   "source": [
    "print(type(d.x.data))\n",
    "d.x.data # numpy array"
   ]
  },
  {
   "cell_type": "code",
   "execution_count": 27,
   "id": "f1928f63",
   "metadata": {},
   "outputs": [
    {
     "data": {
      "text/plain": [
       "['rad_energy_density_PE',\n",
       " 'rad_energy_density_LW',\n",
       " 'x',\n",
       " 'y',\n",
       " 'z',\n",
       " 'chi_FUV',\n",
       " 'T',\n",
       " 'nH']"
      ]
     },
     "execution_count": 27,
     "metadata": {},
     "output_type": "execute_result"
    }
   ],
   "source": [
    "list(d.variables)"
   ]
  },
  {
   "cell_type": "markdown",
   "id": "52b8244d",
   "metadata": {},
   "source": [
    "**The code below basically demonstrates how the derived field `chi_FUV` (FUV radiation field normalized by the Draine field) is calculated.**"
   ]
  },
  {
   "cell_type": "code",
   "execution_count": 28,
   "id": "7cbe8eb1",
   "metadata": {},
   "outputs": [],
   "source": [
    "# FUV = PE + LW\n",
    "d['rad_energy_density_FUV'] = d['rad_energy_density_LW'] + d['rad_energy_density_PE']"
   ]
  },
  {
   "cell_type": "code",
   "execution_count": 29,
   "id": "1609e5dc",
   "metadata": {},
   "outputs": [],
   "source": [
    "# radiation energy density in cgs units\n",
    "d['rad_energy_density_FUV_cgs'] = d['rad_energy_density_FUV']*u.energy_density"
   ]
  },
  {
   "cell_type": "code",
   "execution_count": 30,
   "id": "63c8a207",
   "metadata": {},
   "outputs": [
    {
     "data": {
      "text/plain": [
       "8.948e-14"
      ]
     },
     "execution_count": 30,
     "metadata": {},
     "output_type": "execute_result"
    }
   ],
   "source": [
    "# Draine unit in cgs units\n",
    "rad_energy_density_FUV_ISRF_cgs = s.par['cooling']['Erad_PE0'] + s.par['cooling']['Erad_LW0']\n",
    "rad_energy_density_FUV_ISRF_cgs"
   ]
  },
  {
   "cell_type": "code",
   "execution_count": 31,
   "id": "bbc1e5b3",
   "metadata": {},
   "outputs": [
    {
     "data": {
      "text/html": [
       "<div><svg style=\"position: absolute; width: 0; height: 0; overflow: hidden\">\n",
       "<defs>\n",
       "<symbol id=\"icon-database\" viewBox=\"0 0 32 32\">\n",
       "<path d=\"M16 0c-8.837 0-16 2.239-16 5v4c0 2.761 7.163 5 16 5s16-2.239 16-5v-4c0-2.761-7.163-5-16-5z\"></path>\n",
       "<path d=\"M16 17c-8.837 0-16-2.239-16-5v6c0 2.761 7.163 5 16 5s16-2.239 16-5v-6c0 2.761-7.163 5-16 5z\"></path>\n",
       "<path d=\"M16 26c-8.837 0-16-2.239-16-5v6c0 2.761 7.163 5 16 5s16-2.239 16-5v-6c0 2.761-7.163 5-16 5z\"></path>\n",
       "</symbol>\n",
       "<symbol id=\"icon-file-text2\" viewBox=\"0 0 32 32\">\n",
       "<path d=\"M28.681 7.159c-0.694-0.947-1.662-2.053-2.724-3.116s-2.169-2.030-3.116-2.724c-1.612-1.182-2.393-1.319-2.841-1.319h-15.5c-1.378 0-2.5 1.121-2.5 2.5v27c0 1.378 1.122 2.5 2.5 2.5h23c1.378 0 2.5-1.122 2.5-2.5v-19.5c0-0.448-0.137-1.23-1.319-2.841zM24.543 5.457c0.959 0.959 1.712 1.825 2.268 2.543h-4.811v-4.811c0.718 0.556 1.584 1.309 2.543 2.268zM28 29.5c0 0.271-0.229 0.5-0.5 0.5h-23c-0.271 0-0.5-0.229-0.5-0.5v-27c0-0.271 0.229-0.5 0.5-0.5 0 0 15.499-0 15.5 0v7c0 0.552 0.448 1 1 1h7v19.5z\"></path>\n",
       "<path d=\"M23 26h-14c-0.552 0-1-0.448-1-1s0.448-1 1-1h14c0.552 0 1 0.448 1 1s-0.448 1-1 1z\"></path>\n",
       "<path d=\"M23 22h-14c-0.552 0-1-0.448-1-1s0.448-1 1-1h14c0.552 0 1 0.448 1 1s-0.448 1-1 1z\"></path>\n",
       "<path d=\"M23 18h-14c-0.552 0-1-0.448-1-1s0.448-1 1-1h14c0.552 0 1 0.448 1 1s-0.448 1-1 1z\"></path>\n",
       "</symbol>\n",
       "</defs>\n",
       "</svg>\n",
       "<style>/* CSS stylesheet for displaying xarray objects in jupyterlab.\n",
       " *\n",
       " */\n",
       "\n",
       ":root {\n",
       "  --xr-font-color0: var(--jp-content-font-color0, rgba(0, 0, 0, 1));\n",
       "  --xr-font-color2: var(--jp-content-font-color2, rgba(0, 0, 0, 0.54));\n",
       "  --xr-font-color3: var(--jp-content-font-color3, rgba(0, 0, 0, 0.38));\n",
       "  --xr-border-color: var(--jp-border-color2, #e0e0e0);\n",
       "  --xr-disabled-color: var(--jp-layout-color3, #bdbdbd);\n",
       "  --xr-background-color: var(--jp-layout-color0, white);\n",
       "  --xr-background-color-row-even: var(--jp-layout-color1, white);\n",
       "  --xr-background-color-row-odd: var(--jp-layout-color2, #eeeeee);\n",
       "}\n",
       "\n",
       "html[theme=dark],\n",
       "body.vscode-dark {\n",
       "  --xr-font-color0: rgba(255, 255, 255, 1);\n",
       "  --xr-font-color2: rgba(255, 255, 255, 0.54);\n",
       "  --xr-font-color3: rgba(255, 255, 255, 0.38);\n",
       "  --xr-border-color: #1F1F1F;\n",
       "  --xr-disabled-color: #515151;\n",
       "  --xr-background-color: #111111;\n",
       "  --xr-background-color-row-even: #111111;\n",
       "  --xr-background-color-row-odd: #313131;\n",
       "}\n",
       "\n",
       ".xr-wrap {\n",
       "  display: block;\n",
       "  min-width: 300px;\n",
       "  max-width: 700px;\n",
       "}\n",
       "\n",
       ".xr-text-repr-fallback {\n",
       "  /* fallback to plain text repr when CSS is not injected (untrusted notebook) */\n",
       "  display: none;\n",
       "}\n",
       "\n",
       ".xr-header {\n",
       "  padding-top: 6px;\n",
       "  padding-bottom: 6px;\n",
       "  margin-bottom: 4px;\n",
       "  border-bottom: solid 1px var(--xr-border-color);\n",
       "}\n",
       "\n",
       ".xr-header > div,\n",
       ".xr-header > ul {\n",
       "  display: inline;\n",
       "  margin-top: 0;\n",
       "  margin-bottom: 0;\n",
       "}\n",
       "\n",
       ".xr-obj-type,\n",
       ".xr-array-name {\n",
       "  margin-left: 2px;\n",
       "  margin-right: 10px;\n",
       "}\n",
       "\n",
       ".xr-obj-type {\n",
       "  color: var(--xr-font-color2);\n",
       "}\n",
       "\n",
       ".xr-sections {\n",
       "  padding-left: 0 !important;\n",
       "  display: grid;\n",
       "  grid-template-columns: 150px auto auto 1fr 20px 20px;\n",
       "}\n",
       "\n",
       ".xr-section-item {\n",
       "  display: contents;\n",
       "}\n",
       "\n",
       ".xr-section-item input {\n",
       "  display: none;\n",
       "}\n",
       "\n",
       ".xr-section-item input + label {\n",
       "  color: var(--xr-disabled-color);\n",
       "}\n",
       "\n",
       ".xr-section-item input:enabled + label {\n",
       "  cursor: pointer;\n",
       "  color: var(--xr-font-color2);\n",
       "}\n",
       "\n",
       ".xr-section-item input:enabled + label:hover {\n",
       "  color: var(--xr-font-color0);\n",
       "}\n",
       "\n",
       ".xr-section-summary {\n",
       "  grid-column: 1;\n",
       "  color: var(--xr-font-color2);\n",
       "  font-weight: 500;\n",
       "}\n",
       "\n",
       ".xr-section-summary > span {\n",
       "  display: inline-block;\n",
       "  padding-left: 0.5em;\n",
       "}\n",
       "\n",
       ".xr-section-summary-in:disabled + label {\n",
       "  color: var(--xr-font-color2);\n",
       "}\n",
       "\n",
       ".xr-section-summary-in + label:before {\n",
       "  display: inline-block;\n",
       "  content: '►';\n",
       "  font-size: 11px;\n",
       "  width: 15px;\n",
       "  text-align: center;\n",
       "}\n",
       "\n",
       ".xr-section-summary-in:disabled + label:before {\n",
       "  color: var(--xr-disabled-color);\n",
       "}\n",
       "\n",
       ".xr-section-summary-in:checked + label:before {\n",
       "  content: '▼';\n",
       "}\n",
       "\n",
       ".xr-section-summary-in:checked + label > span {\n",
       "  display: none;\n",
       "}\n",
       "\n",
       ".xr-section-summary,\n",
       ".xr-section-inline-details {\n",
       "  padding-top: 4px;\n",
       "  padding-bottom: 4px;\n",
       "}\n",
       "\n",
       ".xr-section-inline-details {\n",
       "  grid-column: 2 / -1;\n",
       "}\n",
       "\n",
       ".xr-section-details {\n",
       "  display: none;\n",
       "  grid-column: 1 / -1;\n",
       "  margin-bottom: 5px;\n",
       "}\n",
       "\n",
       ".xr-section-summary-in:checked ~ .xr-section-details {\n",
       "  display: contents;\n",
       "}\n",
       "\n",
       ".xr-array-wrap {\n",
       "  grid-column: 1 / -1;\n",
       "  display: grid;\n",
       "  grid-template-columns: 20px auto;\n",
       "}\n",
       "\n",
       ".xr-array-wrap > label {\n",
       "  grid-column: 1;\n",
       "  vertical-align: top;\n",
       "}\n",
       "\n",
       ".xr-preview {\n",
       "  color: var(--xr-font-color3);\n",
       "}\n",
       "\n",
       ".xr-array-preview,\n",
       ".xr-array-data {\n",
       "  padding: 0 5px !important;\n",
       "  grid-column: 2;\n",
       "}\n",
       "\n",
       ".xr-array-data,\n",
       ".xr-array-in:checked ~ .xr-array-preview {\n",
       "  display: none;\n",
       "}\n",
       "\n",
       ".xr-array-in:checked ~ .xr-array-data,\n",
       ".xr-array-preview {\n",
       "  display: inline-block;\n",
       "}\n",
       "\n",
       ".xr-dim-list {\n",
       "  display: inline-block !important;\n",
       "  list-style: none;\n",
       "  padding: 0 !important;\n",
       "  margin: 0;\n",
       "}\n",
       "\n",
       ".xr-dim-list li {\n",
       "  display: inline-block;\n",
       "  padding: 0;\n",
       "  margin: 0;\n",
       "}\n",
       "\n",
       ".xr-dim-list:before {\n",
       "  content: '(';\n",
       "}\n",
       "\n",
       ".xr-dim-list:after {\n",
       "  content: ')';\n",
       "}\n",
       "\n",
       ".xr-dim-list li:not(:last-child):after {\n",
       "  content: ',';\n",
       "  padding-right: 5px;\n",
       "}\n",
       "\n",
       ".xr-has-index {\n",
       "  font-weight: bold;\n",
       "}\n",
       "\n",
       ".xr-var-list,\n",
       ".xr-var-item {\n",
       "  display: contents;\n",
       "}\n",
       "\n",
       ".xr-var-item > div,\n",
       ".xr-var-item label,\n",
       ".xr-var-item > .xr-var-name span {\n",
       "  background-color: var(--xr-background-color-row-even);\n",
       "  margin-bottom: 0;\n",
       "}\n",
       "\n",
       ".xr-var-item > .xr-var-name:hover span {\n",
       "  padding-right: 5px;\n",
       "}\n",
       "\n",
       ".xr-var-list > li:nth-child(odd) > div,\n",
       ".xr-var-list > li:nth-child(odd) > label,\n",
       ".xr-var-list > li:nth-child(odd) > .xr-var-name span {\n",
       "  background-color: var(--xr-background-color-row-odd);\n",
       "}\n",
       "\n",
       ".xr-var-name {\n",
       "  grid-column: 1;\n",
       "}\n",
       "\n",
       ".xr-var-dims {\n",
       "  grid-column: 2;\n",
       "}\n",
       "\n",
       ".xr-var-dtype {\n",
       "  grid-column: 3;\n",
       "  text-align: right;\n",
       "  color: var(--xr-font-color2);\n",
       "}\n",
       "\n",
       ".xr-var-preview {\n",
       "  grid-column: 4;\n",
       "}\n",
       "\n",
       ".xr-var-name,\n",
       ".xr-var-dims,\n",
       ".xr-var-dtype,\n",
       ".xr-preview,\n",
       ".xr-attrs dt {\n",
       "  white-space: nowrap;\n",
       "  overflow: hidden;\n",
       "  text-overflow: ellipsis;\n",
       "  padding-right: 10px;\n",
       "}\n",
       "\n",
       ".xr-var-name:hover,\n",
       ".xr-var-dims:hover,\n",
       ".xr-var-dtype:hover,\n",
       ".xr-attrs dt:hover {\n",
       "  overflow: visible;\n",
       "  width: auto;\n",
       "  z-index: 1;\n",
       "}\n",
       "\n",
       ".xr-var-attrs,\n",
       ".xr-var-data {\n",
       "  display: none;\n",
       "  background-color: var(--xr-background-color) !important;\n",
       "  padding-bottom: 5px !important;\n",
       "}\n",
       "\n",
       ".xr-var-attrs-in:checked ~ .xr-var-attrs,\n",
       ".xr-var-data-in:checked ~ .xr-var-data {\n",
       "  display: block;\n",
       "}\n",
       "\n",
       ".xr-var-data > table {\n",
       "  float: right;\n",
       "}\n",
       "\n",
       ".xr-var-name span,\n",
       ".xr-var-data,\n",
       ".xr-attrs {\n",
       "  padding-left: 25px !important;\n",
       "}\n",
       "\n",
       ".xr-attrs,\n",
       ".xr-var-attrs,\n",
       ".xr-var-data {\n",
       "  grid-column: 1 / -1;\n",
       "}\n",
       "\n",
       "dl.xr-attrs {\n",
       "  padding: 0;\n",
       "  margin: 0;\n",
       "  display: grid;\n",
       "  grid-template-columns: 125px auto;\n",
       "}\n",
       "\n",
       ".xr-attrs dt,\n",
       ".xr-attrs dd {\n",
       "  padding: 0;\n",
       "  margin: 0;\n",
       "  float: left;\n",
       "  padding-right: 10px;\n",
       "  width: auto;\n",
       "}\n",
       "\n",
       ".xr-attrs dt {\n",
       "  font-weight: normal;\n",
       "  grid-column: 1;\n",
       "}\n",
       "\n",
       ".xr-attrs dt:hover span {\n",
       "  display: inline-block;\n",
       "  background: var(--xr-background-color);\n",
       "  padding-right: 10px;\n",
       "}\n",
       "\n",
       ".xr-attrs dd {\n",
       "  grid-column: 2;\n",
       "  white-space: pre-wrap;\n",
       "  word-break: break-all;\n",
       "}\n",
       "\n",
       ".xr-icon-database,\n",
       ".xr-icon-file-text2 {\n",
       "  display: inline-block;\n",
       "  vertical-align: middle;\n",
       "  width: 1em;\n",
       "  height: 1.5em !important;\n",
       "  stroke-width: 0;\n",
       "  stroke: currentColor;\n",
       "  fill: currentColor;\n",
       "}\n",
       "</style><pre class='xr-text-repr-fallback'>&lt;xarray.DataArray (z: 384, y: 64, x: 64)&gt;\n",
       "array([[[ True,  True,  True, ...,  True,  True,  True],\n",
       "        [ True,  True,  True, ...,  True,  True,  True],\n",
       "        [ True,  True,  True, ...,  True,  True,  True],\n",
       "        ...,\n",
       "        [ True,  True,  True, ...,  True,  True,  True],\n",
       "        [ True,  True,  True, ...,  True,  True,  True],\n",
       "        [ True,  True,  True, ...,  True,  True,  True]],\n",
       "\n",
       "       [[ True,  True,  True, ...,  True,  True,  True],\n",
       "        [ True,  True,  True, ...,  True,  True,  True],\n",
       "        [ True,  True,  True, ...,  True,  True,  True],\n",
       "        ...,\n",
       "        [ True,  True,  True, ...,  True,  True,  True],\n",
       "        [ True,  True,  True, ...,  True,  True,  True],\n",
       "        [ True,  True,  True, ...,  True,  True,  True]],\n",
       "\n",
       "       [[ True,  True,  True, ...,  True,  True,  True],\n",
       "        [ True,  True,  True, ...,  True,  True,  True],\n",
       "        [ True,  True,  True, ...,  True,  True,  True],\n",
       "        ...,\n",
       "...\n",
       "        ...,\n",
       "        [ True,  True,  True, ...,  True,  True,  True],\n",
       "        [ True,  True,  True, ...,  True,  True,  True],\n",
       "        [ True,  True,  True, ...,  True,  True,  True]],\n",
       "\n",
       "       [[False, False, False, ..., False, False, False],\n",
       "        [False, False, False, ..., False, False, False],\n",
       "        [False, False, False, ..., False, False, False],\n",
       "        ...,\n",
       "        [False, False, False, ..., False, False, False],\n",
       "        [False, False, False, ..., False, False, False],\n",
       "        [False, False, False, ..., False, False, False]],\n",
       "\n",
       "       [[False, False, False, ..., False, False, False],\n",
       "        [False, False, False, ..., False, False, False],\n",
       "        [False, False, False, ..., False, False, False],\n",
       "        ...,\n",
       "        [False, False, False, ..., False, False, False],\n",
       "        [False, False, False, ..., False, False, False],\n",
       "        [False, False, False, ..., False, False, False]]])\n",
       "Coordinates:\n",
       "  * x        (x) float64 -504.0 -488.0 -472.0 -456.0 ... 456.0 472.0 488.0 504.0\n",
       "  * y        (y) float64 -504.0 -488.0 -472.0 -456.0 ... 456.0 472.0 488.0 504.0\n",
       "  * z        (z) float64 -3.064e+03 -3.048e+03 ... 3.048e+03 3.064e+03</pre><div class='xr-wrap' hidden><div class='xr-header'><div class='xr-obj-type'>xarray.DataArray</div><div class='xr-array-name'></div><ul class='xr-dim-list'><li><span class='xr-has-index'>z</span>: 384</li><li><span class='xr-has-index'>y</span>: 64</li><li><span class='xr-has-index'>x</span>: 64</li></ul></div><ul class='xr-sections'><li class='xr-section-item'><div class='xr-array-wrap'><input id='section-a2c6d06a-31e4-4693-8e5f-7349d792fc9c' class='xr-array-in' type='checkbox' checked><label for='section-a2c6d06a-31e4-4693-8e5f-7349d792fc9c' title='Show/hide data repr'><svg class='icon xr-icon-database'><use xlink:href='#icon-database'></use></svg></label><div class='xr-array-preview xr-preview'><span>True True True True True True ... False False False False False False</span></div><div class='xr-array-data'><pre>array([[[ True,  True,  True, ...,  True,  True,  True],\n",
       "        [ True,  True,  True, ...,  True,  True,  True],\n",
       "        [ True,  True,  True, ...,  True,  True,  True],\n",
       "        ...,\n",
       "        [ True,  True,  True, ...,  True,  True,  True],\n",
       "        [ True,  True,  True, ...,  True,  True,  True],\n",
       "        [ True,  True,  True, ...,  True,  True,  True]],\n",
       "\n",
       "       [[ True,  True,  True, ...,  True,  True,  True],\n",
       "        [ True,  True,  True, ...,  True,  True,  True],\n",
       "        [ True,  True,  True, ...,  True,  True,  True],\n",
       "        ...,\n",
       "        [ True,  True,  True, ...,  True,  True,  True],\n",
       "        [ True,  True,  True, ...,  True,  True,  True],\n",
       "        [ True,  True,  True, ...,  True,  True,  True]],\n",
       "\n",
       "       [[ True,  True,  True, ...,  True,  True,  True],\n",
       "        [ True,  True,  True, ...,  True,  True,  True],\n",
       "        [ True,  True,  True, ...,  True,  True,  True],\n",
       "        ...,\n",
       "...\n",
       "        ...,\n",
       "        [ True,  True,  True, ...,  True,  True,  True],\n",
       "        [ True,  True,  True, ...,  True,  True,  True],\n",
       "        [ True,  True,  True, ...,  True,  True,  True]],\n",
       "\n",
       "       [[False, False, False, ..., False, False, False],\n",
       "        [False, False, False, ..., False, False, False],\n",
       "        [False, False, False, ..., False, False, False],\n",
       "        ...,\n",
       "        [False, False, False, ..., False, False, False],\n",
       "        [False, False, False, ..., False, False, False],\n",
       "        [False, False, False, ..., False, False, False]],\n",
       "\n",
       "       [[False, False, False, ..., False, False, False],\n",
       "        [False, False, False, ..., False, False, False],\n",
       "        [False, False, False, ..., False, False, False],\n",
       "        ...,\n",
       "        [False, False, False, ..., False, False, False],\n",
       "        [False, False, False, ..., False, False, False],\n",
       "        [False, False, False, ..., False, False, False]]])</pre></div></div></li><li class='xr-section-item'><input id='section-c2367108-67f0-423e-a157-15557cab6f1d' class='xr-section-summary-in' type='checkbox'  checked><label for='section-c2367108-67f0-423e-a157-15557cab6f1d' class='xr-section-summary' >Coordinates: <span>(3)</span></label><div class='xr-section-inline-details'></div><div class='xr-section-details'><ul class='xr-var-list'><li class='xr-var-item'><div class='xr-var-name'><span class='xr-has-index'>x</span></div><div class='xr-var-dims'>(x)</div><div class='xr-var-dtype'>float64</div><div class='xr-var-preview xr-preview'>-504.0 -488.0 ... 488.0 504.0</div><input id='attrs-d94acf3d-01fb-4265-8fa0-9ad8c935448a' class='xr-var-attrs-in' type='checkbox' disabled><label for='attrs-d94acf3d-01fb-4265-8fa0-9ad8c935448a' title='Show/Hide attributes'><svg class='icon xr-icon-file-text2'><use xlink:href='#icon-file-text2'></use></svg></label><input id='data-a3531576-1522-4809-af58-b7d4f223cceb' class='xr-var-data-in' type='checkbox'><label for='data-a3531576-1522-4809-af58-b7d4f223cceb' title='Show/Hide data repr'><svg class='icon xr-icon-database'><use xlink:href='#icon-database'></use></svg></label><div class='xr-var-attrs'><dl class='xr-attrs'></dl></div><div class='xr-var-data'><pre>array([-504., -488., -472., -456., -440., -424., -408., -392., -376., -360.,\n",
       "       -344., -328., -312., -296., -280., -264., -248., -232., -216., -200.,\n",
       "       -184., -168., -152., -136., -120., -104.,  -88.,  -72.,  -56.,  -40.,\n",
       "        -24.,   -8.,    8.,   24.,   40.,   56.,   72.,   88.,  104.,  120.,\n",
       "        136.,  152.,  168.,  184.,  200.,  216.,  232.,  248.,  264.,  280.,\n",
       "        296.,  312.,  328.,  344.,  360.,  376.,  392.,  408.,  424.,  440.,\n",
       "        456.,  472.,  488.,  504.])</pre></div></li><li class='xr-var-item'><div class='xr-var-name'><span class='xr-has-index'>y</span></div><div class='xr-var-dims'>(y)</div><div class='xr-var-dtype'>float64</div><div class='xr-var-preview xr-preview'>-504.0 -488.0 ... 488.0 504.0</div><input id='attrs-5e301e78-ead1-4cce-927f-fd0dd968e4d9' class='xr-var-attrs-in' type='checkbox' disabled><label for='attrs-5e301e78-ead1-4cce-927f-fd0dd968e4d9' title='Show/Hide attributes'><svg class='icon xr-icon-file-text2'><use xlink:href='#icon-file-text2'></use></svg></label><input id='data-315700c8-38c3-4a3f-be30-1007f1029399' class='xr-var-data-in' type='checkbox'><label for='data-315700c8-38c3-4a3f-be30-1007f1029399' title='Show/Hide data repr'><svg class='icon xr-icon-database'><use xlink:href='#icon-database'></use></svg></label><div class='xr-var-attrs'><dl class='xr-attrs'></dl></div><div class='xr-var-data'><pre>array([-504., -488., -472., -456., -440., -424., -408., -392., -376., -360.,\n",
       "       -344., -328., -312., -296., -280., -264., -248., -232., -216., -200.,\n",
       "       -184., -168., -152., -136., -120., -104.,  -88.,  -72.,  -56.,  -40.,\n",
       "        -24.,   -8.,    8.,   24.,   40.,   56.,   72.,   88.,  104.,  120.,\n",
       "        136.,  152.,  168.,  184.,  200.,  216.,  232.,  248.,  264.,  280.,\n",
       "        296.,  312.,  328.,  344.,  360.,  376.,  392.,  408.,  424.,  440.,\n",
       "        456.,  472.,  488.,  504.])</pre></div></li><li class='xr-var-item'><div class='xr-var-name'><span class='xr-has-index'>z</span></div><div class='xr-var-dims'>(z)</div><div class='xr-var-dtype'>float64</div><div class='xr-var-preview xr-preview'>-3.064e+03 -3.048e+03 ... 3.064e+03</div><input id='attrs-754c93d1-940c-4fd0-806d-0f211eb15331' class='xr-var-attrs-in' type='checkbox' disabled><label for='attrs-754c93d1-940c-4fd0-806d-0f211eb15331' title='Show/Hide attributes'><svg class='icon xr-icon-file-text2'><use xlink:href='#icon-file-text2'></use></svg></label><input id='data-d21f5345-7166-4f20-8c8b-c3e2f84f763d' class='xr-var-data-in' type='checkbox'><label for='data-d21f5345-7166-4f20-8c8b-c3e2f84f763d' title='Show/Hide data repr'><svg class='icon xr-icon-database'><use xlink:href='#icon-database'></use></svg></label><div class='xr-var-attrs'><dl class='xr-attrs'></dl></div><div class='xr-var-data'><pre>array([-3064., -3048., -3032., ...,  3032.,  3048.,  3064.])</pre></div></li></ul></div></li><li class='xr-section-item'><input id='section-2f2cc6ce-8070-4c57-afef-b705438af26f' class='xr-section-summary-in' type='checkbox' disabled ><label for='section-2f2cc6ce-8070-4c57-afef-b705438af26f' class='xr-section-summary'  title='Expand/collapse section'>Attributes: <span>(0)</span></label><div class='xr-section-inline-details'></div><div class='xr-section-details'><dl class='xr-attrs'></dl></div></li></ul></div></div>"
      ],
      "text/plain": [
       "<xarray.DataArray (z: 384, y: 64, x: 64)>\n",
       "array([[[ True,  True,  True, ...,  True,  True,  True],\n",
       "        [ True,  True,  True, ...,  True,  True,  True],\n",
       "        [ True,  True,  True, ...,  True,  True,  True],\n",
       "        ...,\n",
       "        [ True,  True,  True, ...,  True,  True,  True],\n",
       "        [ True,  True,  True, ...,  True,  True,  True],\n",
       "        [ True,  True,  True, ...,  True,  True,  True]],\n",
       "\n",
       "       [[ True,  True,  True, ...,  True,  True,  True],\n",
       "        [ True,  True,  True, ...,  True,  True,  True],\n",
       "        [ True,  True,  True, ...,  True,  True,  True],\n",
       "        ...,\n",
       "        [ True,  True,  True, ...,  True,  True,  True],\n",
       "        [ True,  True,  True, ...,  True,  True,  True],\n",
       "        [ True,  True,  True, ...,  True,  True,  True]],\n",
       "\n",
       "       [[ True,  True,  True, ...,  True,  True,  True],\n",
       "        [ True,  True,  True, ...,  True,  True,  True],\n",
       "        [ True,  True,  True, ...,  True,  True,  True],\n",
       "        ...,\n",
       "...\n",
       "        ...,\n",
       "        [ True,  True,  True, ...,  True,  True,  True],\n",
       "        [ True,  True,  True, ...,  True,  True,  True],\n",
       "        [ True,  True,  True, ...,  True,  True,  True]],\n",
       "\n",
       "       [[False, False, False, ..., False, False, False],\n",
       "        [False, False, False, ..., False, False, False],\n",
       "        [False, False, False, ..., False, False, False],\n",
       "        ...,\n",
       "        [False, False, False, ..., False, False, False],\n",
       "        [False, False, False, ..., False, False, False],\n",
       "        [False, False, False, ..., False, False, False]],\n",
       "\n",
       "       [[False, False, False, ..., False, False, False],\n",
       "        [False, False, False, ..., False, False, False],\n",
       "        [False, False, False, ..., False, False, False],\n",
       "        ...,\n",
       "        [False, False, False, ..., False, False, False],\n",
       "        [False, False, False, ..., False, False, False],\n",
       "        [False, False, False, ..., False, False, False]]])\n",
       "Coordinates:\n",
       "  * x        (x) float64 -504.0 -488.0 -472.0 -456.0 ... 456.0 472.0 488.0 504.0\n",
       "  * y        (y) float64 -504.0 -488.0 -472.0 -456.0 ... 456.0 472.0 488.0 504.0\n",
       "  * z        (z) float64 -3.064e+03 -3.048e+03 ... 3.048e+03 3.064e+03"
      ]
     },
     "execution_count": 31,
     "metadata": {},
     "output_type": "execute_result"
    }
   ],
   "source": [
    "d['chi_FUV'] == d['rad_energy_density_FUV_cgs']/rad_energy_density_FUV_ISRF_cgs"
   ]
  },
  {
   "cell_type": "code",
   "execution_count": 32,
   "id": "20c162d7",
   "metadata": {},
   "outputs": [
    {
     "data": {
      "text/plain": [
       "((38,), (155648,), (155648,))"
      ]
     },
     "execution_count": 32,
     "metadata": {},
     "output_type": "execute_result"
    }
   ],
   "source": [
    "# Select midplane region\n",
    "zmin = -300\n",
    "zmax = 300\n",
    "d1 = d.sel(z=slice(zmin,zmax))\n",
    "\n",
    "# Get data as 1d array\n",
    "z = d1['z'].data.flatten()\n",
    "chi = d1['chi_FUV'].data.flatten()\n",
    "nH = d1['nH'].data.flatten()\n",
    "T = d1['T'].data.flatten()\n",
    "z.shape, chi.shape, nH.shape, "
   ]
  },
  {
   "cell_type": "markdown",
   "id": "417d53df",
   "metadata": {},
   "source": [
    "### Plot slices"
   ]
  },
  {
   "cell_type": "code",
   "execution_count": 33,
   "id": "1e4d44d2",
   "metadata": {},
   "outputs": [
    {
     "name": "stdout",
     "output_type": "stream",
     "text": [
      "{'norm': <matplotlib.colors.LogNorm object at 0x1534fcf2eb20>, 'cmap': 'viridis', 'cbar_kwargs': {'label': '$\\\\chi_{\\\\rm FUV}$'}}\n"
     ]
    },
    {
     "data": {
      "text/plain": [
       "[None, None]"
      ]
     },
     "execution_count": 33,
     "metadata": {},
     "output_type": "execute_result"
    },
    {
     "data": {
      "image/png": "[encoded data removed]",
      "text/plain": [
       "<Figure size 1008x360 with 4 Axes>"
      ]
     },
     "metadata": {
      "needs_background": "light"
     },
     "output_type": "display_data"
    }
   ],
   "source": [
    "fig,axes = plt.subplots(1,2,figsize=(14,5))\n",
    "d1['nH'].sel(z=0, method='nearest').plot.imshow(ax=axes[0], **d.dfi['nH']['imshow_args'])\n",
    "# Adjust the range for chi_FUV (default range is (1e-4,1e4))\n",
    "print(d.dfi['chi_FUV']['imshow_args'])\n",
    "d.dfi['chi_FUV']['imshow_args']['norm'] = mpl.colors.LogNorm(1e-1,1e1)\n",
    "d1['chi_FUV'].sel(z=0, method='nearest').plot.imshow(ax=axes[1], **d.dfi['chi_FUV']['imshow_args'])\n",
    "plt.setp(axes, aspect='equal')\n",
    "\n",
    "# See for more options for xarray imshow\n",
    "# http://xarray.pydata.org/en/stable/generated/xarray.plot.imshow.html"
   ]
  },
  {
   "cell_type": "markdown",
   "id": "97aab33b",
   "metadata": {},
   "source": [
    "## 2d histograms"
   ]
  },
  {
   "cell_type": "code",
   "execution_count": 34,
   "id": "29f1a770",
   "metadata": {},
   "outputs": [],
   "source": [
    "bins_x = np.logspace(-3,3,100)\n",
    "bins_y = np.logspace(-3,3,200)\n",
    "# Volume weighted histograms\n",
    "H, bine_x, bine_y =  np.histogram2d(x=nH, y=chi, bins=(bins_x,bins_y), density=False)\n",
    "# density-weighted histograms\n",
    "Hw, bine_x, bine_y =  np.histogram2d(x=nH, y=chi, bins=(bins_x,bins_y), weights=nH, density=False)"
   ]
  },
  {
   "cell_type": "code",
   "execution_count": 35,
   "id": "6572b32b",
   "metadata": {},
   "outputs": [
    {
     "data": {
      "image/png": "[encoded data removed]",
      "text/plain": [
       "<Figure size 936x360 with 2 Axes>"
      ]
     },
     "metadata": {
      "needs_background": "light"
     },
     "output_type": "display_data"
    }
   ],
   "source": [
    "fig,axes = plt.subplots(1,2,figsize=(13,5))\n",
    "p1 = axes[0].pcolormesh(bine_x, bine_y, H.T, norm=LogNorm())\n",
    "p2 = axes[1].pcolormesh(bine_x, bine_y, Hw.T, norm=LogNorm())\n",
    "plt.setp(axes, xscale='log', yscale='log', xlabel=r'$n_{\\rm H}$', ylabel=r'$\\chi_{\\rm FUV}$');\n",
    "plt.tight_layout()"
   ]
  },
  {
   "cell_type": "markdown",
   "id": "4ced8a88",
   "metadata": {},
   "source": [
    "### Calculate mass/volume-weighted z-profiles (and compare volume-weighted one with zprof)"
   ]
  },
  {
   "cell_type": "code",
   "execution_count": 36,
   "id": "f4cc92d1",
   "metadata": {},
   "outputs": [],
   "source": [
    "# http://xarray.pydata.org/en/stable/examples/area_weighted_temperature.html#Weighted-mean\n",
    "d1w = d1.weighted(d['nH'])"
   ]
  },
  {
   "cell_type": "code",
   "execution_count": 37,
   "id": "4a6af2ba",
   "metadata": {},
   "outputs": [],
   "source": [
    "d1m = d1.mean(dim=('x','y'))\n",
    "d1wm = d1w.mean(dim=('x','y'))"
   ]
  },
  {
   "cell_type": "code",
   "execution_count": 38,
   "id": "2485de21",
   "metadata": {},
   "outputs": [],
   "source": [
    "zp = s.read_zprof('whole', savdir=savdir)\n",
    "zp_ = zp.sel(time=200*u.Myr, method='nearest') # CAUTION: time should be given in Myr\n",
    "zp_ = zp_.sel(z=slice(zmin,zmax))"
   ]
  },
  {
   "cell_type": "code",
   "execution_count": 39,
   "id": "38b5200f",
   "metadata": {},
   "outputs": [
    {
     "data": {
      "text/plain": [
       "[<matplotlib.lines.Line2D at 0x1534f74da580>]"
      ]
     },
     "execution_count": 39,
     "metadata": {},
     "output_type": "execute_result"
    },
    {
     "data": {
      "image/png": "[encoded data removed]",
      "text/plain": [
       "<Figure size 432x432 with 1 Axes>"
      ]
     },
     "metadata": {
      "needs_background": "light"
     },
     "output_type": "display_data"
    }
   ],
   "source": [
    "plt.semilogy(d1m['z'], d1m['nH'])\n",
    "plt.semilogy(zp_.z, zp_.d, '--')"
   ]
  },
  {
   "cell_type": "code",
   "execution_count": 41,
   "id": "2deae724",
   "metadata": {},
   "outputs": [
    {
     "data": {
      "text/plain": [
       "<matplotlib.legend.Legend at 0x1534f6de4310>"
      ]
     },
     "execution_count": 41,
     "metadata": {},
     "output_type": "execute_result"
    },
    {
     "data": {
      "image/png": "[encoded data removed]",
      "text/plain": [
       "<Figure size 432x432 with 1 Axes>"
      ]
     },
     "metadata": {
      "needs_background": "light"
     },
     "output_type": "display_data"
    }
   ],
   "source": [
    "plt.semilogy(d1m['z'], d1m['chi_FUV'], label='vol-weighted')\n",
    "plt.semilogy(d1wm['z'], d1wm['chi_FUV'],'--', label='mass-weighted')\n",
    "plt.semilogy(zp_.z, (zp_.Erad1 + zp_.Erad2)*s.u.energy_density.cgs.value/rad_energy_density_FUV_ISRF_cgs,\n",
    "             c='red', ls=':', label='from zprof')\n",
    "plt.setp(plt.gca(), xlabel='z', ylabel='chi_FUV')\n",
    "plt.legend()"
   ]
  },
  {
   "cell_type": "markdown",
   "id": "f7ebbaf1",
   "metadata": {},
   "source": [
    "## Read history dump\n",
    "\n",
    "source codes: `Athena-TIGRESS/src/dump_history.c`, `Athena-TIGRESS/prob/tigress_ncr.c`, `pyathena/tigress_ncr/hst.py`\n"
   ]
  },
  {
   "cell_type": "code",
   "execution_count": 41,
   "id": "93af0f99",
   "metadata": {},
   "outputs": [],
   "source": [
    "h = s.read_hst()"
   ]
  },
  {
   "cell_type": "code",
   "execution_count": 42,
   "id": "b8958a09",
   "metadata": {},
   "outputs": [
    {
     "data": {
      "text/plain": [
       "Index(['time_code', 'time', 'time_orb', 'dt_code', 'dt', 'mass', 'mass_sp',\n",
       "       'mass_out', 'mass0', 'mass1', 'mass2', 'mass3', 'mass4', 'mass5',\n",
       "       'M_HI', 'Sigma_HI', 'M_H2', 'Sigma_H2', 'M_HII', 'Sigma_HII',\n",
       "       'Sigma_gas', 'Sigma_sp', 'Sigma_out', 'mass_snej', 'Sigma_snej', 'MH',\n",
       "       'Sigma_H', 'H', 'mf_c', 'vf_c', 'H_c', 'mf_u', 'vf_u', 'H_u', 'mf_w',\n",
       "       'vf_w', 'H_w', 'mf_h1', 'vf_h1', 'H_h1', 'mf_h2', 'vf_h2', 'H_h2',\n",
       "       'mf_2p', 'vf_2p', 'H_2p', 'KE', 'ME', 'v1', 'vA1', 'v1_2p', 'v2', 'vA2',\n",
       "       'v2_2p', 'v3', 'vA3', 'v3_2p', 'cs', 'Pth_mid', 'Pth_mid_2p',\n",
       "       'Pturb_mid', 'Pturb_mid_2p', 'nmid', 'nmid_2p', 'sfr10', 'sfr40',\n",
       "       'sfr100', 'Ltot_PH', 'Lesc_PH', 'Leps_PH', 'Ldust_PH', 'Qtot_PH',\n",
       "       'Qesc_PH', 'Qtot_cum_PH', 'Qesc_cum_PH', 'fesc_PH', 'fesc_cum_PH',\n",
       "       'Ltot_LW', 'Lesc_LW', 'Leps_LW', 'Ldust_LW', 'Qtot_LW', 'Qesc_LW',\n",
       "       'Qtot_cum_LW', 'Qesc_cum_LW', 'fesc_LW', 'fesc_cum_LW', 'Ltot_PE',\n",
       "       'Lesc_PE', 'Leps_PE', 'Ldust_PE', 'Qtot_PE', 'Qesc_PE', 'Qtot_cum_PE',\n",
       "       'Qesc_cum_PE', 'fesc_PE', 'fesc_cum_PE', 'xi_CR0'],\n",
       "      dtype='object')"
      ]
     },
     "execution_count": 42,
     "metadata": {},
     "output_type": "execute_result"
    }
   ],
   "source": [
    "h.columns"
   ]
  },
  {
   "cell_type": "code",
   "execution_count": 43,
   "id": "70d463a4",
   "metadata": {},
   "outputs": [
    {
     "data": {
      "text/plain": [
       "[Text(0.5, 0, 'time [Myr]'),\n",
       " Text(0, 0.5, '$\\\\Sigma_{\\\\rm SFR,10Myr}\\\\,[M_{\\\\rm sun}\\\\,{\\\\rm yr}^{-1}\\\\,{\\\\rm kpc}^{-2}]$')]"
      ]
     },
     "execution_count": 43,
     "metadata": {},
     "output_type": "execute_result"
    },
    {
     "data": {
      "image/png": "[encoded data removed]",
      "text/plain": [
       "<Figure size 432x432 with 1 Axes>"
      ]
     },
     "metadata": {
      "needs_background": "light"
     },
     "output_type": "display_data"
    }
   ],
   "source": [
    "plt.plot(h['time'], h['sfr10'])\n",
    "plt.setp(plt.gca(), xlabel='time [Myr]',\n",
    "         ylabel=r'$\\Sigma_{\\rm SFR,10Myr}\\,[M_{\\rm sun}\\,{\\rm yr}^{-1}\\,{\\rm kpc}^{-2}]$')"
   ]
  },
  {
   "cell_type": "markdown",
   "id": "0866c081",
   "metadata": {},
   "source": [
    "### Read zprof dump\n",
    "\n",
    "source code: `dump_zprof"
   ]
  },
  {
   "cell_type": "code",
   "execution_count": 5,
   "id": "f816b543",
   "metadata": {},
   "outputs": [],
   "source": [
    "s = sa.set_model('R8_16pc')"
   ]
  },
  {
   "cell_type": "code",
   "execution_count": 53,
   "id": "d78fae80",
   "metadata": {},
   "outputs": [
    {
     "data": {
      "text/plain": [
       "dict_keys(['athinput', 'timeit', 'hst', 'sn', 'vtk', 'vtk_id0', 'starpar_vtk', 'zprof', 'rst'])"
      ]
     },
     "execution_count": 53,
     "metadata": {},
     "output_type": "execute_result"
    }
   ],
   "source": [
    "s.files.keys()"
   ]
  },
  {
   "cell_type": "code",
   "execution_count": 6,
   "id": "a41c0ad5",
   "metadata": {},
   "outputs": [
    {
     "name": "stdout",
     "output_type": "stream",
     "text": [
      "/tigress/changgoo/TIGRESS-NCR/R8_16pc_NCR.full/zprof/R8_8pc_NCR.whole.zprof.nc\n"
     ]
    },
    {
     "name": "stderr",
     "output_type": "stream",
     "text": [
      "LoadSimTIGRESSNCR-WARNING: [read_zprof]: Could not netcdf to /tigress/changgoo/TIGRESS-NCR/R8_16pc_NCR.full/zprof/R8_8pc_NCR.whole.zprof.R8_16pc_NCR.full.mod.nc.\n"
     ]
    }
   ],
   "source": [
    "zp = s.read_zprof(phase='whole')"
   ]
  },
  {
   "cell_type": "code",
   "execution_count": 8,
   "id": "948cfae8",
   "metadata": {},
   "outputs": [
    {
     "ename": "TypeError",
     "evalue": "'method' object is not iterable",
     "output_type": "error",
     "traceback": [
      "\u001b[0;31m---------------------------------------------------------------------------\u001b[0m",
      "\u001b[0;31mTypeError\u001b[0m                                 Traceback (most recent call last)",
      "\u001b[0;32m<ipython-input-8-2c12d759191a>\u001b[0m in \u001b[0;36m<module>\u001b[0;34m\u001b[0m\n\u001b[0;32m----> 1\u001b[0;31m \u001b[0mlist\u001b[0m\u001b[0;34m(\u001b[0m\u001b[0mzp\u001b[0m\u001b[0;34m.\u001b[0m\u001b[0mvar\u001b[0m\u001b[0;34m)\u001b[0m\u001b[0;34m\u001b[0m\u001b[0;34m\u001b[0m\u001b[0m\n\u001b[0m",
      "\u001b[0;31mTypeError\u001b[0m: 'method' object is not iterable"
     ]
    }
   ],
   "source": [
    "zp.var"
   ]
  },
  {
   "cell_type": "code",
   "execution_count": 69,
   "id": "2c4398cd",
   "metadata": {},
   "outputs": [
    {
     "data": {
      "text/plain": [
       "Text(0, 0.5, '$\\\\langle n_{\\\\rm H}\\\\rangle\\\\;[{\\\\rm cm}^{-3}]$')"
      ]
     },
     "execution_count": 69,
     "metadata": {},
     "output_type": "execute_result"
    },
    {
     "data": {
      "image/png": "[encoded data removed]",
      "text/plain": [
       "<Figure size 432x432 with 1 Axes>"
      ]
     },
     "metadata": {
      "needs_background": "light"
     },
     "output_type": "display_data"
    }
   ],
   "source": [
    "y = zp['d']\n",
    "plt.semilogy(zp.z_kpc, y, alpha=0.01, c='grey')\n",
    "plt.plot(zp.z_kpc, y.mean(dim='time'), label='mean')\n",
    "plt.plot(zp.z_kpc, y.median(dim='time'), label='median')\n",
    "plt.xlabel(r'$z\\;[{\\rm kpc}]$')\n",
    "plt.ylabel(r'$\\langle n_{\\rm H}\\rangle\\;[{\\rm cm}^{-3}]$')\n",
    "#plt.legend(loc=3, fontsize=12)"
   ]
  },
  {
   "cell_type": "markdown",
   "id": "8f5619b4",
   "metadata": {},
   "source": [
    "# Reading starpar vtk"
   ]
  },
  {
   "cell_type": "code",
   "execution_count": 2,
   "id": "5a5235b0",
   "metadata": {},
   "outputs": [],
   "source": [
    "s = sa.set_model('R8_16pc')"
   ]
  },
  {
   "cell_type": "code",
   "execution_count": 4,
   "id": "3b165469",
   "metadata": {},
   "outputs": [
    {
     "name": "stdout",
     "output_type": "stream",
     "text": [
      "683 1000\n"
     ]
    }
   ],
   "source": [
    "print(len(s.nums),s.nums[-1])"
   ]
  },
  {
   "cell_type": "code",
   "execution_count": null,
   "id": "4ae359da",
   "metadata": {},
   "outputs": [],
   "source": []
  }
 ],
 "metadata": {
  "kernelspec": {
   "display_name": "Python 3",
   "language": "python",
   "name": "python3"
  },
  "language_info": {
   "codemirror_mode": {
    "name": "ipython",
    "version": 3
   },
   "file_extension": ".py",
   "mimetype": "text/x-python",
   "name": "python",
   "nbconvert_exporter": "python",
   "pygments_lexer": "ipython3",
   "version": "3.8.8"
  }
 },
 "nbformat": 4,
 "nbformat_minor": 5
}
